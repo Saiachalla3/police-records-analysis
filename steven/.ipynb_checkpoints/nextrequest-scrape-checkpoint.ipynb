{
 "cells": [
  {
   "cell_type": "markdown",
   "metadata": {},
   "source": [
    "# Running the NextRequest scraper\n",
    "*Author: Steven Yuan*\n",
    "\n",
    "This Jupyter notebook facilitates scraping data from NextRequest websites. **Use only for scraping; EDA goes in the `nextrequest-eda` notebook.** Currently, the scraper can only use the Firefox `geckodriver` - if more browser support is desired, please let me know. See the `nextrequest-selenium` notebook for an in-depth explanation of how the scraper works."
   ]
  },
  {
   "cell_type": "code",
   "execution_count": null,
   "metadata": {},
   "outputs": [],
   "source": [
    "!pip install selenium\n",
    "from selenium import webdriver\n",
    "from selenium.webdriver.firefox.options import Options\n",
    "from nextrequest_scraper import NextRequestScraper\n",
    "\n",
    "# Scraper options\n",
    "options = Options()\n",
    "options.headless = True"
   ]
  },
  {
   "cell_type": "markdown",
   "metadata": {},
   "source": [
    "Set your desired parameters and options here before running the scraper:"
   ]
  },
  {
   "cell_type": "code",
   "execution_count": null,
   "metadata": {},
   "outputs": [],
   "source": [
    "requests = [] # List of dictionaries containing scraped info on each request\n",
    "\n",
    "# Scraper parameters\n",
    "url = 'https://lacity.nextrequest.com/requests/' # URL to scrape from - ensure that it contains a backslash at the end!\n",
    "earliest_id = '17-1' # Earliest IDs in the databases\n",
    "requests_name = 'lacity_requests' # Name of CSV file and ZIP archive to export scraped data to\n",
    "\n",
    "num_requests = -1 # Number of requests to scrape\n",
    "cooldown = 1 # Cooldown between request accesses to prevent timeouts\n",
    "timeout = 10 # Timeout wait time between scraper runs in case of timeouts\n",
    "progress = 100 # Show progress every N requests that are scraped"
   ]
  },
  {
   "cell_type": "markdown",
   "metadata": {},
   "source": [
    "When you are sure that your parameters are set correctly, run the following cell:"
   ]
  },
  {
   "cell_type": "code",
   "execution_count": null,
   "metadata": {},
   "outputs": [],
   "source": [
    "# Instantiate the driver\n",
    "driver = webdriver.Firefox(options=options)\n",
    "\n",
    "# Scrape data!\n",
    "scraper = NextRequestScraper(driver, url)\n",
    "scraper.scrape(requests, earliest_id, requests_name=requests_name, \n",
    "               num_requests=num_requests, cooldown=cooldown, timeout=timeout, progress=progress)\n",
    "\n",
    "# Close the driver\n",
    "scraper.driver.close()"
   ]
  },
  {
   "cell_type": "markdown",
   "metadata": {},
   "source": [
    "Note that the scraper may stop scraping before all requests are reached. If this occurs, rerun the cell (currently working on a way to make the scraper completely automated). **Do not run the parameters cell if the scraper prematurely ends in this way. You will lose all progress that way as the `requests` list will be cleared.**"
   ]
  }
 ],
 "metadata": {
  "kernelspec": {
   "display_name": "Python 3",
   "language": "python",
   "name": "python3"
  },
  "language_info": {
   "codemirror_mode": {
    "name": "ipython",
    "version": 3
   },
   "file_extension": ".py",
   "mimetype": "text/x-python",
   "name": "python",
   "nbconvert_exporter": "python",
   "pygments_lexer": "ipython3",
   "version": "3.8.8"
  }
 },
 "nbformat": 4,
 "nbformat_minor": 1
}
