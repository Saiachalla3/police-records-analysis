{
 "cells": [
  {
   "cell_type": "markdown",
   "id": "9ea92427",
   "metadata": {},
   "source": [
    "My attempt to scrape NextRequest data using the `selenium` library:"
   ]
  },
  {
   "cell_type": "code",
   "execution_count": 18,
   "id": "0b235fe7",
   "metadata": {
    "pycharm": {
     "is_executing": true
    },
    "scrolled": true
   },
   "outputs": [
    {
     "name": "stdout",
     "output_type": "stream",
     "text": [
      "Requirement already satisfied: selenium in /Users/stevenyuan/opt/anaconda3/lib/python3.8/site-packages (3.141.0)\r\n",
      "Requirement already satisfied: urllib3 in /Users/stevenyuan/opt/anaconda3/lib/python3.8/site-packages (from selenium) (1.26.4)\r\n"
     ]
    }
   ],
   "source": [
    "!pip install selenium\n",
    "\n",
    "from selenium import webdriver\n",
    "from selenium.webdriver.firefox.options import Options\n",
    "\n",
    "from time import sleep\n",
    "import pandas as pd\n",
    "import numpy as np\n",
    "import re\n",
    "\n",
    "options = Options()\n",
    "# options.headless = True"
   ]
  },
  {
   "cell_type": "code",
   "execution_count": 11,
   "id": "ef7745d7",
   "metadata": {
    "pycharm": {
     "is_executing": true
    }
   },
   "outputs": [],
   "source": [
    "# Test URLs to extract data from\n",
    "urls = ['https://sandiego.nextrequest.com/requests', 'https://oaklandca.nextrequest.com/requests']"
   ]
  },
  {
   "cell_type": "code",
   "execution_count": 47,
   "id": "7dc0a275",
   "metadata": {
    "pycharm": {
     "is_executing": true
    },
    "scrolled": false
   },
   "outputs": [],
   "source": [
    "driver = webdriver.Firefox(options=options) # Instantiate a headless Firefox WebDriver\n",
    "\n",
    "# # Test to make sure the driver works\n",
    "# for url in urls:\n",
    "#     driver.get(url)\n",
    "#     print(driver.title)\n",
    "#     sleep(5)\n",
    "    \n",
    "# driver.close()"
   ]
  },
  {
   "cell_type": "code",
   "execution_count": 43,
   "id": "d8220c94",
   "metadata": {},
   "outputs": [
    {
     "name": "stdout",
     "output_type": "stream",
     "text": [
      "Request Published\n",
      "Public\n",
      "\n",
      "September 27, 2021, 10:40pm\n",
      "\n",
      "Request Closed\n",
      "Public\n",
      "02. Released\n",
      "All responsive documents have been released pursuant to the California Public Records Act.\n",
      "September 24, 2021, 2:40pm by Ginger Rodriguez, Public Records Administration Coordinator\n",
      "\n",
      "Document(s) Released\n",
      "Public\n",
      "88-0820.pdf\n",
      "September 24, 2021, 2:39pm by Ginger Rodriguez, Public Records Administration Coordinator\n",
      "\n",
      "Department Assignment\n",
      "Public\n",
      "Added: Development Services.\n",
      "September 16, 2021, 11:39am by Angela Laurita, Public Records Administration Manager\n",
      "\n",
      "Request Opened\n",
      "Public\n",
      "Request received via web\n",
      "September 16, 2021, 10:15am\n",
      "\n"
     ]
    }
   ],
   "source": [
    "driver.get(urls[0] + '/21-4915')\n",
    "event_titles = driver.find_elements_by_class_name('event-title')\n",
    "event_items = driver.find_elements_by_class_name('event-item')\n",
    "times = driver.find_elements_by_class_name('time-quotes')\n",
    "for title, item, time in list(zip(event_titles, event_items, times)):\n",
    "    print(title.text)\n",
    "    print(item.text)\n",
    "    print(time.text)\n",
    "    print()"
   ]
  },
  {
   "cell_type": "code",
   "execution_count": 45,
   "id": "1dd5a8bb",
   "metadata": {},
   "outputs": [],
   "source": [
    "from tqdm import tqdm"
   ]
  },
  {
   "cell_type": "code",
   "execution_count": 49,
   "id": "bb78a4f2",
   "metadata": {
    "collapsed": true
   },
   "outputs": [
    {
     "name": "stderr",
     "output_type": "stream",
     "text": [
      "  9%|▉         | 1/11 [00:01<00:12,  1.30s/it]"
     ]
    },
    {
     "name": "stdout",
     "output_type": "stream",
     "text": [
      "Request Published\n",
      "Public\n",
      "\n",
      "September 27, 2021, 10:40pm\n",
      "\n",
      "Request Closed\n",
      "Public\n",
      "02. Released\n",
      "All responsive documents have been released pursuant to the California Public Records Act.\n",
      "September 24, 2021, 3:41pm by Angela Laurita, Public Records Administration Manager\n",
      "\n",
      "Document(s) Released\n",
      "Public\n",
      "PRA 21-5049 SDPD 1180.xlsx\n",
      "September 24, 2021, 3:41pm by Angela Laurita, Public Records Administration Manager\n",
      "\n",
      "Department Assignment\n",
      "Public\n",
      "Added: Police.\n",
      "September 24, 2021, 11:13am by Angela Laurita, Public Records Administration Manager\n",
      "\n",
      "Request Opened\n",
      "Public\n",
      "Request received via web\n",
      "September 24, 2021, 10:02am\n",
      "\n",
      "\n"
     ]
    },
    {
     "name": "stderr",
     "output_type": "stream",
     "text": [
      "\r",
      " 18%|█▊        | 2/11 [00:02<00:09,  1.02s/it]"
     ]
    },
    {
     "name": "stdout",
     "output_type": "stream",
     "text": [
      "\n"
     ]
    },
    {
     "name": "stderr",
     "output_type": "stream",
     "text": [
      "\r",
      " 27%|██▋       | 3/11 [00:03<00:08,  1.02s/it]"
     ]
    },
    {
     "name": "stdout",
     "output_type": "stream",
     "text": [
      "Request Published\n",
      "Public\n",
      "\n",
      "September 30, 2021, 10:36pm\n",
      "\n",
      "Request Closed\n",
      "Public\n",
      "Referred to another agency\n",
      "The City of San Diego does not maintain the records requested. The requester was referred to another agency.\n",
      "September 27, 2021, 11:35am by Lori Hernandez, Public Records Administration-Program Coordinator\n",
      "\n",
      "Department Assignment\n",
      "Public\n",
      "Purchasing & Contracting\n",
      "September 24, 2021, 11:19am by Angela Laurita, Public Records Administration Manager\n",
      "\n",
      "Request Opened\n",
      "Public\n",
      "Request received via email\n",
      "September 24, 2021, 11:19am by Angela Laurita, Public Records Administration Manager\n",
      "\n",
      "\n"
     ]
    },
    {
     "name": "stderr",
     "output_type": "stream",
     "text": [
      "\r",
      " 36%|███▋      | 4/11 [00:03<00:06,  1.09it/s]"
     ]
    },
    {
     "name": "stdout",
     "output_type": "stream",
     "text": [
      "\n"
     ]
    },
    {
     "name": "stderr",
     "output_type": "stream",
     "text": [
      "\r",
      " 45%|████▌     | 5/11 [00:05<00:05,  1.01it/s]"
     ]
    },
    {
     "name": "stdout",
     "output_type": "stream",
     "text": [
      "Request Published\n",
      "Public\n",
      "\n",
      "September 30, 2021, 10:36pm\n",
      "\n",
      "Request Closed   Hide\n",
      "Public\n",
      "02a. Released - Redacted\n",
      "All responsive documents have been released except for portions redacted pursuant to:\n",
      "Juvenile suspect information [Welfare & Institutions Code section 827]\n",
      "Information related to a juvenile suspect is exempt from disclosure pursuant to Government Code section 6254(k) [Welfare & Institutions Code section 827].\n",
      "September 27, 2021, 11:42am by Lori Hernandez, Public Records Administration-Program Coordinator\n",
      "\n",
      "Document(s) Released to Requester\n",
      "Public\n",
      "PRA 21-5053_Gideon.xlsx\n",
      "September 27, 2021, 11:41am by Lori Hernandez, Public Records Administration-Program Coordinator\n",
      "\n",
      "Document(s) Released\n",
      "Public\n",
      "PRA 21-5053_SDPD.xlsx\n",
      "September 27, 2021, 11:41am by Lori Hernandez, Public Records Administration-Program Coordinator\n",
      "\n",
      "Document(s) Released to Requester\n",
      "Public\n",
      "Declaration Form 21-5053 SDPD GCS 6254 (f) Gideon.pdf\n",
      "September 24, 2021, 1:46pm by Lori Hernandez, Public Records Administration-Program Coordinator\n",
      "\n",
      "Department Assignment\n",
      "Public\n",
      "Police\n",
      "September 24, 2021, 11:44am\n",
      "\n",
      "Request Opened\n",
      "Public\n",
      "Request received via web\n",
      "September 24, 2021, 11:44am\n",
      "\n",
      "\n"
     ]
    },
    {
     "name": "stderr",
     "output_type": "stream",
     "text": [
      "\r",
      " 55%|█████▍    | 6/11 [00:05<00:04,  1.12it/s]"
     ]
    },
    {
     "name": "stdout",
     "output_type": "stream",
     "text": [
      "\n"
     ]
    },
    {
     "name": "stderr",
     "output_type": "stream",
     "text": [
      "\r",
      " 64%|██████▎   | 7/11 [00:06<00:03,  1.16it/s]"
     ]
    },
    {
     "name": "stdout",
     "output_type": "stream",
     "text": [
      "\n"
     ]
    },
    {
     "name": "stderr",
     "output_type": "stream",
     "text": [
      "\r",
      " 73%|███████▎  | 8/11 [00:07<00:02,  1.21it/s]"
     ]
    },
    {
     "name": "stdout",
     "output_type": "stream",
     "text": [
      "\n"
     ]
    },
    {
     "name": "stderr",
     "output_type": "stream",
     "text": [
      "\r",
      " 82%|████████▏ | 9/11 [00:07<00:01,  1.28it/s]"
     ]
    },
    {
     "name": "stdout",
     "output_type": "stream",
     "text": [
      "\n"
     ]
    },
    {
     "name": "stderr",
     "output_type": "stream",
     "text": [
      "\r",
      " 91%|█████████ | 10/11 [00:09<00:00,  1.13it/s]"
     ]
    },
    {
     "name": "stdout",
     "output_type": "stream",
     "text": [
      "Request Published\n",
      "Public\n",
      "\n",
      "September 30, 2021, 10:36pm\n",
      "\n",
      "Request Closed   Hide\n",
      "Public\n",
      "02a. Released - Redacted\n",
      "All responsive documents have been released except for portions redacted pursuant to:\n",
      "The public interest in the nondisclosure of personal identifying information clearly outweighs the public interest in disclosure. \n",
      "[Law enforcement investigation] Government Code section §6254(f)\n",
      "[records of complaints to, or investigations conducted by, or records of intelligence information or security procedures of, ….any state or local police agency... are exempt from disclosure]\n",
      "September 27, 2021, 11:49am by Lori Hernandez, Public Records Administration-Program Coordinator\n",
      "\n",
      "Document(s) Released\n",
      "Public\n",
      "PRA 21-5058 E21090033351_09202021_Redacted.pdf\n",
      "PRA 21-5058 E21090037419_09222021_Redacted.pdf\n",
      "September 27, 2021, 11:48am by Lori Hernandez, Public Records Administration-Program Coordinator\n",
      "\n",
      "Department Assignment\n",
      "Public\n",
      "Added: Police.\n",
      "September 24, 2021, 4:36pm by Angela Laurita, Public Records Administration Manager\n",
      "\n",
      "Request Opened\n",
      "Public\n",
      "Request received via web\n",
      "September 24, 2021, 4:31pm\n",
      "\n",
      "\n"
     ]
    },
    {
     "name": "stderr",
     "output_type": "stream",
     "text": [
      "100%|██████████| 11/11 [00:09<00:00,  1.13it/s]"
     ]
    },
    {
     "name": "stdout",
     "output_type": "stream",
     "text": [
      "\n"
     ]
    },
    {
     "name": "stderr",
     "output_type": "stream",
     "text": [
      "\n"
     ]
    }
   ],
   "source": [
    "for i in tqdm(range(5049, 5060)):\n",
    "    url = \"https://sandiego.nextrequest.com/requests/21-\" + str(i) \n",
    "    driver.get(url)\n",
    "    \n",
    "    event_titles = driver.find_elements_by_class_name('event-title')\n",
    "    event_items = driver.find_elements_by_class_name('event-item')\n",
    "    times = driver.find_elements_by_class_name('time-quotes')\n",
    "    \n",
    "    for title, item, time in list(zip(event_titles, event_items, times)):\n",
    "        print(title.text)\n",
    "        print(item.text)\n",
    "        print(time.text)\n",
    "        print()\n",
    "    \n",
    "    print()"
   ]
  },
  {
   "cell_type": "markdown",
   "id": "4339360a",
   "metadata": {},
   "source": [
    "**TO-DO**\n",
    "- Find HTML elements for the following: department name, request reason, points of contact (name of requester), documents\n",
    "- Modify loop to try and scrape all requests\n",
    "- Run on Google Colab?"
   ]
  }
 ],
 "metadata": {
  "kernelspec": {
   "display_name": "Python 3",
   "language": "python",
   "name": "python3"
  },
  "language_info": {
   "codemirror_mode": {
    "name": "ipython",
    "version": 3
   },
   "file_extension": ".py",
   "mimetype": "text/x-python",
   "name": "python",
   "nbconvert_exporter": "python",
   "pygments_lexer": "ipython3",
   "version": "3.8.8"
  }
 },
 "nbformat": 4,
 "nbformat_minor": 5
}
