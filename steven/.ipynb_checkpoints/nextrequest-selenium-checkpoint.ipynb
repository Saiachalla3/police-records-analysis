{
 "cells": [
  {
   "cell_type": "markdown",
   "id": "9ea92427",
   "metadata": {},
   "source": [
    "My attempt to scrape NextRequest data using the `selenium` library:"
   ]
  },
  {
   "cell_type": "code",
   "execution_count": 15,
   "id": "0b235fe7",
   "metadata": {
    "pycharm": {
     "is_executing": true
    },
    "scrolled": true
   },
   "outputs": [
    {
     "name": "stdout",
     "output_type": "stream",
     "text": [
      "Requirement already satisfied: selenium in /Users/stevenyuan/opt/anaconda3/lib/python3.8/site-packages (3.141.0)\r\n",
      "Requirement already satisfied: urllib3 in /Users/stevenyuan/opt/anaconda3/lib/python3.8/site-packages (from selenium) (1.26.4)\r\n"
     ]
    }
   ],
   "source": [
    "!pip install selenium\n",
    "\n",
    "from joblib import Parallel, delayed\n",
    "from selenium import webdriver\n",
    "from selenium.webdriver.firefox.options import Options\n",
    "from selenium.common.exceptions import NoSuchElementException\n",
    "\n",
    "import sys\n",
    "from tqdm import tqdm\n",
    "from time import sleep\n",
    "\n",
    "import pandas as pd\n",
    "import numpy as np\n",
    "import re\n",
    "\n",
    "# Options for the driver\n",
    "options = Options()\n",
    "options.headless = True"
   ]
  },
  {
   "cell_type": "code",
   "execution_count": null,
   "id": "7dc0a275",
   "metadata": {
    "pycharm": {
     "is_executing": true
    },
    "scrolled": false
   },
   "outputs": [],
   "source": [
    "driver = webdriver.Firefox(options=options) # Instantiate a headless Firefox WebDriver\n",
    "\n",
    "# # Test to make sure the driver works\n",
    "# for url in urls:\n",
    "#     driver.get(url)\n",
    "#     print(driver.title)\n",
    "#     sleep(5)\n",
    "    \n",
    "# driver.close()"
   ]
  },
  {
   "cell_type": "code",
   "execution_count": null,
   "id": "d8220c94",
   "metadata": {
    "collapsed": true,
    "pycharm": {
     "is_executing": true
    }
   },
   "outputs": [],
   "source": [
    "# %%timeit\n",
    "# # Test for retrieving message info from a specific request\n",
    "# driver = webdriver.Firefox(options=options)\n",
    "# driver.get('https://sandiego.nextrequest.com/requests/21-4915')\n",
    "# print(driver.title)\n",
    "\n",
    "# event_titles = driver.find_elements_by_class_name('event-title')\n",
    "# event_items = driver.find_elements_by_class_name('event-item')\n",
    "# times = driver.find_elements_by_class_name('time-quotes')\n",
    "# for title, item, time in list(zip(event_titles, event_items, times)):\n",
    "#     print(title.text)\n",
    "#     print(item.text)\n",
    "#     print(time.text)\n",
    "#     print()\n",
    "\n",
    "# driver.close()"
   ]
  },
  {
   "cell_type": "code",
   "execution_count": null,
   "id": "bb78a4f2",
   "metadata": {
    "pycharm": {
     "is_executing": true
    }
   },
   "outputs": [],
   "source": [
    "# # Loop test \n",
    "# for i in tqdm(range(5049, 5060)):\n",
    "#     url = \"https://sandiego.nextrequest.com/requests/21-\" + str(i) \n",
    "#     driver.get(url)\n",
    "    \n",
    "#     event_titles = driver.find_elements_by_class_name('event-title')\n",
    "#     event_items = driver.find_elements_by_class_name('event-item')\n",
    "#     times = driver.find_elements_by_class_name('time-quotes')\n",
    "    \n",
    "#     for title, item, time in list(zip(event_titles, event_items, times)):\n",
    "#         print(title.text)\n",
    "#         print(item.text)\n",
    "#         print(time.text)\n",
    "#         print()\n",
    "    \n",
    "#     print()"
   ]
  },
  {
   "cell_type": "code",
   "execution_count": 16,
   "id": "0e483b03",
   "metadata": {
    "pycharm": {
     "is_executing": true
    }
   },
   "outputs": [],
   "source": [
    "def scrape_record(url, request_id):\n",
    "    '''\n",
    "    Scrapes data about a given request on a NextRequest request database. For parallelization purposes.\n",
    "    '''\n",
    "    driver = webdriver.Firefox(options=options)\n",
    "    driver.get(url + request_id) # Attempt to access the record\n",
    "    \n",
    "    # If the record does not exist, return nothing\n",
    "    if (request_id not in driver.title):\n",
    "        return\n",
    "    \n",
    "    status, desc, date, depts, poc, events = [None] * 6 # Initialize variables \n",
    "    try: # Attempt to scrape relevant data\n",
    "        status = driver.find_element_by_class_name('request-status-label').text.strip() # Request status\n",
    "        desc = driver.find_element_by_class_name('request-text.row').text # Request description\n",
    "        date = driver.find_element_by_class_name('request_date').text # Request date\n",
    "        depts = driver.find_element_by_class_name('current-department').text.split(',') # Department(s) assigned to the request\n",
    "        poc = driver.find_element_by_class_name('request-detail').text # Person of contact\n",
    "\n",
    "        event_titles = driver.find_elements_by_class_name('event-title') # Title for each message\n",
    "        event_items = driver.find_elements_by_class_name('event-item') # Description for each message\n",
    "        time_quotes = driver.find_elements_by_class_name('time-quotes') # Time string for each message\n",
    "\n",
    "        events = pd.DataFrame({ # DataFrame consisting of all messages\n",
    "            'title': get_webelement_text(event_titles),\n",
    "            'item': get_webelement_text(event_items), \n",
    "            'time': get_webelement_text(time_quotes)\n",
    "            })\n",
    "    except NoSuchElementException: # Catch exception thrown if a specific element cannot be found, and silently pass\n",
    "        pass\n",
    "    except: # If some other exception occurs, print information about the exception\n",
    "        print('Unexpected error:', sys.exc_info()[0])\n",
    "    finally: # Return the request\n",
    "        driver.close()\n",
    "\n",
    "        return {'request_id': request_id,\n",
    "        'status': status,\n",
    "        'request_desc': desc,\n",
    "        'request_date': date,\n",
    "        'depts': depts,\n",
    "        'poc': poc,\n",
    "        'msgs': events}\n",
    "\n",
    "def get_webelement_text(webelement):\n",
    "    '''\n",
    "    Gets the text of each web element in a list, if such a list exists\n",
    "    '''\n",
    "    return list(map(lambda x: x.text, webelement)) if (webelement is not None) else None\n",
    "\n",
    "def get_city_from_url(url):\n",
    "    '''\n",
    "    Finds the city name from the NextRequest URL\n",
    "    '''\n",
    "    return re.findall(r'(?<=https://)[a-zA-Z]*', url)[0]"
   ]
  },
  {
   "cell_type": "code",
   "execution_count": 43,
   "id": "294374c9",
   "metadata": {
    "pycharm": {
     "is_executing": true
    }
   },
   "outputs": [],
   "source": [
    "earliest_year = 21 # Earliest year to search requests for\n",
    "latest_year = 21 # Latest year to search request for\n",
    "id_start = 1 # ID value to start from\n",
    "id_range = 100 # Number of IDs to try for each year\n",
    "cooldown = 1 # Amount of time, in seconds, to wait between website accesses\n",
    "\n",
    "# List of all request IDs\n",
    "request_ids = [str(year) + '-' + str(num) for num in range(id_start, id_range + id_start) \n",
    "                                       for year in range(earliest_year, latest_year + 1)]\n",
    "\n",
    "# URLs to extract data from\n",
    "urls = ['https://sandiego.nextrequest.com/requests/', 'https://oaklandca.nextrequest.com/requests/']"
   ]
  },
  {
   "cell_type": "code",
   "execution_count": 41,
   "id": "a5f3b130",
   "metadata": {
    "pycharm": {
     "is_executing": true
    }
   },
   "outputs": [
    {
     "name": "stderr",
     "output_type": "stream",
     "text": [
      "[Parallel(n_jobs=-1)]: Using backend ThreadingBackend with 8 concurrent workers.\n",
      "[Parallel(n_jobs=-1)]: Done   2 tasks      | elapsed:   19.0s\n",
      "[Parallel(n_jobs=-1)]: Done   9 tasks      | elapsed:   30.0s\n",
      "[Parallel(n_jobs=-1)]: Done  16 tasks      | elapsed:   52.3s\n",
      "[Parallel(n_jobs=-1)]: Done  25 tasks      | elapsed:  1.2min\n",
      "[Parallel(n_jobs=-1)]: Done  34 tasks      | elapsed:  1.6min\n",
      "[Parallel(n_jobs=-1)]: Done  45 tasks      | elapsed:  2.1min\n",
      "[Parallel(n_jobs=-1)]: Done  56 tasks      | elapsed:  2.6min\n",
      "[Parallel(n_jobs=-1)]: Done  69 tasks      | elapsed:  3.1min\n",
      "[Parallel(n_jobs=-1)]: Done  82 tasks      | elapsed:  3.6min\n",
      "[Parallel(n_jobs=-1)]: Done  96 out of 100 | elapsed:  4.2min remaining:   10.5s\n",
      "[Parallel(n_jobs=-1)]: Done 100 out of 100 | elapsed:  4.3min finished\n"
     ]
    }
   ],
   "source": [
    "# Parallelized script\n",
    "sd_requests = Parallel(n_jobs=-1, prefer='threads', verbose=10)(delayed(lambda i: scrape_record(urls[0], i))(request_id) for request_id in request_ids)"
   ]
  },
  {
   "cell_type": "code",
   "execution_count": 38,
   "id": "253e2722",
   "metadata": {
    "pycharm": {
     "is_executing": true
    },
    "scrolled": false
   },
   "outputs": [
    {
     "name": "stderr",
     "output_type": "stream",
     "text": [
      "100%|██████████| 100/100 [04:16<00:00,  2.56s/it]\n"
     ]
    }
   ],
   "source": [
    "# Non-parallelized script\n",
    "driver = webdriver.Firefox(options=options) # Headless (non-visible) Firefox WebDriver\n",
    "\n",
    "sd_requests = [] # List of dictionaries containing information on each request\n",
    "\n",
    "for year in range(earliest_year, latest_year + 1):\n",
    "    for num in tqdm(range(id_start, id_range + id_start)):\n",
    "        request_id = str(year) + '-' + str(num) # NextRequest request IDs are a two-digit year and a number, with a dash in between\n",
    "        url = 'https://sandiego.nextrequest.com/requests/' + request_id\n",
    "        driver.get(url) # Attempt to access the record\n",
    "        \n",
    "        # print(driver.title) # For testing purposes\n",
    "        \n",
    "        # If the record does not exist, then move on to the next ID\n",
    "        if (request_id not in driver.title):\n",
    "            continue\n",
    "            \n",
    "        status, desc, date, depts, poc, events = [None] * 6 # Initialize variables \n",
    "        try: # Attempt to scrape relevant data\n",
    "            status = driver.find_element_by_class_name('request-status-label').text.strip() # Request status\n",
    "            desc = driver.find_element_by_class_name('request-text.row').text # Request description\n",
    "            date = driver.find_element_by_class_name('request_date').text # Request date\n",
    "            depts = driver.find_element_by_class_name('current-department').text # Department(s) assigned to the request\n",
    "            poc = driver.find_element_by_class_name('request-detail').text # Person of contact\n",
    "        \n",
    "            event_titles = driver.find_elements_by_class_name('event-title') # Title for each message\n",
    "            event_items = driver.find_elements_by_class_name('event-item') # Description for each message\n",
    "            time_quotes = driver.find_elements_by_class_name('time-quotes') # Time string for each message\n",
    "            \n",
    "            events = { # Dictionary of all messages\n",
    "                'title': get_webelement_text(event_titles),\n",
    "                'item': get_webelement_text(event_items), \n",
    "                'time': get_webelement_text(time_quotes)\n",
    "                } \n",
    "        except NoSuchElementException: # Catch exception thrown if a specific element cannot be found, and silently pass\n",
    "            pass\n",
    "        except: # If some other exception occurs, print information about the exceptionn\n",
    "            print('Unexpected error:', sys.exc_info()[0])\n",
    "        finally: # Add request to list\n",
    "            sd_requests.append({\n",
    "                'request_id': request_id,\n",
    "                'status': status,\n",
    "                'request_desc': desc,\n",
    "                'request_date': date,\n",
    "                'depts': depts,\n",
    "                'poc': poc,\n",
    "                'msgs': events\n",
    "            })\n",
    "\n",
    "        sleep(cooldown) # Cooldown between requests. TO-DO: can we write a script so that this isn't necessary?\n",
    "        \n",
    "driver.close()"
   ]
  },
  {
   "cell_type": "code",
   "execution_count": 42,
   "id": "3933fcdc",
   "metadata": {
    "collapsed": true
   },
   "outputs": [
    {
     "data": {
      "text/html": [
       "<div>\n",
       "<style scoped>\n",
       "    .dataframe tbody tr th:only-of-type {\n",
       "        vertical-align: middle;\n",
       "    }\n",
       "\n",
       "    .dataframe tbody tr th {\n",
       "        vertical-align: top;\n",
       "    }\n",
       "\n",
       "    .dataframe thead th {\n",
       "        text-align: right;\n",
       "    }\n",
       "</style>\n",
       "<table border=\"1\" class=\"dataframe\">\n",
       "  <thead>\n",
       "    <tr style=\"text-align: right;\">\n",
       "      <th></th>\n",
       "      <th>request_id</th>\n",
       "      <th>status</th>\n",
       "      <th>request_desc</th>\n",
       "      <th>request_date</th>\n",
       "      <th>depts</th>\n",
       "      <th>poc</th>\n",
       "      <th>msgs</th>\n",
       "    </tr>\n",
       "  </thead>\n",
       "  <tbody>\n",
       "    <tr>\n",
       "      <th>0</th>\n",
       "      <td>21-1</td>\n",
       "      <td>CLOSED</td>\n",
       "      <td>What money has been paid to the city of San Di...</td>\n",
       "      <td>January 1, 2021 via web</td>\n",
       "      <td>[Code Enforcement]</td>\n",
       "      <td>Ginger Rodriguez</td>\n",
       "      <td>title  \\\n",
       "0      Req...</td>\n",
       "    </tr>\n",
       "    <tr>\n",
       "      <th>1</th>\n",
       "      <td>21-2</td>\n",
       "      <td>CLOSED</td>\n",
       "      <td>Address for Russell and Verna Giles of home th...</td>\n",
       "      <td>January 1, 2021 via web</td>\n",
       "      <td>[Public Records Administration]</td>\n",
       "      <td>Angela Laurita</td>\n",
       "      <td>title  \\\n",
       "0      Req...</td>\n",
       "    </tr>\n",
       "    <tr>\n",
       "      <th>2</th>\n",
       "      <td>21-3</td>\n",
       "      <td>CLOSED</td>\n",
       "      <td>9095 Rio San Diego Dr APN: 438051130\\nOpen Bui...</td>\n",
       "      <td>January 1, 2021 via web</td>\n",
       "      <td>[Code Enforcement]</td>\n",
       "      <td>Ginger Rodriguez</td>\n",
       "      <td>title  \\\n",
       "0      Req...</td>\n",
       "    </tr>\n",
       "    <tr>\n",
       "      <th>3</th>\n",
       "      <td>21-4</td>\n",
       "      <td>CLOSED</td>\n",
       "      <td>9095 San Diego Dr APN: 4380511300\\nOpen Fire C...</td>\n",
       "      <td>January 1, 2021 via web</td>\n",
       "      <td>[Fire-Rescue]</td>\n",
       "      <td>Angela Laurita</td>\n",
       "      <td>title  \\\n",
       "0      Req...</td>\n",
       "    </tr>\n",
       "    <tr>\n",
       "      <th>4</th>\n",
       "      <td>21-5</td>\n",
       "      <td>CLOSED</td>\n",
       "      <td>9095 Rio San Diego Dr APN: 4380511300\\nCertifi...</td>\n",
       "      <td>January 1, 2021 via web</td>\n",
       "      <td>[Development Services]</td>\n",
       "      <td>Ginger Rodriguez</td>\n",
       "      <td>title  \\\n",
       "0      Req...</td>\n",
       "    </tr>\n",
       "    <tr>\n",
       "      <th>...</th>\n",
       "      <td>...</td>\n",
       "      <td>...</td>\n",
       "      <td>...</td>\n",
       "      <td>...</td>\n",
       "      <td>...</td>\n",
       "      <td>...</td>\n",
       "      <td>...</td>\n",
       "    </tr>\n",
       "    <tr>\n",
       "      <th>94</th>\n",
       "      <td>21-96</td>\n",
       "      <td>CLOSED</td>\n",
       "      <td>Subject: Public Records/OPRA/FOIA Request\\nTo ...</td>\n",
       "      <td>January 7, 2021 via fax</td>\n",
       "      <td>[Department of Finance]</td>\n",
       "      <td>Stephanie Hoover</td>\n",
       "      <td>title  \\\n",
       "0      Req...</td>\n",
       "    </tr>\n",
       "    <tr>\n",
       "      <th>95</th>\n",
       "      <td>21-97</td>\n",
       "      <td>CLOSED</td>\n",
       "      <td>I'm hoping to get the latest set of data for N...</td>\n",
       "      <td>January 7, 2021 via web</td>\n",
       "      <td>[Police,  Public Records Administration]</td>\n",
       "      <td>Angela Laurita</td>\n",
       "      <td>title  \\\n",
       "0      Req...</td>\n",
       "    </tr>\n",
       "    <tr>\n",
       "      <th>96</th>\n",
       "      <td>21-98</td>\n",
       "      <td>CLOSED</td>\n",
       "      <td>Call logs, notes, recordings, etc. for the fol...</td>\n",
       "      <td>January 7, 2021 via web</td>\n",
       "      <td>[Police]</td>\n",
       "      <td>Angela Laurita</td>\n",
       "      <td>title  \\\n",
       "0...</td>\n",
       "    </tr>\n",
       "    <tr>\n",
       "      <th>97</th>\n",
       "      <td>21-99</td>\n",
       "      <td>CLOSED</td>\n",
       "      <td>Request information (CAD Reports/notes/logs/et...</td>\n",
       "      <td>January 7, 2021 via web</td>\n",
       "      <td>[Police,  Public Records Administration]</td>\n",
       "      <td>Angela Laurita</td>\n",
       "      <td>title  \\\n",
       "0...</td>\n",
       "    </tr>\n",
       "    <tr>\n",
       "      <th>98</th>\n",
       "      <td>21-100</td>\n",
       "      <td>CLOSED</td>\n",
       "      <td>Please provide copies of all versions of \"Week...</td>\n",
       "      <td>January 7, 2021 via web</td>\n",
       "      <td>[Police,  Public Records Administration]</td>\n",
       "      <td>Angela Laurita</td>\n",
       "      <td>title  \\\n",
       "0      Req...</td>\n",
       "    </tr>\n",
       "  </tbody>\n",
       "</table>\n",
       "<p>99 rows × 7 columns</p>\n",
       "</div>"
      ],
      "text/plain": [
       "   request_id  status                                       request_desc  \\\n",
       "0        21-1  CLOSED  What money has been paid to the city of San Di...   \n",
       "1        21-2  CLOSED  Address for Russell and Verna Giles of home th...   \n",
       "2        21-3  CLOSED  9095 Rio San Diego Dr APN: 438051130\\nOpen Bui...   \n",
       "3        21-4  CLOSED  9095 San Diego Dr APN: 4380511300\\nOpen Fire C...   \n",
       "4        21-5  CLOSED  9095 Rio San Diego Dr APN: 4380511300\\nCertifi...   \n",
       "..        ...     ...                                                ...   \n",
       "94      21-96  CLOSED  Subject: Public Records/OPRA/FOIA Request\\nTo ...   \n",
       "95      21-97  CLOSED  I'm hoping to get the latest set of data for N...   \n",
       "96      21-98  CLOSED  Call logs, notes, recordings, etc. for the fol...   \n",
       "97      21-99  CLOSED  Request information (CAD Reports/notes/logs/et...   \n",
       "98     21-100  CLOSED  Please provide copies of all versions of \"Week...   \n",
       "\n",
       "               request_date                                     depts  \\\n",
       "0   January 1, 2021 via web                        [Code Enforcement]   \n",
       "1   January 1, 2021 via web           [Public Records Administration]   \n",
       "2   January 1, 2021 via web                        [Code Enforcement]   \n",
       "3   January 1, 2021 via web                             [Fire-Rescue]   \n",
       "4   January 1, 2021 via web                    [Development Services]   \n",
       "..                      ...                                       ...   \n",
       "94  January 7, 2021 via fax                   [Department of Finance]   \n",
       "95  January 7, 2021 via web  [Police,  Public Records Administration]   \n",
       "96  January 7, 2021 via web                                  [Police]   \n",
       "97  January 7, 2021 via web  [Police,  Public Records Administration]   \n",
       "98  January 7, 2021 via web  [Police,  Public Records Administration]   \n",
       "\n",
       "                 poc                                               msgs  \n",
       "0   Ginger Rodriguez                             title  \\\n",
       "0      Req...  \n",
       "1     Angela Laurita                             title  \\\n",
       "0      Req...  \n",
       "2   Ginger Rodriguez                             title  \\\n",
       "0      Req...  \n",
       "3     Angela Laurita                             title  \\\n",
       "0      Req...  \n",
       "4   Ginger Rodriguez                             title  \\\n",
       "0      Req...  \n",
       "..               ...                                                ...  \n",
       "94  Stephanie Hoover                             title  \\\n",
       "0      Req...  \n",
       "95    Angela Laurita                             title  \\\n",
       "0      Req...  \n",
       "96    Angela Laurita                                      title  \\\n",
       "0...  \n",
       "97    Angela Laurita                                      title  \\\n",
       "0...  \n",
       "98    Angela Laurita                             title  \\\n",
       "0      Req...  \n",
       "\n",
       "[99 rows x 7 columns]"
      ]
     },
     "execution_count": 42,
     "metadata": {},
     "output_type": "execute_result"
    }
   ],
   "source": [
    "sd_requests = [x for x in sd_requests if x['status'] is not None]\n",
    "sd_requests_df = pd.DataFrame(sd_requests)\n",
    "sd_requests_df"
   ]
  },
  {
   "cell_type": "code",
   "execution_count": 40,
   "id": "f8814bc5",
   "metadata": {
    "collapsed": true,
    "pycharm": {
     "is_executing": true
    }
   },
   "outputs": [
    {
     "data": {
      "text/plain": [
       "{'title': ['Request Published\\nPublic',\n",
       "  'Request Closed\\nPublic',\n",
       "  'Department Assignment\\nPublic',\n",
       "  'Department Assignment\\nPublic',\n",
       "  'Department Assignment\\nPublic',\n",
       "  'Request Opened\\nPublic'],\n",
       " 'item': ['',\n",
       "  'No responsive documents\\nThe City of San Diego has no responsive documents.',\n",
       "  'Removed: Office of the Independent Budget Analyst.',\n",
       "  'Added: Code Enforcement.',\n",
       "  'Office of the Independent Budget Analyst',\n",
       "  'Request received via web'],\n",
       " 'time': ['January 15, 2021, 9:37pm',\n",
       "  'January 12, 2021, 2:37pm by Ginger Rodriguez, Public Records Administration Coordinator',\n",
       "  'January 5, 2021, 7:04am by Angela Laurita, Public Records Administration Manager',\n",
       "  'January 4, 2021, 6:58am by Lori Hernandez, Public Records Administration-Program Coordinator',\n",
       "  'January 1, 2021, 9:52am',\n",
       "  'January 1, 2021, 9:52am']}"
      ]
     },
     "metadata": {},
     "output_type": "display_data"
    }
   ],
   "source": [
    "# Example showing how to see each request's message log: the following will display all the messages for request 21-1\n",
    "msgs_21_1 = sd_requests_df['msgs'][0]\n",
    "display(msgs_21_1)"
   ]
  },
  {
   "cell_type": "code",
   "execution_count": 36,
   "id": "6d0944d6",
   "metadata": {
    "collapsed": true,
    "pycharm": {
     "is_executing": true
    }
   },
   "outputs": [
    {
     "data": {
      "text/plain": [
       "{1: True,\n",
       " 2: True,\n",
       " 3: True,\n",
       " 4: True,\n",
       " 5: True,\n",
       " 6: True,\n",
       " 7: True,\n",
       " 8: True,\n",
       " 9: True,\n",
       " 10: True,\n",
       " 11: True,\n",
       " 12: True,\n",
       " 13: True,\n",
       " 14: True,\n",
       " 15: True,\n",
       " 16: True,\n",
       " 17: True,\n",
       " 18: True,\n",
       " 19: True,\n",
       " 20: True,\n",
       " 21: True,\n",
       " 22: True,\n",
       " 23: True,\n",
       " 24: True,\n",
       " 25: True,\n",
       " 26: True,\n",
       " 27: True,\n",
       " 28: True,\n",
       " 29: True,\n",
       " 30: True,\n",
       " 31: True,\n",
       " 32: True,\n",
       " 33: True,\n",
       " 34: True,\n",
       " 35: True,\n",
       " 36: True,\n",
       " 37: True,\n",
       " 38: True,\n",
       " 39: True,\n",
       " 40: True,\n",
       " 41: True,\n",
       " 42: True,\n",
       " 43: True,\n",
       " 44: True,\n",
       " 45: True,\n",
       " 46: True,\n",
       " 47: True,\n",
       " 48: True,\n",
       " 49: True,\n",
       " 50: True,\n",
       " 51: True,\n",
       " 52: True,\n",
       " 53: True,\n",
       " 54: True,\n",
       " 55: True,\n",
       " 56: True,\n",
       " 57: True,\n",
       " 58: True,\n",
       " 59: True,\n",
       " 60: True,\n",
       " 61: True,\n",
       " 62: True,\n",
       " 63: True,\n",
       " 64: True,\n",
       " 65: True,\n",
       " 66: True,\n",
       " 67: True,\n",
       " 68: True,\n",
       " 69: True,\n",
       " 70: True,\n",
       " 71: True,\n",
       " 72: True,\n",
       " 73: False,\n",
       " 74: True,\n",
       " 75: True,\n",
       " 76: True,\n",
       " 77: True,\n",
       " 78: True,\n",
       " 79: True,\n",
       " 80: True,\n",
       " 81: True,\n",
       " 82: True,\n",
       " 83: True,\n",
       " 84: True,\n",
       " 85: True,\n",
       " 86: True,\n",
       " 87: True,\n",
       " 88: True,\n",
       " 89: True,\n",
       " 90: True,\n",
       " 91: True,\n",
       " 92: True,\n",
       " 93: True,\n",
       " 94: True,\n",
       " 95: True,\n",
       " 96: True,\n",
       " 97: True,\n",
       " 98: True,\n",
       " 99: True,\n",
       " 100: True}"
      ]
     },
     "metadata": {},
     "output_type": "display_data"
    }
   ],
   "source": [
    "# Create a dictionary showing whether a given request was scraped or not (does not account for requests that do not exist)\n",
    "missing_requests = {i: (('21-' + str(i)) in sd_requests_df['request_id'].to_numpy()) for i in range(id_start, id_range + id_start)}\n",
    "display(missing_requests)"
   ]
  },
  {
   "cell_type": "code",
   "execution_count": null,
   "id": "856c5c32",
   "metadata": {
    "pycharm": {
     "is_executing": true
    }
   },
   "outputs": [],
   "source": [
    "num = 10\n",
    "ID = '21-' + str(num)\n",
    "\n",
    "print('{} present in sd_requests_df?: {}'.format(ID, missing_requests[num]))\n",
    "display(sd_requests_df.query('request_id == @ID'))"
   ]
  },
  {
   "cell_type": "markdown",
   "id": "4339360a",
   "metadata": {},
   "source": [
    "### TO-DO\n",
    "- **Figure out a way to avoid requests being skipped over - increase cooldown time?**\n",
    "- Changes data structure for 'Messages' column to dict\n",
    "- Include information about documents - scrape info about them from requests, scrape the database of documents\n",
    "- Run on Google Colab?"
   ]
  },
  {
   "cell_type": "code",
   "execution_count": null,
   "id": "bde9857f",
   "metadata": {},
   "outputs": [],
   "source": []
  }
 ],
 "metadata": {
  "kernelspec": {
   "display_name": "Python 3",
   "language": "python",
   "name": "python3"
  }
 },
 "nbformat": 4,
 "nbformat_minor": 5
}
