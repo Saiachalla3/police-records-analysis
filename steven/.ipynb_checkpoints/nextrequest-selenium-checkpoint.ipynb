{
 "cells": [
  {
   "cell_type": "markdown",
   "id": "7615a964",
   "metadata": {},
   "source": [
    "My attempt to scrape NextRequest data using the `selenium` library:"
   ]
  },
  {
   "cell_type": "code",
   "execution_count": 15,
   "id": "f2d1c866",
   "metadata": {
    "scrolled": true
   },
   "outputs": [
    {
     "name": "stdout",
     "output_type": "stream",
     "text": [
      "Requirement already satisfied: selenium in /Users/stevenyuan/opt/anaconda3/lib/python3.8/site-packages (3.141.0)\r\n",
      "Requirement already satisfied: urllib3 in /Users/stevenyuan/opt/anaconda3/lib/python3.8/site-packages (from selenium) (1.26.4)\r\n"
     ]
    }
   ],
   "source": [
    "!pip install selenium\n",
    "\n",
    "from selenium import webdriver\n",
    "from selenium.webdriver.firefox.options import Options\n",
    "\n",
    "from time import sleep\n",
    "import pandas as pd\n",
    "import numpy as np\n",
    "\n"
   ]
  },
  {
   "cell_type": "code",
   "execution_count": 19,
   "id": "e0787fe6",
   "metadata": {},
   "outputs": [],
   "source": [
    "urls = ['https://oaklandca.nextrequest.com/requests', 'https://sandiego.nextrequest.com/requests']"
   ]
  },
  {
   "cell_type": "code",
   "execution_count": 22,
   "id": "a5ae01f7",
   "metadata": {},
   "outputs": [],
   "source": [
    "driver = webdriver.Firefox('.')"
   ]
  },
  {
   "cell_type": "code",
   "execution_count": 23,
   "id": "f41a26bf",
   "metadata": {},
   "outputs": [],
   "source": [
    "for url in urls:\n",
    "    driver.get(url)\n",
    "    sleep(5)"
   ]
  },
  {
   "cell_type": "code",
   "execution_count": null,
   "id": "e76a5340",
   "metadata": {},
   "outputs": [],
   "source": []
  }
 ],
 "metadata": {
  "kernelspec": {
   "display_name": "Python 3",
   "language": "python",
   "name": "python3"
  },
  "language_info": {
   "codemirror_mode": {
    "name": "ipython",
    "version": 3
   },
   "file_extension": ".py",
   "mimetype": "text/x-python",
   "name": "python",
   "nbconvert_exporter": "python",
   "pygments_lexer": "ipython3",
   "version": "3.8.8"
  }
 },
 "nbformat": 4,
 "nbformat_minor": 5
}
