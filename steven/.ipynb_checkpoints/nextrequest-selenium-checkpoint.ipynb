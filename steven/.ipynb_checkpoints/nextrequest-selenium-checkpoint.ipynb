{
 "cells": [
  {
   "cell_type": "markdown",
   "id": "9ea92427",
   "metadata": {},
   "source": [
    "My attempt to scrape NextRequest data using the `selenium` library:"
   ]
  },
  {
   "cell_type": "code",
   "execution_count": 1,
   "id": "0b235fe7",
   "metadata": {
    "pycharm": {
     "is_executing": true
    },
    "scrolled": true
   },
   "outputs": [
    {
     "name": "stdout",
     "output_type": "stream",
     "text": [
      "Requirement already satisfied: selenium in /Users/stevenyuan/opt/anaconda3/lib/python3.8/site-packages (3.141.0)\r\n",
      "Requirement already satisfied: urllib3 in /Users/stevenyuan/opt/anaconda3/lib/python3.8/site-packages (from selenium) (1.26.4)\r\n"
     ]
    }
   ],
   "source": [
    "!pip install selenium\n",
    "\n",
    "from selenium import webdriver\n",
    "from selenium.webdriver.firefox.options import Options\n",
    "\n",
    "from tqdm import tqdm\n",
    "from time import sleep\n",
    "\n",
    "import pandas as pd\n",
    "import numpy as np\n",
    "import re\n",
    "\n",
    "# Options for the driver\n",
    "options = Options()\n",
    "options.headless = True"
   ]
  },
  {
   "cell_type": "code",
   "execution_count": 2,
   "id": "7dc0a275",
   "metadata": {
    "pycharm": {
     "is_executing": true
    },
    "scrolled": false
   },
   "outputs": [],
   "source": [
    "driver = webdriver.Firefox(options=options) # Instantiate a headless Firefox WebDriver\n",
    "\n",
    "# # Test to make sure the driver works\n",
    "# for url in urls:\n",
    "#     driver.get(url)\n",
    "#     print(driver.title)\n",
    "#     sleep(5)\n",
    "    \n",
    "# driver.close()"
   ]
  },
  {
   "cell_type": "code",
   "execution_count": 3,
   "id": "ef7745d7",
   "metadata": {
    "pycharm": {
     "is_executing": true
    }
   },
   "outputs": [],
   "source": [
    "# Test URLs to extract data from\n",
    "urls = ['https://sandiego.nextrequest.com/requests', 'https://oaklandca.nextrequest.com/requests']"
   ]
  },
  {
   "cell_type": "code",
   "execution_count": 11,
   "id": "d8220c94",
   "metadata": {
    "pycharm": {
     "is_executing": true
    }
   },
   "outputs": [
    {
     "name": "stdout",
     "output_type": "stream",
     "text": [
      "Request 21-4915 - NextRequest - Modern FOIA & Public Records Request Software\n"
     ]
    }
   ],
   "source": [
    "# Test for retrieving message info from a specific request\n",
    "driver.get(urls[0] + '/21-4915')\n",
    "print(driver.title)\n",
    "\n",
    "# event_titles = driver.find_elements_by_class_name('event-title')\n",
    "# event_items = driver.find_elements_by_class_name('event-item')\n",
    "# times = driver.find_elements_by_class_name('time-quotes')\n",
    "# for title, item, time in list(zip(event_titles, event_items, times)):\n",
    "#     print(title.text)\n",
    "#     print(item.text)\n",
    "#     print(time.text)\n",
    "#     print()"
   ]
  },
  {
   "cell_type": "code",
   "execution_count": null,
   "id": "bb78a4f2",
   "metadata": {
    "collapsed": true,
    "pycharm": {
     "is_executing": true
    }
   },
   "outputs": [],
   "source": [
    "# Test \n",
    "for i in tqdm(range(5049, 5060)):\n",
    "    url = \"https://sandiego.nextrequest.com/requests/21-\" + str(i) \n",
    "    driver.get(url)\n",
    "    \n",
    "    event_titles = driver.find_elements_by_class_name('event-title')\n",
    "    event_items = driver.find_elements_by_class_name('event-item')\n",
    "    times = driver.find_elements_by_class_name('time-quotes')\n",
    "    \n",
    "    for title, item, time in list(zip(event_titles, event_items, times)):\n",
    "        print(title.text)\n",
    "        print(item.text)\n",
    "        print(time.text)\n",
    "        print()\n",
    "    \n",
    "    print()"
   ]
  },
  {
   "cell_type": "code",
   "execution_count": 17,
   "id": "da44306a",
   "metadata": {},
   "outputs": [],
   "source": [
    "earliest_year = 21 # Earliest year to search requests for\n",
    "latest_year = 21 # Latest year to search request for\n",
    "id_range = 10 # Number of IDs to try for each year"
   ]
  },
  {
   "cell_type": "code",
   "execution_count": 26,
   "id": "4ad0341f",
   "metadata": {
    "scrolled": true
   },
   "outputs": [
    {
     "name": "stderr",
     "output_type": "stream",
     "text": [
      "100%|██████████| 10/10 [00:10<00:00,  1.03s/it]\n"
     ]
    },
    {
     "name": "stdout",
     "output_type": "stream",
     "text": [
      "['What money has been paid to the city of San Diego for CPNO #235091 issued on January 27, 2017?\\nWhat money has been paid to the city of San Diego for the Notice of Violation issued on October 25, 2018 for the same property, 3844 Albatross Street, San Diego, CA 92103?\\nHow is the city budget compensated for code enforcement activity?\\nThe fines for CPNO #235091 were supposed to begin accruing at $1000 a day for each violation.   It has been 1400 days since the violations were cited and there has been no restoration of the canyon land and no grading permit has been issued.\\nRead more', 'Address for Russell and Verna Giles of home they were building in Pine Valley, CA. Their address in San Diego was 3531 Eugene Place San Diego 92116. Then they built a home in Pine Valley CA while living here. How do I get that Pine Valley address? ', '9095 Rio San Diego Dr APN: 438051130\\nOpen Building Code Violations\\nOpen Zoning Code Violations', '9095 San Diego Dr APN: 4380511300\\nOpen Fire Code Violations', '9095 Rio San Diego Dr APN: 4380511300\\nCertificate of Occupancy\\nSite plan', 'Request police report 20207185 .location of accident is on woodman in city of San Diego. On December 9,2020.advise the cost of police report. And I will provide credit card information. ', 'Marquese Rashawn Higgins\\nDOB: 11/08/2005\\nAge: 15\\nborn in Vancouver, WA resides in San Diego, CA \\nBorn to James Higgins Jr & Amber Webb (maiden) Tamagpong (marital)\\n   ', 'I would like to request a copy of the Del Cerro CC&R foR my home. \\n\\n6480 norman lane \\nSan Diego 92120. ', 'Request all records related to 4426 Berting St for the development of this single-family residence into a multi-family property.  Date of records would likely be dated April 1, 2019 to present.  This records request is prompted by concerns that approval of this project would negatively impact street parking availability.', 'Need record to Real Estate Properties for Aliases Linda Lou Fisher, Stephen Fisher, Michael Fisher at 2743 Sylvy Way, San Diego, Ca 92139']\n"
     ]
    }
   ],
   "source": [
    "driver = webdriver.Firefox(options=options) # Headless (non-visible) Firefox WebDriver\n",
    "\n",
    "sd_requests = [] # List containing information on each request\n",
    "\n",
    "for year in range(earliest_year, latest_year + 1):\n",
    "    for num in tqdm(range(1, id_range + 1)) :\n",
    "        request_id = str(year) + '-' + str(num) # NextRequest request IDs are a two-digit year and a number, with a dash in between\n",
    "        url = 'https://sandiego.nextrequest.com/requests/' + request_id\n",
    "        driver.get(url) # Attempt to access the record\n",
    "        \n",
    "        # If the record does not exist, then move on to the next ID\n",
    "        if (request_id not in driver.title):\n",
    "            continue\n",
    "        \n",
    "        # Scrape relevant data\n",
    "        status = driver.find_element_by_class_name('request-status-label')\n",
    "        desc = driver.find_element_by_class_name('request-text.row')\n",
    "        date = driver.find_element_by_class_name('request-date')\n",
    "        poc = driver.find_element_by_class_name('request-detail')\n",
    "        \n",
    "        sd_request.append([\n",
    "            request_id,\n",
    "            status.text.strip(),\n",
    "            desc.text,\n",
    "            \n",
    "            poc.text\n",
    "            ])\n",
    "\n",
    "        # sleep(5)\n",
    "        \n",
    "print(sd_request_desc[:10])\n",
    "driver.close()"
   ]
  },
  {
   "cell_type": "code",
   "execution_count": 28,
   "id": "0e88d6e1",
   "metadata": {},
   "outputs": [
    {
     "name": "stdout",
     "output_type": "stream",
     "text": [
      "What money has been paid to the city of San Diego for CPNO #235091 issued on January 27, 2017?\n",
      "What money has been paid to the city of San Diego for the Notice of Violation issued on October 25, 2018 for the same property, 3844 Albatross Street, San Diego, CA 92103?\n",
      "How is the city budget compensated for code enforcement activity?\n",
      "The fines for CPNO #235091 were supposed to begin accruing at $1000 a day for each violation.   It has been 1400 days since the violations were cited and there has been no restoration of the canyon land and no grading permit has been issued.\n",
      "Read more\n"
     ]
    }
   ],
   "source": [
    "print(sd_request_desc[0])"
   ]
  },
  {
   "cell_type": "markdown",
   "id": "4339360a",
   "metadata": {},
   "source": [
    "**TO-DO**\n",
    "- Find HTML elements for the following: department name, request reason, points of contact (name of requester), documents\n",
    "- Modify loop to try and scrape all requests\n",
    "- Run on Google Colab?"
   ]
  }
 ],
 "metadata": {
  "kernelspec": {
   "display_name": "Python 3",
   "language": "python",
   "name": "python3"
  },
  "language_info": {
   "codemirror_mode": {
    "name": "ipython",
    "version": 3
   },
   "file_extension": ".py",
   "mimetype": "text/x-python",
   "name": "python",
   "nbconvert_exporter": "python",
   "pygments_lexer": "ipython3",
   "version": "3.8.8"
  }
 },
 "nbformat": 4,
 "nbformat_minor": 5
}
