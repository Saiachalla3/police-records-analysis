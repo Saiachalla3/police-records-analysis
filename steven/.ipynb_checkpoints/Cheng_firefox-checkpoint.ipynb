{
 "cells": [
  {
   "cell_type": "code",
   "execution_count": 13,
   "id": "77f4732d-5d35-4c5f-9344-edc2a4ff5b40",
   "metadata": {},
   "outputs": [],
   "source": [
    "from selenium import webdriver\n",
    "from selenium.webdriver.firefox.options import Options\n",
    "\n",
    "options = Options()\n",
    "options.headless = True"
   ]
  },
  {
   "cell_type": "code",
   "execution_count": null,
   "id": "70ec37f8-681f-4566-9076-991ee521ff21",
   "metadata": {},
   "outputs": [],
   "source": [
    "driver = webdriver.Firefox(options=options)\n",
    "driver.get('https://pythonbasics.org')\n",
    "print (driver.page_source)\n",
    "driver.quit()"
   ]
  },
  {
   "cell_type": "code",
   "execution_count": 3,
   "id": "2791f094-fc29-4a8c-9795-6bae2dafd208",
   "metadata": {},
   "outputs": [],
   "source": [
    "import pandas as pd\n",
    "import zipfile"
   ]
  },
  {
   "cell_type": "code",
   "execution_count": null,
   "id": "f896f639-8012-4287-852d-6792dbebf17d",
   "metadata": {},
   "outputs": [],
   "source": [
    "vallejo = pd.read_csv(zipfile.ZipFile('data/vallejo_requests.zip', 'r').open('vallejo_requests.csv'))\n",
    "vallejo"
   ]
  },
  {
   "cell_type": "code",
   "execution_count": 44,
   "id": "27ad01c9-061b-4bee-a44f-526f337c70f7",
   "metadata": {},
   "outputs": [],
   "source": [
    "from time import sleep\n",
    "\n",
    "def test(arr):\n",
    "    try:\n",
    "        arr.append('test')\n",
    "        print('test')\n",
    "        sleep(1)\n",
    "    except KeyboardInterrupt:\n",
    "        print('exception in test')\n",
    "        raise\n",
    "        \n",
    "    return 1\n",
    "    \n",
    "def test2(arr):\n",
    "    counter = 0\n",
    "    \n",
    "    while True:\n",
    "        try:\n",
    "            counter += test(arr)\n",
    "            print('counter: {}'.format(counter))\n",
    "            sleep(1)\n",
    "        except KeyboardInterrupt:\n",
    "            print('exception in test2')\n",
    "            break      \n",
    "\n",
    "    return counter\n",
    "            \n",
    "def test3(arr):\n",
    "    try:\n",
    "        test2(arr)\n",
    "    except KeyboardInterrupt:\n",
    "        print('exception in test3')\n",
    "        \n",
    "    print('arr: {}'.format(len(arr)))\n",
    "    return len(arr)\n",
    "    \n",
    "def write_file(x):\n",
    "    with open('test.txt', 'w') as f:\n",
    "        f.write(str(x))"
   ]
  },
  {
   "cell_type": "code",
   "execution_count": 45,
   "id": "615d6c1e-16df-4d61-8684-8a5b952bda16",
   "metadata": {},
   "outputs": [
    {
     "name": "stdout",
     "output_type": "stream",
     "text": [
      "test\n",
      "counter: 1\n",
      "test\n",
      "exception in test\n",
      "exception in test2\n",
      "arr: 2\n"
     ]
    }
   ],
   "source": [
    "arr = []\n",
    "x = 100\n",
    "\n",
    "x -= test3(arr)"
   ]
  },
  {
   "cell_type": "code",
   "execution_count": 46,
   "id": "f7a18033-c47d-4c4e-a4be-a43466b3e4c0",
   "metadata": {},
   "outputs": [
    {
     "name": "stdout",
     "output_type": "stream",
     "text": [
      "98\n"
     ]
    }
   ],
   "source": [
    "print(x)"
   ]
  },
  {
   "cell_type": "code",
   "execution_count": 47,
   "id": "b35fef15-2f2c-4445-bd4a-05b5f4d9e2d6",
   "metadata": {},
   "outputs": [
    {
     "data": {
      "text/plain": [
       "['test', 'test']"
      ]
     },
     "execution_count": 47,
     "metadata": {},
     "output_type": "execute_result"
    }
   ],
   "source": [
    "arr"
   ]
  },
  {
   "cell_type": "code",
   "execution_count": null,
   "id": "daebf83a-4236-420a-a2af-877e93c2d175",
   "metadata": {},
   "outputs": [],
   "source": []
  }
 ],
 "metadata": {
  "kernelspec": {
   "display_name": "py38_default",
   "language": "python",
   "name": "conda-env-py38_default-py"
  },
  "language_info": {
   "codemirror_mode": {
    "name": "ipython",
    "version": 3
   },
   "file_extension": ".py",
   "mimetype": "text/x-python",
   "name": "python",
   "nbconvert_exporter": "python",
   "pygments_lexer": "ipython3",
   "version": "3.8.12"
  }
 },
 "nbformat": 4,
 "nbformat_minor": 5
}
