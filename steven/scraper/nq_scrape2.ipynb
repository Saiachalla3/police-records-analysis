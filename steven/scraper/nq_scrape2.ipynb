{
 "cells": [
  {
   "cell_type": "markdown",
   "metadata": {},
   "source": [
    "Copyable notebook with the scraper code from `nextrequest_scrape.ipynb`:"
   ]
  },
  {
   "cell_type": "code",
   "execution_count": 5,
   "metadata": {
    "tags": []
   },
   "outputs": [],
   "source": [
    "# !pip install selenium\n",
    "from selenium import webdriver\n",
    "import nextrequest_scraper\n",
    "from nextrequest_scraper import NextRequestScraper\n",
    "\n",
    "# Scraper options\n",
    "options = webdriver.FirefoxOptions()\n",
    "options.headless = True"
   ]
  },
  {
   "cell_type": "code",
   "execution_count": 6,
   "metadata": {
    "tags": []
   },
   "outputs": [
    {
     "data": {
      "text/plain": [
       "<module 'nextrequest_scraper' from '/home/powerofapoint/notebooks/police-records-analysis/steven/scraper/nextrequest_scraper.py'>"
      ]
     },
     "execution_count": 6,
     "metadata": {},
     "output_type": "execute_result"
    }
   ],
   "source": [
    "import importlib\n",
    "importlib.reload(nextrequest_scraper)"
   ]
  },
  {
   "cell_type": "code",
   "execution_count": 7,
   "metadata": {
    "tags": []
   },
   "outputs": [],
   "source": [
    "requests = []  # List of dictionaries containing scraped info on each request\n",
    "\n",
    "# Scraper parameters\n",
    "url = 'https://oaklandca.nextrequest.com/requests/'  # URL to scrape from - make sure it contains a backslash at the end!\n",
    "earliest_id = 'RT-1'  # Earliest ID in database, or ID to start scraping from\n",
    "requests_name = 'oaklandca_requests'  # Name of CSV file and ZIP archive to export scraped data to\n",
    "path = '../data/'  # Directory path to export the ZIP archive to - make sure it contains a backslash at the end!\n",
    "log = -1  # Log file to write to, if desired. Set to a blank string to only log to console, -1 to automatically generate a log file\n",
    "\n",
    "num_requests = -1 # Number of requests to scrape. Set to a negative value to scrape all requests\n",
    "wait_time = 0.1 # Implicit wait time i.e. time for WebDriver to spend to find a given element\n",
    "timeout = 5 # Wait time between scraper runs in case of timeouts\n",
    "progress = 100 # Show progress every N requests that are scraped"
   ]
  },
  {
   "cell_type": "code",
   "execution_count": 8,
   "metadata": {
    "scrolled": true,
    "tags": []
   },
   "outputs": [
    {
     "name": "stdout",
     "output_type": "stream",
     "text": [
      "Start time: 2022-04-18 09:09:57.848704\n",
      "\n",
      "Iteration 1\n",
      "-----------\n",
      "Starting request: RT-1\n",
      "\n",
      "User interruption occurred after count 5\n",
      "Total requests scraped: 5\tAvg runtime: 2.06s\tTotal runtime: 10.3s\n",
      "\n",
      "Last request scraped: RT-5\n",
      "-----------\n",
      "\n",
      "Successfully converted requests into CSV\n",
      "\n",
      "End time: 2022-04-18 09:10:08.142247\n",
      "\n",
      "*************************\n",
      "\n"
     ]
    }
   ],
   "source": [
    "# Instantiate the driver\n",
    "driver = webdriver.Firefox(options=options)\n",
    "\n",
    "# Scrape data!\n",
    "scraper = NextRequestScraper(driver, url, wait_time=wait_time)\n",
    "num_requests -= scraper.scrape(requests, earliest_id, requests_name=requests_name, path=path,\n",
    "                               num_requests=num_requests, timeout=timeout, progress=progress, log=log)\n",
    "\n",
    "try:\n",
    "    scraper.driver.close()\n",
    "except:\n",
    "    pass"
   ]
  },
  {
   "cell_type": "code",
   "execution_count": null,
   "metadata": {},
   "outputs": [],
   "source": []
  }
 ],
 "metadata": {
  "kernelspec": {
   "display_name": "py38_default",
   "language": "python",
   "name": "conda-env-py38_default-py"
  },
  "language_info": {
   "codemirror_mode": {
    "name": "ipython",
    "version": 3
   },
   "file_extension": ".py",
   "mimetype": "text/x-python",
   "name": "python",
   "nbconvert_exporter": "python",
   "pygments_lexer": "ipython3",
   "version": "3.8.12"
  }
 },
 "nbformat": 4,
 "nbformat_minor": 4
}
