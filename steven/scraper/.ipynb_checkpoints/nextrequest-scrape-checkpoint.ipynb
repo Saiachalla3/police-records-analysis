{
 "cells": [
  {
   "cell_type": "markdown",
   "metadata": {},
   "source": [
    "# Running the NextRequest scraper\n",
    "*Author: Steven Yuan*\n",
    "\n",
    "This Jupyter notebook facilitates scraping data from NextRequest websites. **Use only for scraping; EDA goes in the `nextrequest-eda` notebook.** Currently, the scraper can only use the Firefox `geckodriver` - if more browser support is desired, please let me know. See the `nextrequest-selenium` notebook for an in-depth explanation of how the scraper works."
   ]
  },
  {
   "cell_type": "code",
   "execution_count": 1,
   "metadata": {},
   "outputs": [],
   "source": [
    "# !pip install selenium\n",
    "from selenium import webdriver\n",
    "from nextrequest_scraper import NextRequestScraper\n",
    "\n",
    "# Scraper options\n",
    "options = webdriver.FirefoxOptions()\n",
    "options.headless = True"
   ]
  },
  {
   "cell_type": "markdown",
   "metadata": {},
   "source": [
    "Set your desired parameters and options here before running the scraper:"
   ]
  },
  {
   "cell_type": "code",
   "execution_count": 9,
   "metadata": {},
   "outputs": [],
   "source": [
    "requests = []  # List of dictionaries containing scraped info on each request\n",
    "\n",
    "# Scraper parameters\n",
    "url = 'https://lacity.nextrequest.com/requests/'  # URL to scrape from - ensure that it contains a backslash at the end!\n",
    "earliest_id = '17-1'  # Earliest IDs in the databases\n",
    "requests_name = 'lacity_requests'  # Name of CSV file and ZIP archive to export scraped data to\n",
    "path = '../data/'  # Directory path to export the ZIP archive to\n",
    "\n",
    "num_requests = 10 # Number of requests to scrape\n",
    "wait_time = 0.1 # Implicit wait time i.e. time for WebDriver to spend to find a given element\n",
    "timeout = 5 # Wait time between scraper runs in case of timeouts\n",
    "progress = 2 # Show progress every N requests that are scraped"
   ]
  },
  {
   "cell_type": "markdown",
   "metadata": {},
   "source": [
    "When you are sure that your parameters are set correctly, run the following cell:"
   ]
  },
  {
   "cell_type": "code",
   "execution_count": 10,
   "metadata": {
    "scrolled": true,
    "tags": []
   },
   "outputs": [
    {
     "name": "stdout",
     "output_type": "stream",
     "text": [
      "Iteration 1\n",
      "-----------\n",
      "Starting request: 22-397\n",
      "\n",
      "Requests scraped: 2 \tAvg runtime: 1.83s/request \tTotal runtime: 3.7s\n",
      "Requests scraped: 4 \tAvg runtime: 2.06s/request \tTotal runtime: 8.2s\n",
      "Total requests scraped: 4 \tAvg runtime: 2.09s/request \tTotal runtime: 8.3s\n",
      "\n",
      "Last request scraped: 22-400\n",
      "\n"
     ]
    }
   ],
   "source": [
    "# Instantiate the driver\n",
    "driver = webdriver.Firefox(options=options)\n",
    "\n",
    "# Scrape data!\n",
    "scraper = NextRequestScraper(driver, url, wait_time=wait_time)\n",
    "num_requests -= scraper.scrape(requests, earliest_id, requests_name=requests_name, path='data/',\n",
    "                               num_requests=num_requests, timeout=timeout, progress=progress)\n",
    "\n",
    "scraper.driver.close()"
   ]
  },
  {
   "cell_type": "code",
   "execution_count": 11,
   "metadata": {},
   "outputs": [
    {
     "data": {
      "text/plain": [
       "-5"
      ]
     },
     "execution_count": 11,
     "metadata": {},
     "output_type": "execute_result"
    }
   ],
   "source": [
    "num_requests"
   ]
  },
  {
   "cell_type": "code",
   "execution_count": 12,
   "metadata": {},
   "outputs": [
    {
     "data": {
      "text/plain": [
       "4"
      ]
     },
     "execution_count": 12,
     "metadata": {},
     "output_type": "execute_result"
    }
   ],
   "source": [
    "len(requests)"
   ]
  },
  {
   "cell_type": "markdown",
   "metadata": {},
   "source": [
    "Note that the scraper may stop scraping before all requests are reached. If this occurs, rerun the cell (currently working on a way to make the scraper completely automated). **Do not run the parameters cell if the scraper prematurely ends in this way. You will lose all progress that way as the `requests` list will be cleared.**"
   ]
  }
 ],
 "metadata": {
  "kernelspec": {
   "display_name": "py38_default",
   "language": "python",
   "name": "conda-env-py38_default-py"
  },
  "language_info": {
   "codemirror_mode": {
    "name": "ipython",
    "version": 3
   },
   "file_extension": ".py",
   "mimetype": "text/x-python",
   "name": "python",
   "nbconvert_exporter": "python",
   "pygments_lexer": "ipython3",
   "version": "3.8.12"
  }
 },
 "nbformat": 4,
 "nbformat_minor": 4
}
