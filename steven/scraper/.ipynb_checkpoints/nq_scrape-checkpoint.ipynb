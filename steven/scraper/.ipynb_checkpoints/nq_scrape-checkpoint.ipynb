{
 "cells": [
  {
   "cell_type": "markdown",
   "metadata": {},
   "source": [
    "Copyable notebook with the scraper code from `nextrequest_scrape.ipynb`:"
   ]
  },
  {
   "cell_type": "code",
   "execution_count": 2,
   "metadata": {},
   "outputs": [
    {
     "name": "stdout",
     "output_type": "stream",
     "text": [
      "Collecting selenium\n",
      "  Using cached selenium-4.1.3-py3-none-any.whl (968 kB)\n",
      "Collecting trio-websocket~=0.9\n",
      "  Using cached trio_websocket-0.9.2-py3-none-any.whl (16 kB)\n",
      "Collecting trio~=0.17\n",
      "  Using cached trio-0.20.0-py3-none-any.whl (359 kB)\n",
      "Requirement already satisfied: urllib3[secure,socks]~=1.26 in /anaconda/envs/py38_pytorch/lib/python3.8/site-packages (from selenium) (1.26.7)\n",
      "Collecting outcome\n",
      "  Using cached outcome-1.1.0-py2.py3-none-any.whl (9.7 kB)\n",
      "Requirement already satisfied: idna in /anaconda/envs/py38_pytorch/lib/python3.8/site-packages (from trio~=0.17->selenium) (3.3)\n",
      "Requirement already satisfied: attrs>=19.2.0 in /anaconda/envs/py38_pytorch/lib/python3.8/site-packages (from trio~=0.17->selenium) (21.2.0)\n",
      "Requirement already satisfied: sniffio in /anaconda/envs/py38_pytorch/lib/python3.8/site-packages (from trio~=0.17->selenium) (1.2.0)\n",
      "Collecting sortedcontainers\n",
      "  Using cached sortedcontainers-2.4.0-py2.py3-none-any.whl (29 kB)\n",
      "Requirement already satisfied: async-generator>=1.9 in /anaconda/envs/py38_pytorch/lib/python3.8/site-packages (from trio~=0.17->selenium) (1.10)\n",
      "Collecting wsproto>=0.14\n",
      "  Using cached wsproto-1.1.0-py3-none-any.whl (24 kB)\n",
      "Requirement already satisfied: PySocks!=1.5.7,<2.0,>=1.5.6 in /anaconda/envs/py38_pytorch/lib/python3.8/site-packages (from urllib3[secure,socks]~=1.26->selenium) (1.7.1)\n",
      "Requirement already satisfied: certifi in /anaconda/envs/py38_pytorch/lib/python3.8/site-packages (from urllib3[secure,socks]~=1.26->selenium) (2021.10.8)\n",
      "Requirement already satisfied: cryptography>=1.3.4 in /anaconda/envs/py38_pytorch/lib/python3.8/site-packages (from urllib3[secure,socks]~=1.26->selenium) (35.0.0)\n",
      "Requirement already satisfied: pyOpenSSL>=0.14 in /anaconda/envs/py38_pytorch/lib/python3.8/site-packages (from urllib3[secure,socks]~=1.26->selenium) (21.0.0)\n",
      "Requirement already satisfied: cffi>=1.12 in /anaconda/envs/py38_pytorch/lib/python3.8/site-packages (from cryptography>=1.3.4->urllib3[secure,socks]~=1.26->selenium) (1.14.6)\n",
      "Requirement already satisfied: pycparser in /anaconda/envs/py38_pytorch/lib/python3.8/site-packages (from cffi>=1.12->cryptography>=1.3.4->urllib3[secure,socks]~=1.26->selenium) (2.20)\n",
      "Requirement already satisfied: six>=1.5.2 in /anaconda/envs/py38_pytorch/lib/python3.8/site-packages (from pyOpenSSL>=0.14->urllib3[secure,socks]~=1.26->selenium) (1.15.0)\n",
      "Collecting h11<1,>=0.9.0\n",
      "  Using cached h11-0.13.0-py3-none-any.whl (58 kB)\n",
      "Installing collected packages: sortedcontainers, outcome, h11, wsproto, trio, trio-websocket, selenium\n",
      "Successfully installed h11-0.13.0 outcome-1.1.0 selenium-4.1.3 sortedcontainers-2.4.0 trio-0.20.0 trio-websocket-0.9.2 wsproto-1.1.0\n"
     ]
    }
   ],
   "source": [
    "# !pip install selenium\n",
    "from selenium import webdriver\n",
    "import nextrequest_scraper\n",
    "from nextrequest_scraper import NextRequestScraper\n",
    "\n",
    "# Scraper options\n",
    "options = webdriver.FirefoxOptions()\n",
    "options.headless = True"
   ]
  },
  {
   "cell_type": "code",
   "execution_count": 9,
   "metadata": {},
   "outputs": [
    {
     "data": {
      "text/plain": [
       "<module 'nextrequest_scraper' from '/home/powerofapoint/notebooks/police-records-analysis/steven/scraper/nextrequest_scraper.py'>"
      ]
     },
     "execution_count": 9,
     "metadata": {},
     "output_type": "execute_result"
    }
   ],
   "source": [
    "import importlib\n",
    "importlib.reload(nextrequest_scraper)"
   ]
  },
  {
   "cell_type": "code",
   "execution_count": 6,
   "metadata": {},
   "outputs": [],
   "source": [
    "requests = []  # List of dictionaries containing scraped info on each request\n",
    "\n",
    "# Scraper parameters\n",
    "url = 'https://nextrequest.cabq.gov/requests/'  # URL to scrape from - make sure it contains a backslash at the end!\n",
    "earliest_id = '15-24'  # Earliest ID in database, or ID to start scraping from\n",
    "requests_name = 'cabq_requests'  # Name of CSV file and ZIP archive to export scraped data to\n",
    "path = '../data/'  # Directory path to export the ZIP archive to - make sure it contains a backslash at the end!\n",
    "log = -1  # Log file to write to, if desired. Set to a blank string to only log to console, -1 to automatically generate a log file\n",
    "\n",
    "num_requests = -1  # Number of requests to scrape. Set to a negative value to scrape all requests\n",
    "wait_time = 0.2  # Implicit wait time i.e. time for WebDriver to spend to find a given element\n",
    "timeout = 5  # Wait time between scraper runs in case of timeouts\n",
    "progress = 100  # Show progress every N requests that are scraped"
   ]
  },
  {
   "cell_type": "code",
   "execution_count": 7,
   "metadata": {
    "scrolled": true,
    "tags": []
   },
   "outputs": [
    {
     "name": "stdout",
     "output_type": "stream",
     "text": [
      "Start time: 2022-04-18 08:46:31.466567\n",
      "\n",
      "Iteration 1\n",
      "-----------\n",
      "Starting request: 15-24\n",
      "\n",
      "Webdriver could not find element while scraping count 1\n",
      "\n",
      "Traceback (most recent call last):\n",
      "  File \"/home/powerofapoint/notebooks/police-records-analysis/steven/scraper/nextrequest_scraper.py\", line 168, in scrape_request\n",
      "    request_id = self.driver.find_element(By.CLASS_NAME, 'request-title-text').text.split()[1][1:]  # Request ID\n",
      "  File \"/anaconda/envs/py38_pytorch/lib/python3.8/site-packages/selenium/webdriver/remote/webdriver.py\", line 1248, in find_element\n",
      "    return self.execute(Command.FIND_ELEMENT, {\n",
      "  File \"/anaconda/envs/py38_pytorch/lib/python3.8/site-packages/selenium/webdriver/remote/webdriver.py\", line 425, in execute\n",
      "    self.error_handler.check_response(response)\n",
      "  File \"/anaconda/envs/py38_pytorch/lib/python3.8/site-packages/selenium/webdriver/remote/errorhandler.py\", line 247, in check_response\n",
      "    raise exception_class(message, screen, stacktrace)\n",
      "selenium.common.exceptions.NoSuchElementException: Message: Unable to locate element: .request-title-text\n",
      "Stacktrace:\n",
      "WebDriverError@chrome://remote/content/shared/webdriver/Errors.jsm:183:5\n",
      "NoSuchElementError@chrome://remote/content/shared/webdriver/Errors.jsm:395:5\n",
      "element.find/</<@chrome://remote/content/marionette/element.js:300:16\n",
      "\n",
      "\n",
      "Webdriver could not find js-next-request element after count 1\n",
      "Total requests scraped: 1\tAvg runtime: 0.32s\tTotal runtime: 0.3s\n",
      "\n",
      "Last request scraped: None\n",
      "-----------\n",
      "\n",
      "Exception occurred between scraper iterations\n",
      "Traceback (most recent call last):\n",
      "  File \"/home/powerofapoint/notebooks/police-records-analysis/steven/scraper/nextrequest_scraper.py\", line 74, in scrape\n",
      "    self.driver.get(self.url + current_id)  # Get the request URL\n",
      "TypeError: can only concatenate str (not \"NoneType\") to str\n",
      "\n",
      "-----------\n",
      "\n",
      "Successfully converted requests into CSV\n",
      "\n",
      "End time: 2022-04-18 08:46:36.797650\n",
      "\n",
      "*************************\n",
      "\n"
     ]
    }
   ],
   "source": [
    "# Instantiate the driver\n",
    "driver = webdriver.Firefox(options=options)\n",
    "driver.get(url + earliest_id)\n",
    "\n",
    "\n",
    "# Scrape data!\n",
    "scraper = NextRequestScraper(driver, url, wait_time=wait_time)\n",
    "num_requests -= scraper.scrape(requests, earliest_id, requests_name=requests_name, path=path,\n",
    "                               num_requests=num_requests, timeout=timeout, progress=progress, log=log)\n",
    "\n",
    "try:\n",
    "    scraper.driver.close()\n",
    "except:\n",
    "    pass"
   ]
  },
  {
   "cell_type": "code",
   "execution_count": 5,
   "metadata": {},
   "outputs": [
    {
     "data": {
      "text/plain": [
       "[{'id': None,\n",
       "  'status': None,\n",
       "  'desc': None,\n",
       "  'date': None,\n",
       "  'depts': None,\n",
       "  'docs': None,\n",
       "  'poc': None,\n",
       "  'msgs': None}]"
      ]
     },
     "execution_count": 5,
     "metadata": {},
     "output_type": "execute_result"
    }
   ],
   "source": [
    "requests"
   ]
  },
  {
   "cell_type": "code",
   "execution_count": null,
   "metadata": {},
   "outputs": [],
   "source": []
  }
 ],
 "metadata": {
  "kernelspec": {
   "display_name": "py38_pytorch",
   "language": "python",
   "name": "conda-env-py38_pytorch-py"
  },
  "language_info": {
   "codemirror_mode": {
    "name": "ipython",
    "version": 3
   },
   "file_extension": ".py",
   "mimetype": "text/x-python",
   "name": "python",
   "nbconvert_exporter": "python",
   "pygments_lexer": "ipython3",
   "version": "3.8.12"
  }
 },
 "nbformat": 4,
 "nbformat_minor": 4
}
