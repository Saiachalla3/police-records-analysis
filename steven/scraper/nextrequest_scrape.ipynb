{
 "cells": [
  {
   "cell_type": "markdown",
   "metadata": {},
   "source": [
    "# Running the NextRequest scraper\n",
    "*Author: Steven Yuan*\n",
    "\n",
    "This Jupyter notebook facilitates scraping data from NextRequest websites. **Use only for scraping; EDA goes in the `nextrequest_eda` notebook.** Currently, the scraper can only use the Firefox `geckodriver` - if more browser support is desired, please let me know. See the `nextrequest_scraper_dev` notebook for an in-depth explanation of how the scraper works.\n",
    "\n",
    "## TODO\n",
    "- Find a way to handle StaleElementReferenceException that avoids getting into an infinite loop - maybe try a global variable?\n",
    "- Bug: CSS selector for the messages is not working\n",
    "- Bug: Scraper cannot find any elements in Albuquerque NextRequest database despite the driver being able to access those elements outside of scraper code\n",
    "- Write better documentation for `nextrequest_scraper`\n",
    "- Improve scraper log formatting"
   ]
  },
  {
   "cell_type": "code",
   "execution_count": 15,
   "metadata": {},
   "outputs": [],
   "source": [
    "# !pip install selenium\n",
    "from selenium import webdriver\n",
    "import nextrequest_scraper\n",
    "from nextrequest_scraper import NextRequestScraper\n",
    "\n",
    "# Scraper options\n",
    "options = webdriver.FirefoxOptions()\n",
    "options.headless = True"
   ]
  },
  {
   "cell_type": "code",
   "execution_count": 16,
   "metadata": {},
   "outputs": [
    {
     "data": {
      "text/plain": [
       "<module 'nextrequest_scraper' from '/home/powerofapoint/notebooks/police-records-analysis/steven/scraper/nextrequest_scraper.py'>"
      ]
     },
     "execution_count": 16,
     "metadata": {},
     "output_type": "execute_result"
    }
   ],
   "source": [
    "import importlib\n",
    "importlib.reload(nextrequest_scraper)"
   ]
  },
  {
   "cell_type": "markdown",
   "metadata": {},
   "source": [
    "Set your desired parameters and options here before running the scraper:"
   ]
  },
  {
   "cell_type": "code",
   "execution_count": 17,
   "metadata": {},
   "outputs": [],
   "source": [
    "requests = []  # List of dictionaries containing scraped info on each request\n",
    "\n",
    "# Scraper parameters\n",
    "url = 'https://nextrequest.cabq.gov/requests/'  # URL to scrape from - make sure it contains a backslash at the end!\n",
    "earliest_id = '15-22'  # Earliest ID in database, or ID to start scraping from\n",
    "requests_name = 'cabq_requests'  # Name of CSV file and ZIP archive to export scraped data to\n",
    "path = '../data/'  # Directory path to export the ZIP archive to - make sure it contains a backslash at the end!\n",
    "log = -1  # Log file to write to, if desired. Set to a blank string to only log to console, -1 to automatically generate a log file\n",
    "\n",
    "num_requests = -1 # Number of requests to scrape. Set to a negative value to scrape all requests\n",
    "wait_time = 0.1 # Implicit wait time i.e. time for WebDriver to spend to find a given element\n",
    "timeout = 5 # Wait time between scraper runs in case of timeouts\n",
    "progress = 100 # Show progress every N requests that are scraped"
   ]
  },
  {
   "cell_type": "markdown",
   "metadata": {},
   "source": [
    "When you are sure that your parameters are set correctly, run the following cell:"
   ]
  },
  {
   "cell_type": "code",
   "execution_count": 18,
   "metadata": {
    "scrolled": true,
    "tags": []
   },
   "outputs": [
    {
     "name": "stdout",
     "output_type": "stream",
     "text": [
      "Start time: 2022-04-27 23:41:19.722513\n",
      "\n",
      "Iteration 1\n",
      "-----------\n",
      "Starting request: 15-22\n",
      "\n",
      "Webdriver could not find element while scraping count 1\n",
      "\n",
      "Traceback (most recent call last):\n",
      "  File \"/home/powerofapoint/notebooks/police-records-analysis/steven/scraper/nextrequest_scraper.py\", line 168, in scrape_request\n",
      "    request_id = self.driver.find_element(By.CLASS_NAME, 'request-title-text').text.split()[1][1:]  # Request ID\n",
      "  File \"/anaconda/envs/py38_default/lib/python3.8/site-packages/selenium/webdriver/remote/webdriver.py\", line 1248, in find_element\n",
      "    return self.execute(Command.FIND_ELEMENT, {\n",
      "  File \"/anaconda/envs/py38_default/lib/python3.8/site-packages/selenium/webdriver/remote/webdriver.py\", line 425, in execute\n",
      "    self.error_handler.check_response(response)\n",
      "  File \"/anaconda/envs/py38_default/lib/python3.8/site-packages/selenium/webdriver/remote/errorhandler.py\", line 247, in check_response\n",
      "    raise exception_class(message, screen, stacktrace)\n",
      "selenium.common.exceptions.NoSuchElementException: Message: Unable to locate element: .request-title-text\n",
      "Stacktrace:\n",
      "WebDriverError@chrome://remote/content/shared/webdriver/Errors.jsm:183:5\n",
      "NoSuchElementError@chrome://remote/content/shared/webdriver/Errors.jsm:395:5\n",
      "element.find/</<@chrome://remote/content/marionette/element.js:300:16\n",
      "\n",
      "\n",
      "Webdriver could not find js-next-request element after count 1\n",
      "Total requests scraped: 1\tAvg runtime: 0.24s\tTotal runtime: 0.2s\n",
      "\n",
      "Last request scraped: None\n",
      "-----------\n",
      "\n",
      "Exception occurred between scraper iterations\n",
      "Traceback (most recent call last):\n",
      "  File \"/home/powerofapoint/notebooks/police-records-analysis/steven/scraper/nextrequest_scraper.py\", line 74, in scrape\n",
      "    self.driver.get(self.url + current_id)  # Get the request URL\n",
      "TypeError: can only concatenate str (not \"NoneType\") to str\n",
      "\n",
      "-----------\n",
      "\n",
      "Successfully converted requests into CSV\n",
      "\n",
      "End time: 2022-04-27 23:41:24.981494\n",
      "\n",
      "*************************\n",
      "\n"
     ]
    }
   ],
   "source": [
    "# Instantiate the driver\n",
    "driver = webdriver.Firefox(options=options)\n",
    "\n",
    "# Scrape data!\n",
    "scraper = NextRequestScraper(driver, url, wait_time=wait_time)\n",
    "num_requests -= scraper.scrape(requests, earliest_id, requests_name=requests_name, path=path,\n",
    "                               num_requests=num_requests, timeout=timeout, progress=progress, log=log)\n",
    "\n",
    "try:\n",
    "    scraper.driver.close()\n",
    "except:\n",
    "    pass"
   ]
  },
  {
   "cell_type": "code",
   "execution_count": 2,
   "metadata": {},
   "outputs": [
    {
     "ename": "NameError",
     "evalue": "name 'num_requests' is not defined",
     "output_type": "error",
     "traceback": [
      "\u001b[0;31m---------------------------------------------------------------------------\u001b[0m",
      "\u001b[0;31mNameError\u001b[0m                                 Traceback (most recent call last)",
      "\u001b[0;32m<ipython-input-2-0aecf6d5a114>\u001b[0m in \u001b[0;36m<module>\u001b[0;34m\u001b[0m\n\u001b[0;32m----> 1\u001b[0;31m \u001b[0mnum_requests\u001b[0m\u001b[0;34m\u001b[0m\u001b[0;34m\u001b[0m\u001b[0m\n\u001b[0m",
      "\u001b[0;31mNameError\u001b[0m: name 'num_requests' is not defined"
     ]
    }
   ],
   "source": [
    "num_requests"
   ]
  },
  {
   "cell_type": "code",
   "execution_count": 28,
   "metadata": {},
   "outputs": [
    {
     "data": {
      "text/plain": [
       "3726"
      ]
     },
     "execution_count": 28,
     "metadata": {},
     "output_type": "execute_result"
    }
   ],
   "source": [
    "len(requests)"
   ]
  },
  {
   "cell_type": "markdown",
   "metadata": {},
   "source": [
    "Note that the scraper may stop scraping before all requests are reached. If this occurs, rerun the cell (currently working on a way to make the scraper completely automated). **Do not run the parameters cell if the scraper prematurely ends in this way. You will lose all progress that way as the `requests` list will be cleared.**"
   ]
  }
 ],
 "metadata": {
  "kernelspec": {
   "display_name": "py38_default",
   "language": "python",
   "name": "conda-env-py38_default-py"
  },
  "language_info": {
   "codemirror_mode": {
    "name": "ipython",
    "version": 3
   },
   "file_extension": ".py",
   "mimetype": "text/x-python",
   "name": "python",
   "nbconvert_exporter": "python",
   "pygments_lexer": "ipython3",
   "version": "3.8.12"
  }
 },
 "nbformat": 4,
 "nbformat_minor": 4
}
