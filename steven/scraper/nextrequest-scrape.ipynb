{
 "cells": [
  {
   "cell_type": "markdown",
   "metadata": {},
   "source": [
    "# Running the NextRequest scraper\n",
    "*Author: Steven Yuan*\n",
    "\n",
    "This Jupyter notebook facilitates scraping data from NextRequest websites. **Use only for scraping; EDA goes in the `nextrequest-eda` notebook.** Currently, the scraper can only use the Firefox `geckodriver` - if more browser support is desired, please let me know. See the `nextrequest-selenium` notebook for an in-depth explanation of how the scraper works."
   ]
  },
  {
   "cell_type": "code",
   "execution_count": 24,
   "metadata": {},
   "outputs": [],
   "source": [
    "# !pip install selenium\n",
    "from selenium import webdriver\n",
    "from nextrequest_scraper import NextRequestScraper\n",
    "\n",
    "# Scraper options\n",
    "options = webdriver.FirefoxOptions()\n",
    "options.headless = True"
   ]
  },
  {
   "cell_type": "markdown",
   "metadata": {},
   "source": [
    "Set your desired parameters and options here before running the scraper:"
   ]
  },
  {
   "cell_type": "code",
   "execution_count": 25,
   "metadata": {},
   "outputs": [],
   "source": [
    "requests = []  # List of dictionaries containing scraped info on each request\n",
    "\n",
    "# Scraper parameters\n",
    "url = 'https://lacity.nextrequest.com/requests/'  # URL to scrape from - make sure it contains a backslash at the end!\n",
    "earliest_id = '17-1'  # Earliest ID in database, or ID to start scraping from\n",
    "requests_name = 'lacity_requests'  # Name of CSV file and ZIP archive to export scraped data to\n",
    "path = '../data/'  # Directory path to export the ZIP archive to - make sure it contains a backslash at the end!\n",
    "log = -1  # Log file to write to, if desired. Set to a blank string to only log to console, -1 to automatically generate a log file\n",
    "\n",
    "num_requests = -1 # Number of requests to scrape. Set to a negative value to scrape all requests\n",
    "wait_time = 0.1 # Implicit wait time i.e. time for WebDriver to spend to find a given element\n",
    "timeout = 5 # Wait time between scraper runs in case of timeouts\n",
    "progress = 100 # Show progress every N requests that are scraped"
   ]
  },
  {
   "cell_type": "markdown",
   "metadata": {},
   "source": [
    "When you are sure that your parameters are set correctly, run the following cell:"
   ]
  },
  {
   "cell_type": "code",
   "execution_count": 33,
   "metadata": {},
   "outputs": [],
   "source": [
    "log = '../data/lacity_requests 2.log'\n",
    "requests.append({'id': '19-1851'})"
   ]
  },
  {
   "cell_type": "code",
   "execution_count": null,
   "metadata": {
    "scrolled": true,
    "tags": []
   },
   "outputs": [
    {
     "name": "stdout",
     "output_type": "stream",
     "text": [
      "Start time: 2022-04-15 16:08:27.982428\n",
      "\n",
      "Iteration 1\n",
      "-----------\n",
      "Starting request: 19-1851\n",
      "\n",
      "Requests scraped: 100\tAvg runtime: 2.18s\tTotal runtime: 217.7s\n",
      "Stale element referenced while scraping count 103\n",
      "Total requests scraped: 103\tAvg runtime: 2.21s\tTotal runtime: 228.0s\n",
      "\n",
      "Last request scraped: 19-2007\n",
      "-----------\n",
      "\n",
      "Iteration 2\n",
      "-----------\n",
      "Starting request: 19-2007\n",
      "\n",
      "Requests scraped: 100\tAvg runtime: 2.33s\tTotal runtime: 232.7s\n",
      "Requests scraped: 200\tAvg runtime: 2.34s\tTotal runtime: 467.2s\n",
      "Requests scraped: 300\tAvg runtime: 2.29s\tTotal runtime: 686.0s\n",
      "Requests scraped: 400\tAvg runtime: 2.28s\tTotal runtime: 913.0s\n",
      "Requests scraped: 500\tAvg runtime: 2.25s\tTotal runtime: 1125.6s\n",
      "Requests scraped: 600\tAvg runtime: 2.22s\tTotal runtime: 1329.4s\n",
      "Requests scraped: 700\tAvg runtime: 2.20s\tTotal runtime: 1542.6s\n",
      "Requests scraped: 800\tAvg runtime: 2.19s\tTotal runtime: 1751.6s\n",
      "Requests scraped: 900\tAvg runtime: 2.18s\tTotal runtime: 1959.0s\n",
      "Requests scraped: 1000\tAvg runtime: 2.18s\tTotal runtime: 2176.2s\n",
      "Requests scraped: 1100\tAvg runtime: 2.17s\tTotal runtime: 2390.4s\n",
      "Requests scraped: 1200\tAvg runtime: 2.17s\tTotal runtime: 2605.8s\n",
      "Requests scraped: 1300\tAvg runtime: 2.18s\tTotal runtime: 2838.7s\n",
      "Requests scraped: 1400\tAvg runtime: 2.18s\tTotal runtime: 3058.3s\n",
      "Requests scraped: 1500\tAvg runtime: 2.18s\tTotal runtime: 3271.4s\n",
      "Requests scraped: 1600\tAvg runtime: 2.18s\tTotal runtime: 3485.5s\n",
      "Requests scraped: 1700\tAvg runtime: 2.17s\tTotal runtime: 3697.3s\n",
      "Requests scraped: 1800\tAvg runtime: 2.18s\tTotal runtime: 3924.6s\n",
      "Requests scraped: 1900\tAvg runtime: 2.21s\tTotal runtime: 4197.7s\n",
      "Requests scraped: 2000\tAvg runtime: 2.21s\tTotal runtime: 4414.8s\n",
      "Requests scraped: 2100\tAvg runtime: 2.22s\tTotal runtime: 4667.6s\n",
      "Requests scraped: 2200\tAvg runtime: 2.22s\tTotal runtime: 4883.8s\n",
      "Requests scraped: 2300\tAvg runtime: 2.23s\tTotal runtime: 5130.4s\n",
      "Requests scraped: 2400\tAvg runtime: 2.23s\tTotal runtime: 5363.5s\n",
      "Requests scraped: 2500\tAvg runtime: 2.23s\tTotal runtime: 5574.9s\n",
      "Requests scraped: 2600\tAvg runtime: 2.23s\tTotal runtime: 5791.8s\n",
      "Webdriver could not find element while scraping count 2639\n",
      "Requests scraped: 2700\tAvg runtime: 2.23s\tTotal runtime: 6031.6s\n",
      "Requests scraped: 2800\tAvg runtime: 2.23s\tTotal runtime: 6257.4s\n",
      "Requests scraped: 2900\tAvg runtime: 2.24s\tTotal runtime: 6485.4s\n",
      "Requests scraped: 3000\tAvg runtime: 2.24s\tTotal runtime: 6719.4s\n",
      "Requests scraped: 3100\tAvg runtime: 2.24s\tTotal runtime: 6944.7s\n",
      "Requests scraped: 3200\tAvg runtime: 2.24s\tTotal runtime: 7164.0s\n",
      "Requests scraped: 3300\tAvg runtime: 2.25s\tTotal runtime: 7411.7s\n",
      "Requests scraped: 3400\tAvg runtime: 2.25s\tTotal runtime: 7633.4s\n",
      "Requests scraped: 3500\tAvg runtime: 2.25s\tTotal runtime: 7857.5s\n",
      "Requests scraped: 3600\tAvg runtime: 2.25s\tTotal runtime: 8085.9s\n",
      "Requests scraped: 3700\tAvg runtime: 2.24s\tTotal runtime: 8303.9s\n",
      "Requests scraped: 3800\tAvg runtime: 2.25s\tTotal runtime: 8531.3s\n",
      "Requests scraped: 3900\tAvg runtime: 2.25s\tTotal runtime: 8758.7s\n",
      "Requests scraped: 4000\tAvg runtime: 2.25s\tTotal runtime: 8982.3s\n",
      "Requests scraped: 4100\tAvg runtime: 2.24s\tTotal runtime: 9202.4s\n",
      "Requests scraped: 4200\tAvg runtime: 2.24s\tTotal runtime: 9419.4s\n",
      "Requests scraped: 4300\tAvg runtime: 2.24s\tTotal runtime: 9635.3s\n",
      "Requests scraped: 4400\tAvg runtime: 2.24s\tTotal runtime: 9868.7s\n",
      "Requests scraped: 4500\tAvg runtime: 2.24s\tTotal runtime: 10093.6s\n",
      "Requests scraped: 4600\tAvg runtime: 2.24s\tTotal runtime: 10324.4s\n",
      "Requests scraped: 4700\tAvg runtime: 2.25s\tTotal runtime: 10558.1s\n",
      "Requests scraped: 4800\tAvg runtime: 2.25s\tTotal runtime: 10783.0s\n",
      "Requests scraped: 4900\tAvg runtime: 2.25s\tTotal runtime: 11006.7s\n",
      "Requests scraped: 5000\tAvg runtime: 2.25s\tTotal runtime: 11228.5s\n",
      "Requests scraped: 5100\tAvg runtime: 2.25s\tTotal runtime: 11464.1s\n",
      "Stale element referenced while scraping count 5148\n",
      "Total requests scraped: 5148\tAvg runtime: 2.25s\tTotal runtime: 11578.0s\n",
      "\n",
      "Last request scraped: 20-1327\n",
      "-----------\n",
      "\n",
      "Iteration 3\n",
      "-----------\n",
      "Starting request: 20-1327\n",
      "\n",
      "Requests scraped: 100\tAvg runtime: 2.28s\tTotal runtime: 228.0s\n",
      "Requests scraped: 200\tAvg runtime: 2.17s\tTotal runtime: 433.5s\n",
      "Requests scraped: 300\tAvg runtime: 2.20s\tTotal runtime: 658.8s\n",
      "Requests scraped: 400\tAvg runtime: 2.20s\tTotal runtime: 878.0s\n",
      "Requests scraped: 500\tAvg runtime: 2.19s\tTotal runtime: 1093.9s\n",
      "Requests scraped: 600\tAvg runtime: 2.18s\tTotal runtime: 1307.4s\n",
      "Requests scraped: 700\tAvg runtime: 2.16s\tTotal runtime: 1514.5s\n",
      "Requests scraped: 800\tAvg runtime: 2.16s\tTotal runtime: 1724.7s\n",
      "Requests scraped: 900\tAvg runtime: 2.15s\tTotal runtime: 1937.7s\n",
      "Requests scraped: 1000\tAvg runtime: 2.18s\tTotal runtime: 2179.7s\n",
      "Requests scraped: 1100\tAvg runtime: 2.19s\tTotal runtime: 2406.4s\n",
      "Webdriver could not find element while scraping count 1129\n",
      "Requests scraped: 1200\tAvg runtime: 2.19s\tTotal runtime: 2624.5s\n",
      "Requests scraped: 1300\tAvg runtime: 2.19s\tTotal runtime: 2847.9s\n",
      "Requests scraped: 1400\tAvg runtime: 2.21s\tTotal runtime: 3090.7s\n",
      "Requests scraped: 1500\tAvg runtime: 2.21s\tTotal runtime: 3311.2s\n",
      "Requests scraped: 1600\tAvg runtime: 2.21s\tTotal runtime: 3538.8s\n",
      "Requests scraped: 1700\tAvg runtime: 2.22s\tTotal runtime: 3771.7s\n",
      "Requests scraped: 1800\tAvg runtime: 2.23s\tTotal runtime: 4012.8s\n"
     ]
    }
   ],
   "source": [
    "# Instantiate the driver\n",
    "driver = webdriver.Firefox(options=options)\n",
    "\n",
    "# Scrape data!\n",
    "scraper = NextRequestScraper(driver, url, wait_time=wait_time)\n",
    "num_requests -= scraper.scrape(requests, earliest_id, requests_name=requests_name, path=path,\n",
    "                               num_requests=num_requests, timeout=timeout, progress=progress, log=log)\n",
    "\n",
    "try:\n",
    "    scraper.driver.close()\n",
    "except:\n",
    "    pass"
   ]
  },
  {
   "cell_type": "code",
   "execution_count": 27,
   "metadata": {},
   "outputs": [
    {
     "data": {
      "text/plain": [
       "-3727"
      ]
     },
     "execution_count": 27,
     "metadata": {},
     "output_type": "execute_result"
    }
   ],
   "source": [
    "num_requests"
   ]
  },
  {
   "cell_type": "code",
   "execution_count": 28,
   "metadata": {},
   "outputs": [
    {
     "data": {
      "text/plain": [
       "3726"
      ]
     },
     "execution_count": 28,
     "metadata": {},
     "output_type": "execute_result"
    }
   ],
   "source": [
    "len(requests)"
   ]
  },
  {
   "cell_type": "markdown",
   "metadata": {},
   "source": [
    "Note that the scraper may stop scraping before all requests are reached. If this occurs, rerun the cell (currently working on a way to make the scraper completely automated). **Do not run the parameters cell if the scraper prematurely ends in this way. You will lose all progress that way as the `requests` list will be cleared.**"
   ]
  }
 ],
 "metadata": {
  "kernelspec": {
   "display_name": "py38_default",
   "language": "python",
   "name": "conda-env-py38_default-py"
  },
  "language_info": {
   "codemirror_mode": {
    "name": "ipython",
    "version": 3
   },
   "file_extension": ".py",
   "mimetype": "text/x-python",
   "name": "python",
   "nbconvert_exporter": "python",
   "pygments_lexer": "ipython3",
   "version": "3.8.12"
  }
 },
 "nbformat": 4,
 "nbformat_minor": 4
}
