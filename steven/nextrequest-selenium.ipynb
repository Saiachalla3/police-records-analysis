{
 "cells": [
  {
   "cell_type": "markdown",
   "id": "9ea92427",
   "metadata": {},
   "source": [
    "My attempt to scrape NextRequest data using the `selenium` library:"
   ]
  },
  {
   "cell_type": "code",
   "execution_count": 24,
   "id": "0b235fe7",
   "metadata": {
    "scrolled": true
   },
   "outputs": [
    {
     "name": "stdout",
     "output_type": "stream",
     "text": [
      "Requirement already satisfied: selenium in /Users/stevenyuan/opt/anaconda3/lib/python3.8/site-packages (3.141.0)\r\n",
      "Requirement already satisfied: urllib3 in /Users/stevenyuan/opt/anaconda3/lib/python3.8/site-packages (from selenium) (1.26.4)\r\n"
     ]
    }
   ],
   "source": [
    "!pip install selenium\n",
    "\n",
    "from selenium import webdriver\n",
    "from selenium.webdriver.firefox.options import Options\n",
    "\n",
    "from time import sleep\n",
    "import pandas as pd\n",
    "import numpy as np\n",
    "\n",
    "options = Options()\n",
    "options.headless = True"
   ]
  },
  {
   "cell_type": "code",
   "execution_count": 19,
   "id": "ef7745d7",
   "metadata": {},
   "outputs": [],
   "source": [
    "# Test URLs to extract data from\n",
    "urls = ['https://oaklandca.nextrequest.com/requests', 'https://sandiego.nextrequest.com/requests']"
   ]
  },
  {
   "cell_type": "code",
   "execution_count": 39,
   "id": "7dc0a275",
   "metadata": {
    "scrolled": false
   },
   "outputs": [
    {
     "name": "stdout",
     "output_type": "stream",
     "text": [
      "Requests - NextRequest - Modern FOIA & Public Records Request Software\n",
      "Requests - NextRequest - Modern FOIA & Public Records Request Software\n"
     ]
    }
   ],
   "source": [
    "driver = webdriver.Firefox(options=options) # Instantiate a headless Firefox WebDriver\n",
    "\n",
    "# Test to make sure the driver works\n",
    "for url in urls:\n",
    "    driver.get(url)\n",
    "    print(driver.title)\n",
    "    sleep(5)\n",
    "    \n",
    "driver.close()"
   ]
  },
  {
   "cell_type": "code",
   "execution_count": null,
   "id": "4d6647ad",
   "metadata": {},
   "outputs": [],
   "source": []
  }
 ],
 "metadata": {
  "kernelspec": {
   "display_name": "Python 3",
   "language": "python",
   "name": "python3"
  },
  "language_info": {
   "codemirror_mode": {
    "name": "ipython",
    "version": 3
   },
   "file_extension": ".py",
   "mimetype": "text/x-python",
   "name": "python",
   "nbconvert_exporter": "python",
   "pygments_lexer": "ipython3",
   "version": "3.8.8"
  }
 },
 "nbformat": 4,
 "nbformat_minor": 5
}
