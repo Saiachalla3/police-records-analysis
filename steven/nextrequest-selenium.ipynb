{
 "cells": [
  {
   "cell_type": "code",
   "execution_count": 35,
   "id": "0b235fe7",
   "metadata": {
    "scrolled": false
   },
   "outputs": [
    {
     "name": "stdout",
     "output_type": "stream",
     "text": [
      "Requirement already satisfied: selenium in /Users/stevenyuan/opt/anaconda3/lib/python3.8/site-packages (3.141.0)\r\n",
      "Requirement already satisfied: urllib3 in /Users/stevenyuan/opt/anaconda3/lib/python3.8/site-packages (from selenium) (1.26.4)\r\n"
     ]
    }
   ],
   "source": [
    "!pip install selenium\n",
    "\n",
    "from joblib import Parallel, delayed\n",
    "from selenium import webdriver\n",
    "from selenium.webdriver.common.desired_capabilities import DesiredCapabilities\n",
    "from selenium.webdriver.firefox.options import Options\n",
    "from selenium.common.exceptions import NoSuchElementException\n",
    "\n",
    "import sys\n",
    "from tqdm import tqdm\n",
    "from time import sleep\n",
    "\n",
    "import pandas as pd\n",
    "import numpy as np\n",
    "import re\n",
    "\n",
    "# Options for the driver\n",
    "options = Options()\n",
    "options.headless = True"
   ]
  },
  {
   "cell_type": "markdown",
   "id": "4339360a",
   "metadata": {},
   "source": [
    "### TO-DO\n",
    "- Figure out if [Selenium Grid](https://www.selenium.dev/documentation/grid/) can potentially improve the performance of the scraper\n",
    "- Run on Google Colab/Microsoft Azure/local desktop/some other place?"
   ]
  },
  {
   "cell_type": "code",
   "execution_count": 46,
   "id": "16ffa5b4",
   "metadata": {
    "collapsed": true
   },
   "outputs": [
    {
     "ename": "SyntaxError",
     "evalue": "invalid syntax (<ipython-input-46-b2026be2226a>, line 1)",
     "output_type": "error",
     "traceback": [
      "\u001B[0;36m  File \u001B[0;32m\"<ipython-input-46-b2026be2226a>\"\u001B[0;36m, line \u001B[0;32m1\u001B[0m\n\u001B[0;31m    . # Keep this cell to prevent the rest of the notebook from automatically running\u001B[0m\n\u001B[0m    ^\u001B[0m\n\u001B[0;31mSyntaxError\u001B[0m\u001B[0;31m:\u001B[0m invalid syntax\n"
     ]
    }
   ],
   "source": [
    ". # Keep this cell to prevent the rest of the notebook from automatically running"
   ]
  },
  {
   "cell_type": "code",
   "execution_count": 107,
   "id": "294374c9",
   "metadata": {},
   "outputs": [],
   "source": [
    "# Options for scraping\n",
    "earliest_year = 18 # Earliest year to search requests for\n",
    "latest_year = 18 # Latest year to search request for\n",
    "id_start = 2511 # ID value to start from\n",
    "id_range = 3 # Number of IDs to try for each year\n",
    "cooldown = 1 # Amount of time, in seconds, to wait between website accesses\n",
    "\n",
    "# List of all request IDs\n",
    "request_ids = [str(year) + '-' + str(num) for num in range(id_start, id_range + id_start) \n",
    "                                       for year in range(earliest_year, latest_year + 1)]\n",
    "\n",
    "# URLs to extract data from\n",
    "urls = ['https://sandiego.nextrequest.com/requests/', 'https://oaklandca.nextrequest.com/requests/']"
   ]
  },
  {
   "cell_type": "markdown",
   "id": "2025bda3",
   "metadata": {},
   "source": [
    "The following iterative script uses the `selenium` library to, in theory, scrape every request from [San Diego's NextRequest database](https://sandiego.nextrequest.com/requests). It does so by using the fact that every request has its own unique URL i.e. the request with ID 'yy-xxxx' will be found at '.../requests/yy-xxxx'. From each request webpage, the following information is extracted:\n",
    "- `request_id` (str): ID of the request, yy-xxxx\n",
    "- `status` (str): Whether the request is opened or closed. Always takes on a value of either 'closed' or 'open'\n",
    "- `request_desc` (str): Description of the request provided by the requester\n",
    "- `request_date` (str): Initial request date\n",
    "- `depts` (str): Current departments assigned to the requests (may not be the ones the requester had initially)\n",
    "- `docs` (DataFrame): All documents attached to the request, if there are any\n",
    "    - `title` (str): Title given to each document\n",
    "    - `link` (str): Link to each document\n",
    "- `poc` (str): Person of contact\n",
    "- `msgs` (DataFrame): All messages attached to the requests\n",
    "    - `title` (str): Title of each message\n",
    "    - `item` (str): Message body\n",
    "    - `time` (str): Date of each message"
   ]
  },
  {
   "cell_type": "code",
   "execution_count": 108,
   "id": "253e2722",
   "metadata": {
    "scrolled": true
   },
   "outputs": [
    {
     "name": "stderr",
     "output_type": "stream",
     "text": [
      " 33%|███▎      | 1/3 [00:04<00:09,  4.71s/it]"
     ]
    },
    {
     "name": "stdout",
     "output_type": "stream",
     "text": [
      "Unexpected error: (<class 'ValueError'>, ValueError('arrays must all be same length'), <traceback object at 0x7fa5939b75c0>)\n"
     ]
    },
    {
     "name": "stderr",
     "output_type": "stream",
     "text": [
      "100%|██████████| 3/3 [00:08<00:00,  2.96s/it]\n"
     ]
    }
   ],
   "source": [
    "# Iterative script\n",
    "driver = webdriver.Firefox(options=options) # Headless (non-visible) WebDriver\n",
    "\n",
    "sd_requests = [] # List of dictionaries containing information on each request\n",
    "i = 0 # Index for URLs - may be useful later for scraping multiple sites\n",
    "\n",
    "for year in range(earliest_year, latest_year + 1):\n",
    "    for num in tqdm(range(id_start, id_range + id_start)):\n",
    "        request_id = str(year) + '-' + str(num) # NextRequest request IDs are a two-digit year and a number, with a dash in between\n",
    "        url = urls[i] + request_id\n",
    "        driver.get(url) # Attempt to access the record\n",
    "        \n",
    "        # print(driver.title) # For testing purposes\n",
    "        \n",
    "        # If the record does not exist, then move on to the next ID\n",
    "        if (request_id not in driver.title):\n",
    "            sleep(cooldown)\n",
    "            continue\n",
    "            \n",
    "        status, desc, date, depts, docs, poc, events = [None] * 7 # Initialize variables \n",
    "        try: # Attempt to scrape relevant data\n",
    "            status = driver.find_element_by_class_name('request-status-label').text.strip() # Request status\n",
    "            desc = driver.find_element_by_class_name('request-text.row').text # Request description\n",
    "            date = driver.find_element_by_class_name('request_date').text # Request date\n",
    "            depts = driver.find_element_by_class_name('current-department').text # Department(s) currently assigned to the request\n",
    "            poc = driver.find_element_by_class_name('request-detail').text # Person of contact\n",
    "\n",
    "            # Messages recorded on the request page, if there are any\n",
    "            event_titles = get_webelement_text(driver.find_elements_by_class_name('event-title')) # Title for each message\n",
    "            event_items = get_webelement_text(driver.find_elements_by_class_name('event-item')) # Description for each message\n",
    "            time_quotes = get_webelement_text(driver.find_elements_by_class_name('time-quotes')) # Time string for each message\n",
    "            events = pd.DataFrame({ # DataFrame consisting of all messages\n",
    "                'title': event_titles,\n",
    "                'item': event_items,\n",
    "                'time': time_quotes\n",
    "                })\n",
    "\n",
    "            # Documents attached to the request, if there are any\n",
    "            public_docs = driver.find_element_by_id('public-docs') # WebElement containing the documents\n",
    "            folders = public_docs.find_elements_by_class_name('folder-toggle') # Expand folders, if there are any\n",
    "            if folders:\n",
    "                for folder in folders:\n",
    "                    folder.click()\n",
    "            doc_links = public_docs.find_elements_by_class_name('document-link') # Links to documents\n",
    "            docs = pd.DataFrame({ # DataFrame consisting of all documents\n",
    "                'title': get_webelement_text(doc_links),\n",
    "                'link': remove_download_from_urls(get_webelement_link(doc_links))\n",
    "                })\n",
    "        except NoSuchElementException: # Catch exception thrown if a specific element cannot be found, and silently pass\n",
    "            pass\n",
    "        except: # If some other exception occurs, print information about the exception\n",
    "            print('Unexpected error:', sys.exc_info())\n",
    "        finally: # Add request to list\n",
    "            sd_requests.append({\n",
    "                'request_id': request_id,\n",
    "                'status': status,\n",
    "                'request_desc': desc,\n",
    "                'request_date': date,\n",
    "                'depts': depts,\n",
    "                'docs': docs,\n",
    "                'poc': poc,\n",
    "                'msgs': events\n",
    "            })\n",
    "\n",
    "        sleep(cooldown) # Cooldown between requests\n",
    "    sleep(cooldown)\n",
    "        \n",
    "driver.close()\n",
    "\n",
    "# sd_requests = [x for x in sd_requests if x['status'] is not None] # Remove entries with incomplete information\n",
    "# sd_requests_df = pd.DataFrame(sd_requests) # Convert to DataFrame\n",
    "\n",
    "# # Create a zipped CSV file of the data\n",
    "# compression_opts = dict(method='zip', archive_name='sd_requests.csv')\n",
    "# sd_requests_df.to_csv('data/sd_requests.zip', index=False, compression=compression_opts)"
   ]
  },
  {
   "cell_type": "markdown",
   "id": "b6f7249c",
   "metadata": {},
   "source": [
    "Some requests threw a `ValueError` because the length of the `event_items` array was too long, so the `msgs` DataFrame (and subsequently the `docs` DataFrame) could not be created:"
   ]
  },
  {
   "cell_type": "code",
   "execution_count": 122,
   "id": "87851d74",
   "metadata": {
    "collapsed": true
   },
   "outputs": [
    {
     "data": {
      "text/html": [
       "<div>\n",
       "<style scoped>\n",
       "    .dataframe tbody tr th:only-of-type {\n",
       "        vertical-align: middle;\n",
       "    }\n",
       "\n",
       "    .dataframe tbody tr th {\n",
       "        vertical-align: top;\n",
       "    }\n",
       "\n",
       "    .dataframe thead th {\n",
       "        text-align: right;\n",
       "    }\n",
       "</style>\n",
       "<table border=\"1\" class=\"dataframe\">\n",
       "  <thead>\n",
       "    <tr style=\"text-align: right;\">\n",
       "      <th></th>\n",
       "      <th>request_id</th>\n",
       "      <th>status</th>\n",
       "      <th>request_desc</th>\n",
       "      <th>request_date</th>\n",
       "      <th>depts</th>\n",
       "      <th>docs</th>\n",
       "      <th>poc</th>\n",
       "      <th>msgs</th>\n",
       "    </tr>\n",
       "  </thead>\n",
       "  <tbody>\n",
       "    <tr>\n",
       "      <th>8223</th>\n",
       "      <td>18-2512</td>\n",
       "      <td>CLOSED</td>\n",
       "      <td>Rehabilitation of Anthracite Media Beds (RE-BI...</td>\n",
       "      <td>July 2, 2018 via email</td>\n",
       "      <td>Purchasing &amp; Contracting</td>\n",
       "      <td>None</td>\n",
       "      <td>Ginger Rodriguez</td>\n",
       "      <td>None</td>\n",
       "    </tr>\n",
       "    <tr>\n",
       "      <th>8306</th>\n",
       "      <td>18-2595</td>\n",
       "      <td>CLOSED</td>\n",
       "      <td>July 12, 2018                                 ...</td>\n",
       "      <td>July 12, 2018 via web</td>\n",
       "      <td>Engineering and Capital Projects</td>\n",
       "      <td>None</td>\n",
       "      <td>Ginger Rodriguez</td>\n",
       "      <td>None</td>\n",
       "    </tr>\n",
       "    <tr>\n",
       "      <th>9268</th>\n",
       "      <td>18-3558</td>\n",
       "      <td>CLOSED</td>\n",
       "      <td>On behalf of my publisher, I am requesting the...</td>\n",
       "      <td>September 21, 2018 via web</td>\n",
       "      <td>Police</td>\n",
       "      <td>None</td>\n",
       "      <td>Angela Laurita</td>\n",
       "      <td>None</td>\n",
       "    </tr>\n",
       "    <tr>\n",
       "      <th>9767</th>\n",
       "      <td>18-4089</td>\n",
       "      <td>CLOSED</td>\n",
       "      <td>I would like to request a copy of the San Dieg...</td>\n",
       "      <td>October 30, 2018 via web</td>\n",
       "      <td>Animal Services</td>\n",
       "      <td>None</td>\n",
       "      <td>Ginger Rodriguez</td>\n",
       "      <td>None</td>\n",
       "    </tr>\n",
       "    <tr>\n",
       "      <th>9768</th>\n",
       "      <td>18-4090</td>\n",
       "      <td>CLOSED</td>\n",
       "      <td>Hi, \\nCan I request records for case #78924?\\n...</td>\n",
       "      <td>October 30, 2018 via web</td>\n",
       "      <td>Animal Services</td>\n",
       "      <td>None</td>\n",
       "      <td>Ginger Rodriguez</td>\n",
       "      <td>None</td>\n",
       "    </tr>\n",
       "    <tr>\n",
       "      <th>10628</th>\n",
       "      <td>19-222</td>\n",
       "      <td>CLOSED</td>\n",
       "      <td>January 16, 2019                              ...</td>\n",
       "      <td>January 16, 2019 via web</td>\n",
       "      <td>Engineering and Capital Projects</td>\n",
       "      <td>None</td>\n",
       "      <td>Lori Hernandez</td>\n",
       "      <td>None</td>\n",
       "    </tr>\n",
       "    <tr>\n",
       "      <th>10694</th>\n",
       "      <td>19-288</td>\n",
       "      <td>CLOSED</td>\n",
       "      <td>re: Balboa Avenue Station Area Specific Plan /...</td>\n",
       "      <td>January 18, 2019 via web</td>\n",
       "      <td>Planning</td>\n",
       "      <td>None</td>\n",
       "      <td>Ginger Rodriguez</td>\n",
       "      <td>None</td>\n",
       "    </tr>\n",
       "    <tr>\n",
       "      <th>11543</th>\n",
       "      <td>19-1192</td>\n",
       "      <td>CLOSED</td>\n",
       "      <td>I would like to request logs for adult arrests...</td>\n",
       "      <td>March 19, 2019 via web</td>\n",
       "      <td>Police</td>\n",
       "      <td>None</td>\n",
       "      <td>Angela Laurita</td>\n",
       "      <td>None</td>\n",
       "    </tr>\n",
       "    <tr>\n",
       "      <th>11728</th>\n",
       "      <td>19-1378</td>\n",
       "      <td>CLOSED</td>\n",
       "      <td>911 police report #19010007515   January 5th 2019</td>\n",
       "      <td>April 1, 2019 via web</td>\n",
       "      <td>Police</td>\n",
       "      <td>None</td>\n",
       "      <td>Angela Laurita</td>\n",
       "      <td>None</td>\n",
       "    </tr>\n",
       "    <tr>\n",
       "      <th>14132</th>\n",
       "      <td>19-3900</td>\n",
       "      <td>CLOSED</td>\n",
       "      <td>Pursuant to the California Public Records Act,...</td>\n",
       "      <td>August 19, 2019 via web</td>\n",
       "      <td>City Attorney</td>\n",
       "      <td>None</td>\n",
       "      <td>Nancy Shapiro</td>\n",
       "      <td>None</td>\n",
       "    </tr>\n",
       "    <tr>\n",
       "      <th>14311</th>\n",
       "      <td>19-4079</td>\n",
       "      <td>CLOSED</td>\n",
       "      <td>Please provide, pursuant to my rights under Ca...</td>\n",
       "      <td>August 29, 2019 via web</td>\n",
       "      <td>Code Enforcement</td>\n",
       "      <td>None</td>\n",
       "      <td>Ginger Rodriguez</td>\n",
       "      <td>None</td>\n",
       "    </tr>\n",
       "  </tbody>\n",
       "</table>\n",
       "</div>"
      ],
      "text/plain": [
       "      request_id  status                                       request_desc  \\\n",
       "8223     18-2512  CLOSED  Rehabilitation of Anthracite Media Beds (RE-BI...   \n",
       "8306     18-2595  CLOSED  July 12, 2018                                 ...   \n",
       "9268     18-3558  CLOSED  On behalf of my publisher, I am requesting the...   \n",
       "9767     18-4089  CLOSED  I would like to request a copy of the San Dieg...   \n",
       "9768     18-4090  CLOSED  Hi, \\nCan I request records for case #78924?\\n...   \n",
       "10628     19-222  CLOSED  January 16, 2019                              ...   \n",
       "10694     19-288  CLOSED  re: Balboa Avenue Station Area Specific Plan /...   \n",
       "11543    19-1192  CLOSED  I would like to request logs for adult arrests...   \n",
       "11728    19-1378  CLOSED  911 police report #19010007515   January 5th 2019   \n",
       "14132    19-3900  CLOSED  Pursuant to the California Public Records Act,...   \n",
       "14311    19-4079  CLOSED  Please provide, pursuant to my rights under Ca...   \n",
       "\n",
       "                     request_date                             depts  docs  \\\n",
       "8223       July 2, 2018 via email          Purchasing & Contracting  None   \n",
       "8306        July 12, 2018 via web  Engineering and Capital Projects  None   \n",
       "9268   September 21, 2018 via web                            Police  None   \n",
       "9767     October 30, 2018 via web                   Animal Services  None   \n",
       "9768     October 30, 2018 via web                   Animal Services  None   \n",
       "10628    January 16, 2019 via web  Engineering and Capital Projects  None   \n",
       "10694    January 18, 2019 via web                          Planning  None   \n",
       "11543      March 19, 2019 via web                            Police  None   \n",
       "11728       April 1, 2019 via web                            Police  None   \n",
       "14132     August 19, 2019 via web                     City Attorney  None   \n",
       "14311     August 29, 2019 via web                  Code Enforcement  None   \n",
       "\n",
       "                    poc  msgs  \n",
       "8223   Ginger Rodriguez  None  \n",
       "8306   Ginger Rodriguez  None  \n",
       "9268     Angela Laurita  None  \n",
       "9767   Ginger Rodriguez  None  \n",
       "9768   Ginger Rodriguez  None  \n",
       "10628    Lori Hernandez  None  \n",
       "10694  Ginger Rodriguez  None  \n",
       "11543    Angela Laurita  None  \n",
       "11728    Angela Laurita  None  \n",
       "14132     Nancy Shapiro  None  \n",
       "14311  Ginger Rodriguez  None  "
      ]
     },
     "execution_count": 122,
     "metadata": {},
     "output_type": "execute_result"
    }
   ],
   "source": [
    "sd_requests_df[sd_requests_df['msgs'].isna()]"
   ]
  },
  {
   "cell_type": "markdown",
   "id": "9b29ae46",
   "metadata": {},
   "source": [
    "More seriously, a significant proportion of requests were not included due to an undesirable behavior of the driver: if it has been running at a rate of less than 2 seconds per iteration, it will begin to rapidly skip over many consecutive IDs for a while, even if some the IDs are valid. Thus, any requests that were in one of these consecutive runs would not have been scraped."
   ]
  },
  {
   "cell_type": "code",
   "execution_count": 119,
   "id": "792da0a1",
   "metadata": {
    "scrolled": true
   },
   "outputs": [
    {
     "data": {
      "text/plain": [
       "26788"
      ]
     },
     "execution_count": 119,
     "metadata": {},
     "output_type": "execute_result"
    }
   ],
   "source": [
    "len(sd_requests)"
   ]
  },
  {
   "cell_type": "markdown",
   "id": "70e553d1",
   "metadata": {},
   "source": [
    "As of Monday, November 1, 7 PM, there are 28817 requests in the San Diego NextRequest database, meaning that the scraper successfully scraped about 92.5\\% of all the requests. We can roughly figure out the ranges of the remaining 7.5\\% that were not scraped:"
   ]
  },
  {
   "cell_type": "code",
   "execution_count": 81,
   "id": "0901f768",
   "metadata": {
    "scrolled": true
   },
   "outputs": [
    {
     "data": {
      "text/plain": [
       "array(['16-1', '16-2', '16-3', ..., '21-5552', '21-5565', '21-5571'],\n",
       "      dtype=object)"
      ]
     },
     "execution_count": 81,
     "metadata": {},
     "output_type": "execute_result"
    }
   ],
   "source": [
    "# Get all the requests the scraper managed to scrape\n",
    "scraped_requests = sd_requests_df['request_id'].to_numpy()\n",
    "scraped_requests"
   ]
  },
  {
   "cell_type": "code",
   "execution_count": 83,
   "id": "ca775bc0",
   "metadata": {},
   "outputs": [
    {
     "data": {
      "text/plain": [
       "6121"
      ]
     },
     "execution_count": 83,
     "metadata": {},
     "output_type": "execute_result"
    }
   ],
   "source": [
    "# Determine the highest number among all the scraped requests\n",
    "id_max = max(list(map(lambda x: int(x.split('-')[1]), scraped_requests)))\n",
    "id_max"
   ]
  },
  {
   "cell_type": "code",
   "execution_count": 90,
   "id": "6d0944d6",
   "metadata": {
    "collapsed": true
   },
   "outputs": [
    {
     "data": {
      "text/plain": [
       "['17-1',\n",
       " '18-1',\n",
       " '19-1',\n",
       " '20-1',\n",
       " '21-1',\n",
       " '17-2',\n",
       " '18-2',\n",
       " '19-2',\n",
       " '20-2',\n",
       " '21-2']"
      ]
     },
     "execution_count": 90,
     "metadata": {},
     "output_type": "execute_result"
    }
   ],
   "source": [
    "# Find (roughly) the ranges for all the requests that were not scraped\n",
    "request_ids_max = [str(year) + '-' + str(num) for num in range(id_start, id_max) \n",
    "                                       for year in range(earliest_year, latest_year + 1)]\n",
    "unscraped_requests = [request_id for request_id in request_ids_max if request_id not in scraped_requests]"
   ]
  },
  {
   "cell_type": "code",
   "execution_count": 120,
   "id": "103cbeed",
   "metadata": {
    "scrolled": true
   },
   "outputs": [
    {
     "data": {
      "text/plain": [
       "['16-1816',\n",
       " '16-2534',\n",
       " '16-2535',\n",
       " '16-2536',\n",
       " '16-2537',\n",
       " '16-2538',\n",
       " '16-2539',\n",
       " '16-2540',\n",
       " '16-2541',\n",
       " '16-2542']"
      ]
     },
     "execution_count": 120,
     "metadata": {},
     "output_type": "execute_result"
    }
   ],
   "source": [
    "sorted(unscraped_requests)[:10]"
   ]
  },
  {
   "cell_type": "markdown",
   "id": "8f38f1a3",
   "metadata": {},
   "source": [
    "(Note that some of these requests were not scraped because they are not publically accessible. One such request is [16-1816](https://sandiego.nextrequest.com/requests/16-1816).)\n",
    "\n",
    "We will attempt to add the excluded requests by performing a second iteration of the scraper, this time on our `unscraped_requests` list:"
   ]
  },
  {
   "cell_type": "code",
   "execution_count": 94,
   "id": "ee9ca77c",
   "metadata": {
    "collapsed": true
   },
   "outputs": [
    {
     "name": "stderr",
     "output_type": "stream",
     "text": [
      "  1%|          | 72/9933 [03:07<7:07:41,  2.60s/it] \n"
     ]
    },
    {
     "ename": "KeyboardInterrupt",
     "evalue": "",
     "output_type": "error",
     "traceback": [
      "\u001B[0;31m---------------------------------------------------------------------------\u001B[0m",
      "\u001B[0;31mKeyboardInterrupt\u001B[0m                         Traceback (most recent call last)",
      "\u001B[0;32m<ipython-input-94-2200d1caf9f6>\u001B[0m in \u001B[0;36m<module>\u001B[0;34m\u001B[0m\n\u001B[1;32m      4\u001B[0m \u001B[0;32mfor\u001B[0m \u001B[0mrequest_id\u001B[0m \u001B[0;32min\u001B[0m \u001B[0mtqdm\u001B[0m\u001B[0;34m(\u001B[0m\u001B[0munscraped_requests\u001B[0m\u001B[0;34m)\u001B[0m\u001B[0;34m:\u001B[0m\u001B[0;34m\u001B[0m\u001B[0;34m\u001B[0m\u001B[0m\n\u001B[1;32m      5\u001B[0m     \u001B[0murl\u001B[0m \u001B[0;34m=\u001B[0m \u001B[0murls\u001B[0m\u001B[0;34m[\u001B[0m\u001B[0mi\u001B[0m\u001B[0;34m]\u001B[0m \u001B[0;34m+\u001B[0m \u001B[0mrequest_id\u001B[0m\u001B[0;34m\u001B[0m\u001B[0;34m\u001B[0m\u001B[0m\n\u001B[0;32m----> 6\u001B[0;31m     \u001B[0mdriver\u001B[0m\u001B[0;34m.\u001B[0m\u001B[0mget\u001B[0m\u001B[0;34m(\u001B[0m\u001B[0murl\u001B[0m\u001B[0;34m)\u001B[0m\u001B[0;34m\u001B[0m\u001B[0;34m\u001B[0m\u001B[0m\n\u001B[0m\u001B[1;32m      7\u001B[0m \u001B[0;34m\u001B[0m\u001B[0m\n\u001B[1;32m      8\u001B[0m     \u001B[0;32mif\u001B[0m \u001B[0;34m(\u001B[0m\u001B[0mrequest_id\u001B[0m \u001B[0;32min\u001B[0m \u001B[0mdriver\u001B[0m\u001B[0;34m.\u001B[0m\u001B[0mtitle\u001B[0m\u001B[0;34m)\u001B[0m\u001B[0;34m:\u001B[0m\u001B[0;34m\u001B[0m\u001B[0;34m\u001B[0m\u001B[0m\n",
      "\u001B[0;32m~/opt/anaconda3/lib/python3.8/site-packages/selenium/webdriver/remote/webdriver.py\u001B[0m in \u001B[0;36mget\u001B[0;34m(self, url)\u001B[0m\n\u001B[1;32m    331\u001B[0m         \u001B[0mLoads\u001B[0m \u001B[0ma\u001B[0m \u001B[0mweb\u001B[0m \u001B[0mpage\u001B[0m \u001B[0;32min\u001B[0m \u001B[0mthe\u001B[0m \u001B[0mcurrent\u001B[0m \u001B[0mbrowser\u001B[0m \u001B[0msession\u001B[0m\u001B[0;34m.\u001B[0m\u001B[0;34m\u001B[0m\u001B[0;34m\u001B[0m\u001B[0m\n\u001B[1;32m    332\u001B[0m         \"\"\"\n\u001B[0;32m--> 333\u001B[0;31m         \u001B[0mself\u001B[0m\u001B[0;34m.\u001B[0m\u001B[0mexecute\u001B[0m\u001B[0;34m(\u001B[0m\u001B[0mCommand\u001B[0m\u001B[0;34m.\u001B[0m\u001B[0mGET\u001B[0m\u001B[0;34m,\u001B[0m \u001B[0;34m{\u001B[0m\u001B[0;34m'url'\u001B[0m\u001B[0;34m:\u001B[0m \u001B[0murl\u001B[0m\u001B[0;34m}\u001B[0m\u001B[0;34m)\u001B[0m\u001B[0;34m\u001B[0m\u001B[0;34m\u001B[0m\u001B[0m\n\u001B[0m\u001B[1;32m    334\u001B[0m \u001B[0;34m\u001B[0m\u001B[0m\n\u001B[1;32m    335\u001B[0m     \u001B[0;34m@\u001B[0m\u001B[0mproperty\u001B[0m\u001B[0;34m\u001B[0m\u001B[0;34m\u001B[0m\u001B[0m\n",
      "\u001B[0;32m~/opt/anaconda3/lib/python3.8/site-packages/selenium/webdriver/remote/webdriver.py\u001B[0m in \u001B[0;36mexecute\u001B[0;34m(self, driver_command, params)\u001B[0m\n\u001B[1;32m    317\u001B[0m \u001B[0;34m\u001B[0m\u001B[0m\n\u001B[1;32m    318\u001B[0m         \u001B[0mparams\u001B[0m \u001B[0;34m=\u001B[0m \u001B[0mself\u001B[0m\u001B[0;34m.\u001B[0m\u001B[0m_wrap_value\u001B[0m\u001B[0;34m(\u001B[0m\u001B[0mparams\u001B[0m\u001B[0;34m)\u001B[0m\u001B[0;34m\u001B[0m\u001B[0;34m\u001B[0m\u001B[0m\n\u001B[0;32m--> 319\u001B[0;31m         \u001B[0mresponse\u001B[0m \u001B[0;34m=\u001B[0m \u001B[0mself\u001B[0m\u001B[0;34m.\u001B[0m\u001B[0mcommand_executor\u001B[0m\u001B[0;34m.\u001B[0m\u001B[0mexecute\u001B[0m\u001B[0;34m(\u001B[0m\u001B[0mdriver_command\u001B[0m\u001B[0;34m,\u001B[0m \u001B[0mparams\u001B[0m\u001B[0;34m)\u001B[0m\u001B[0;34m\u001B[0m\u001B[0;34m\u001B[0m\u001B[0m\n\u001B[0m\u001B[1;32m    320\u001B[0m         \u001B[0;32mif\u001B[0m \u001B[0mresponse\u001B[0m\u001B[0;34m:\u001B[0m\u001B[0;34m\u001B[0m\u001B[0;34m\u001B[0m\u001B[0m\n\u001B[1;32m    321\u001B[0m             \u001B[0mself\u001B[0m\u001B[0;34m.\u001B[0m\u001B[0merror_handler\u001B[0m\u001B[0;34m.\u001B[0m\u001B[0mcheck_response\u001B[0m\u001B[0;34m(\u001B[0m\u001B[0mresponse\u001B[0m\u001B[0;34m)\u001B[0m\u001B[0;34m\u001B[0m\u001B[0;34m\u001B[0m\u001B[0m\n",
      "\u001B[0;32m~/opt/anaconda3/lib/python3.8/site-packages/selenium/webdriver/remote/remote_connection.py\u001B[0m in \u001B[0;36mexecute\u001B[0;34m(self, command, params)\u001B[0m\n\u001B[1;32m    372\u001B[0m         \u001B[0mdata\u001B[0m \u001B[0;34m=\u001B[0m \u001B[0mutils\u001B[0m\u001B[0;34m.\u001B[0m\u001B[0mdump_json\u001B[0m\u001B[0;34m(\u001B[0m\u001B[0mparams\u001B[0m\u001B[0;34m)\u001B[0m\u001B[0;34m\u001B[0m\u001B[0;34m\u001B[0m\u001B[0m\n\u001B[1;32m    373\u001B[0m         \u001B[0murl\u001B[0m \u001B[0;34m=\u001B[0m \u001B[0;34m'%s%s'\u001B[0m \u001B[0;34m%\u001B[0m \u001B[0;34m(\u001B[0m\u001B[0mself\u001B[0m\u001B[0;34m.\u001B[0m\u001B[0m_url\u001B[0m\u001B[0;34m,\u001B[0m \u001B[0mpath\u001B[0m\u001B[0;34m)\u001B[0m\u001B[0;34m\u001B[0m\u001B[0;34m\u001B[0m\u001B[0m\n\u001B[0;32m--> 374\u001B[0;31m         \u001B[0;32mreturn\u001B[0m \u001B[0mself\u001B[0m\u001B[0;34m.\u001B[0m\u001B[0m_request\u001B[0m\u001B[0;34m(\u001B[0m\u001B[0mcommand_info\u001B[0m\u001B[0;34m[\u001B[0m\u001B[0;36m0\u001B[0m\u001B[0;34m]\u001B[0m\u001B[0;34m,\u001B[0m \u001B[0murl\u001B[0m\u001B[0;34m,\u001B[0m \u001B[0mbody\u001B[0m\u001B[0;34m=\u001B[0m\u001B[0mdata\u001B[0m\u001B[0;34m)\u001B[0m\u001B[0;34m\u001B[0m\u001B[0;34m\u001B[0m\u001B[0m\n\u001B[0m\u001B[1;32m    375\u001B[0m \u001B[0;34m\u001B[0m\u001B[0m\n\u001B[1;32m    376\u001B[0m     \u001B[0;32mdef\u001B[0m \u001B[0m_request\u001B[0m\u001B[0;34m(\u001B[0m\u001B[0mself\u001B[0m\u001B[0;34m,\u001B[0m \u001B[0mmethod\u001B[0m\u001B[0;34m,\u001B[0m \u001B[0murl\u001B[0m\u001B[0;34m,\u001B[0m \u001B[0mbody\u001B[0m\u001B[0;34m=\u001B[0m\u001B[0;32mNone\u001B[0m\u001B[0;34m)\u001B[0m\u001B[0;34m:\u001B[0m\u001B[0;34m\u001B[0m\u001B[0;34m\u001B[0m\u001B[0m\n",
      "\u001B[0;32m~/opt/anaconda3/lib/python3.8/site-packages/selenium/webdriver/remote/remote_connection.py\u001B[0m in \u001B[0;36m_request\u001B[0;34m(self, method, url, body)\u001B[0m\n\u001B[1;32m    395\u001B[0m \u001B[0;34m\u001B[0m\u001B[0m\n\u001B[1;32m    396\u001B[0m         \u001B[0;32mif\u001B[0m \u001B[0mself\u001B[0m\u001B[0;34m.\u001B[0m\u001B[0mkeep_alive\u001B[0m\u001B[0;34m:\u001B[0m\u001B[0;34m\u001B[0m\u001B[0;34m\u001B[0m\u001B[0m\n\u001B[0;32m--> 397\u001B[0;31m             \u001B[0mresp\u001B[0m \u001B[0;34m=\u001B[0m \u001B[0mself\u001B[0m\u001B[0;34m.\u001B[0m\u001B[0m_conn\u001B[0m\u001B[0;34m.\u001B[0m\u001B[0mrequest\u001B[0m\u001B[0;34m(\u001B[0m\u001B[0mmethod\u001B[0m\u001B[0;34m,\u001B[0m \u001B[0murl\u001B[0m\u001B[0;34m,\u001B[0m \u001B[0mbody\u001B[0m\u001B[0;34m=\u001B[0m\u001B[0mbody\u001B[0m\u001B[0;34m,\u001B[0m \u001B[0mheaders\u001B[0m\u001B[0;34m=\u001B[0m\u001B[0mheaders\u001B[0m\u001B[0;34m)\u001B[0m\u001B[0;34m\u001B[0m\u001B[0;34m\u001B[0m\u001B[0m\n\u001B[0m\u001B[1;32m    398\u001B[0m \u001B[0;34m\u001B[0m\u001B[0m\n\u001B[1;32m    399\u001B[0m             \u001B[0mstatuscode\u001B[0m \u001B[0;34m=\u001B[0m \u001B[0mresp\u001B[0m\u001B[0;34m.\u001B[0m\u001B[0mstatus\u001B[0m\u001B[0;34m\u001B[0m\u001B[0;34m\u001B[0m\u001B[0m\n",
      "\u001B[0;32m~/opt/anaconda3/lib/python3.8/site-packages/urllib3/request.py\u001B[0m in \u001B[0;36mrequest\u001B[0;34m(self, method, url, fields, headers, **urlopen_kw)\u001B[0m\n\u001B[1;32m     76\u001B[0m             )\n\u001B[1;32m     77\u001B[0m         \u001B[0;32melse\u001B[0m\u001B[0;34m:\u001B[0m\u001B[0;34m\u001B[0m\u001B[0;34m\u001B[0m\u001B[0m\n\u001B[0;32m---> 78\u001B[0;31m             return self.request_encode_body(\n\u001B[0m\u001B[1;32m     79\u001B[0m                 \u001B[0mmethod\u001B[0m\u001B[0;34m,\u001B[0m \u001B[0murl\u001B[0m\u001B[0;34m,\u001B[0m \u001B[0mfields\u001B[0m\u001B[0;34m=\u001B[0m\u001B[0mfields\u001B[0m\u001B[0;34m,\u001B[0m \u001B[0mheaders\u001B[0m\u001B[0;34m=\u001B[0m\u001B[0mheaders\u001B[0m\u001B[0;34m,\u001B[0m \u001B[0;34m**\u001B[0m\u001B[0murlopen_kw\u001B[0m\u001B[0;34m\u001B[0m\u001B[0;34m\u001B[0m\u001B[0m\n\u001B[1;32m     80\u001B[0m             )\n",
      "\u001B[0;32m~/opt/anaconda3/lib/python3.8/site-packages/urllib3/request.py\u001B[0m in \u001B[0;36mrequest_encode_body\u001B[0;34m(self, method, url, fields, headers, encode_multipart, multipart_boundary, **urlopen_kw)\u001B[0m\n\u001B[1;32m    168\u001B[0m         \u001B[0mextra_kw\u001B[0m\u001B[0;34m.\u001B[0m\u001B[0mupdate\u001B[0m\u001B[0;34m(\u001B[0m\u001B[0murlopen_kw\u001B[0m\u001B[0;34m)\u001B[0m\u001B[0;34m\u001B[0m\u001B[0;34m\u001B[0m\u001B[0m\n\u001B[1;32m    169\u001B[0m \u001B[0;34m\u001B[0m\u001B[0m\n\u001B[0;32m--> 170\u001B[0;31m         \u001B[0;32mreturn\u001B[0m \u001B[0mself\u001B[0m\u001B[0;34m.\u001B[0m\u001B[0murlopen\u001B[0m\u001B[0;34m(\u001B[0m\u001B[0mmethod\u001B[0m\u001B[0;34m,\u001B[0m \u001B[0murl\u001B[0m\u001B[0;34m,\u001B[0m \u001B[0;34m**\u001B[0m\u001B[0mextra_kw\u001B[0m\u001B[0;34m)\u001B[0m\u001B[0;34m\u001B[0m\u001B[0;34m\u001B[0m\u001B[0m\n\u001B[0m",
      "\u001B[0;32m~/opt/anaconda3/lib/python3.8/site-packages/urllib3/poolmanager.py\u001B[0m in \u001B[0;36murlopen\u001B[0;34m(self, method, url, redirect, **kw)\u001B[0m\n\u001B[1;32m    373\u001B[0m             \u001B[0mresponse\u001B[0m \u001B[0;34m=\u001B[0m \u001B[0mconn\u001B[0m\u001B[0;34m.\u001B[0m\u001B[0murlopen\u001B[0m\u001B[0;34m(\u001B[0m\u001B[0mmethod\u001B[0m\u001B[0;34m,\u001B[0m \u001B[0murl\u001B[0m\u001B[0;34m,\u001B[0m \u001B[0;34m**\u001B[0m\u001B[0mkw\u001B[0m\u001B[0;34m)\u001B[0m\u001B[0;34m\u001B[0m\u001B[0;34m\u001B[0m\u001B[0m\n\u001B[1;32m    374\u001B[0m         \u001B[0;32melse\u001B[0m\u001B[0;34m:\u001B[0m\u001B[0;34m\u001B[0m\u001B[0;34m\u001B[0m\u001B[0m\n\u001B[0;32m--> 375\u001B[0;31m             \u001B[0mresponse\u001B[0m \u001B[0;34m=\u001B[0m \u001B[0mconn\u001B[0m\u001B[0;34m.\u001B[0m\u001B[0murlopen\u001B[0m\u001B[0;34m(\u001B[0m\u001B[0mmethod\u001B[0m\u001B[0;34m,\u001B[0m \u001B[0mu\u001B[0m\u001B[0;34m.\u001B[0m\u001B[0mrequest_uri\u001B[0m\u001B[0;34m,\u001B[0m \u001B[0;34m**\u001B[0m\u001B[0mkw\u001B[0m\u001B[0;34m)\u001B[0m\u001B[0;34m\u001B[0m\u001B[0;34m\u001B[0m\u001B[0m\n\u001B[0m\u001B[1;32m    376\u001B[0m \u001B[0;34m\u001B[0m\u001B[0m\n\u001B[1;32m    377\u001B[0m         \u001B[0mredirect_location\u001B[0m \u001B[0;34m=\u001B[0m \u001B[0mredirect\u001B[0m \u001B[0;32mand\u001B[0m \u001B[0mresponse\u001B[0m\u001B[0;34m.\u001B[0m\u001B[0mget_redirect_location\u001B[0m\u001B[0;34m(\u001B[0m\u001B[0;34m)\u001B[0m\u001B[0;34m\u001B[0m\u001B[0;34m\u001B[0m\u001B[0m\n",
      "\u001B[0;32m~/opt/anaconda3/lib/python3.8/site-packages/urllib3/connectionpool.py\u001B[0m in \u001B[0;36murlopen\u001B[0;34m(self, method, url, body, headers, retries, redirect, assert_same_host, timeout, pool_timeout, release_conn, chunked, body_pos, **response_kw)\u001B[0m\n\u001B[1;32m    697\u001B[0m \u001B[0;34m\u001B[0m\u001B[0m\n\u001B[1;32m    698\u001B[0m             \u001B[0;31m# Make the request on the httplib connection object.\u001B[0m\u001B[0;34m\u001B[0m\u001B[0;34m\u001B[0m\u001B[0;34m\u001B[0m\u001B[0m\n\u001B[0;32m--> 699\u001B[0;31m             httplib_response = self._make_request(\n\u001B[0m\u001B[1;32m    700\u001B[0m                 \u001B[0mconn\u001B[0m\u001B[0;34m,\u001B[0m\u001B[0;34m\u001B[0m\u001B[0;34m\u001B[0m\u001B[0m\n\u001B[1;32m    701\u001B[0m                 \u001B[0mmethod\u001B[0m\u001B[0;34m,\u001B[0m\u001B[0;34m\u001B[0m\u001B[0;34m\u001B[0m\u001B[0m\n",
      "\u001B[0;32m~/opt/anaconda3/lib/python3.8/site-packages/urllib3/connectionpool.py\u001B[0m in \u001B[0;36m_make_request\u001B[0;34m(self, conn, method, url, timeout, chunked, **httplib_request_kw)\u001B[0m\n\u001B[1;32m    443\u001B[0m                     \u001B[0;31m# Python 3 (including for exceptions like SystemExit).\u001B[0m\u001B[0;34m\u001B[0m\u001B[0;34m\u001B[0m\u001B[0;34m\u001B[0m\u001B[0m\n\u001B[1;32m    444\u001B[0m                     \u001B[0;31m# Otherwise it looks like a bug in the code.\u001B[0m\u001B[0;34m\u001B[0m\u001B[0;34m\u001B[0m\u001B[0;34m\u001B[0m\u001B[0m\n\u001B[0;32m--> 445\u001B[0;31m                     \u001B[0msix\u001B[0m\u001B[0;34m.\u001B[0m\u001B[0mraise_from\u001B[0m\u001B[0;34m(\u001B[0m\u001B[0me\u001B[0m\u001B[0;34m,\u001B[0m \u001B[0;32mNone\u001B[0m\u001B[0;34m)\u001B[0m\u001B[0;34m\u001B[0m\u001B[0;34m\u001B[0m\u001B[0m\n\u001B[0m\u001B[1;32m    446\u001B[0m         \u001B[0;32mexcept\u001B[0m \u001B[0;34m(\u001B[0m\u001B[0mSocketTimeout\u001B[0m\u001B[0;34m,\u001B[0m \u001B[0mBaseSSLError\u001B[0m\u001B[0;34m,\u001B[0m \u001B[0mSocketError\u001B[0m\u001B[0;34m)\u001B[0m \u001B[0;32mas\u001B[0m \u001B[0me\u001B[0m\u001B[0;34m:\u001B[0m\u001B[0;34m\u001B[0m\u001B[0;34m\u001B[0m\u001B[0m\n\u001B[1;32m    447\u001B[0m             \u001B[0mself\u001B[0m\u001B[0;34m.\u001B[0m\u001B[0m_raise_timeout\u001B[0m\u001B[0;34m(\u001B[0m\u001B[0merr\u001B[0m\u001B[0;34m=\u001B[0m\u001B[0me\u001B[0m\u001B[0;34m,\u001B[0m \u001B[0murl\u001B[0m\u001B[0;34m=\u001B[0m\u001B[0murl\u001B[0m\u001B[0;34m,\u001B[0m \u001B[0mtimeout_value\u001B[0m\u001B[0;34m=\u001B[0m\u001B[0mread_timeout\u001B[0m\u001B[0;34m)\u001B[0m\u001B[0;34m\u001B[0m\u001B[0;34m\u001B[0m\u001B[0m\n",
      "\u001B[0;32m~/opt/anaconda3/lib/python3.8/site-packages/urllib3/packages/six.py\u001B[0m in \u001B[0;36mraise_from\u001B[0;34m(value, from_value)\u001B[0m\n",
      "\u001B[0;32m~/opt/anaconda3/lib/python3.8/site-packages/urllib3/connectionpool.py\u001B[0m in \u001B[0;36m_make_request\u001B[0;34m(self, conn, method, url, timeout, chunked, **httplib_request_kw)\u001B[0m\n\u001B[1;32m    438\u001B[0m                 \u001B[0;31m# Python 3\u001B[0m\u001B[0;34m\u001B[0m\u001B[0;34m\u001B[0m\u001B[0;34m\u001B[0m\u001B[0m\n\u001B[1;32m    439\u001B[0m                 \u001B[0;32mtry\u001B[0m\u001B[0;34m:\u001B[0m\u001B[0;34m\u001B[0m\u001B[0;34m\u001B[0m\u001B[0m\n\u001B[0;32m--> 440\u001B[0;31m                     \u001B[0mhttplib_response\u001B[0m \u001B[0;34m=\u001B[0m \u001B[0mconn\u001B[0m\u001B[0;34m.\u001B[0m\u001B[0mgetresponse\u001B[0m\u001B[0;34m(\u001B[0m\u001B[0;34m)\u001B[0m\u001B[0;34m\u001B[0m\u001B[0;34m\u001B[0m\u001B[0m\n\u001B[0m\u001B[1;32m    441\u001B[0m                 \u001B[0;32mexcept\u001B[0m \u001B[0mBaseException\u001B[0m \u001B[0;32mas\u001B[0m \u001B[0me\u001B[0m\u001B[0;34m:\u001B[0m\u001B[0;34m\u001B[0m\u001B[0;34m\u001B[0m\u001B[0m\n\u001B[1;32m    442\u001B[0m                     \u001B[0;31m# Remove the TypeError from the exception chain in\u001B[0m\u001B[0;34m\u001B[0m\u001B[0;34m\u001B[0m\u001B[0;34m\u001B[0m\u001B[0m\n",
      "\u001B[0;32m~/opt/anaconda3/lib/python3.8/http/client.py\u001B[0m in \u001B[0;36mgetresponse\u001B[0;34m(self)\u001B[0m\n\u001B[1;32m   1345\u001B[0m         \u001B[0;32mtry\u001B[0m\u001B[0;34m:\u001B[0m\u001B[0;34m\u001B[0m\u001B[0;34m\u001B[0m\u001B[0m\n\u001B[1;32m   1346\u001B[0m             \u001B[0;32mtry\u001B[0m\u001B[0;34m:\u001B[0m\u001B[0;34m\u001B[0m\u001B[0;34m\u001B[0m\u001B[0m\n\u001B[0;32m-> 1347\u001B[0;31m                 \u001B[0mresponse\u001B[0m\u001B[0;34m.\u001B[0m\u001B[0mbegin\u001B[0m\u001B[0;34m(\u001B[0m\u001B[0;34m)\u001B[0m\u001B[0;34m\u001B[0m\u001B[0;34m\u001B[0m\u001B[0m\n\u001B[0m\u001B[1;32m   1348\u001B[0m             \u001B[0;32mexcept\u001B[0m \u001B[0mConnectionError\u001B[0m\u001B[0;34m:\u001B[0m\u001B[0;34m\u001B[0m\u001B[0;34m\u001B[0m\u001B[0m\n\u001B[1;32m   1349\u001B[0m                 \u001B[0mself\u001B[0m\u001B[0;34m.\u001B[0m\u001B[0mclose\u001B[0m\u001B[0;34m(\u001B[0m\u001B[0;34m)\u001B[0m\u001B[0;34m\u001B[0m\u001B[0;34m\u001B[0m\u001B[0m\n",
      "\u001B[0;32m~/opt/anaconda3/lib/python3.8/http/client.py\u001B[0m in \u001B[0;36mbegin\u001B[0;34m(self)\u001B[0m\n\u001B[1;32m    305\u001B[0m         \u001B[0;31m# read until we get a non-100 response\u001B[0m\u001B[0;34m\u001B[0m\u001B[0;34m\u001B[0m\u001B[0;34m\u001B[0m\u001B[0m\n\u001B[1;32m    306\u001B[0m         \u001B[0;32mwhile\u001B[0m \u001B[0;32mTrue\u001B[0m\u001B[0;34m:\u001B[0m\u001B[0;34m\u001B[0m\u001B[0;34m\u001B[0m\u001B[0m\n\u001B[0;32m--> 307\u001B[0;31m             \u001B[0mversion\u001B[0m\u001B[0;34m,\u001B[0m \u001B[0mstatus\u001B[0m\u001B[0;34m,\u001B[0m \u001B[0mreason\u001B[0m \u001B[0;34m=\u001B[0m \u001B[0mself\u001B[0m\u001B[0;34m.\u001B[0m\u001B[0m_read_status\u001B[0m\u001B[0;34m(\u001B[0m\u001B[0;34m)\u001B[0m\u001B[0;34m\u001B[0m\u001B[0;34m\u001B[0m\u001B[0m\n\u001B[0m\u001B[1;32m    308\u001B[0m             \u001B[0;32mif\u001B[0m \u001B[0mstatus\u001B[0m \u001B[0;34m!=\u001B[0m \u001B[0mCONTINUE\u001B[0m\u001B[0;34m:\u001B[0m\u001B[0;34m\u001B[0m\u001B[0;34m\u001B[0m\u001B[0m\n\u001B[1;32m    309\u001B[0m                 \u001B[0;32mbreak\u001B[0m\u001B[0;34m\u001B[0m\u001B[0;34m\u001B[0m\u001B[0m\n",
      "\u001B[0;32m~/opt/anaconda3/lib/python3.8/http/client.py\u001B[0m in \u001B[0;36m_read_status\u001B[0;34m(self)\u001B[0m\n\u001B[1;32m    266\u001B[0m \u001B[0;34m\u001B[0m\u001B[0m\n\u001B[1;32m    267\u001B[0m     \u001B[0;32mdef\u001B[0m \u001B[0m_read_status\u001B[0m\u001B[0;34m(\u001B[0m\u001B[0mself\u001B[0m\u001B[0;34m)\u001B[0m\u001B[0;34m:\u001B[0m\u001B[0;34m\u001B[0m\u001B[0;34m\u001B[0m\u001B[0m\n\u001B[0;32m--> 268\u001B[0;31m         \u001B[0mline\u001B[0m \u001B[0;34m=\u001B[0m \u001B[0mstr\u001B[0m\u001B[0;34m(\u001B[0m\u001B[0mself\u001B[0m\u001B[0;34m.\u001B[0m\u001B[0mfp\u001B[0m\u001B[0;34m.\u001B[0m\u001B[0mreadline\u001B[0m\u001B[0;34m(\u001B[0m\u001B[0m_MAXLINE\u001B[0m \u001B[0;34m+\u001B[0m \u001B[0;36m1\u001B[0m\u001B[0;34m)\u001B[0m\u001B[0;34m,\u001B[0m \u001B[0;34m\"iso-8859-1\"\u001B[0m\u001B[0;34m)\u001B[0m\u001B[0;34m\u001B[0m\u001B[0;34m\u001B[0m\u001B[0m\n\u001B[0m\u001B[1;32m    269\u001B[0m         \u001B[0;32mif\u001B[0m \u001B[0mlen\u001B[0m\u001B[0;34m(\u001B[0m\u001B[0mline\u001B[0m\u001B[0;34m)\u001B[0m \u001B[0;34m>\u001B[0m \u001B[0m_MAXLINE\u001B[0m\u001B[0;34m:\u001B[0m\u001B[0;34m\u001B[0m\u001B[0;34m\u001B[0m\u001B[0m\n\u001B[1;32m    270\u001B[0m             \u001B[0;32mraise\u001B[0m \u001B[0mLineTooLong\u001B[0m\u001B[0;34m(\u001B[0m\u001B[0;34m\"status line\"\u001B[0m\u001B[0;34m)\u001B[0m\u001B[0;34m\u001B[0m\u001B[0;34m\u001B[0m\u001B[0m\n",
      "\u001B[0;32m~/opt/anaconda3/lib/python3.8/socket.py\u001B[0m in \u001B[0;36mreadinto\u001B[0;34m(self, b)\u001B[0m\n\u001B[1;32m    667\u001B[0m         \u001B[0;32mwhile\u001B[0m \u001B[0;32mTrue\u001B[0m\u001B[0;34m:\u001B[0m\u001B[0;34m\u001B[0m\u001B[0;34m\u001B[0m\u001B[0m\n\u001B[1;32m    668\u001B[0m             \u001B[0;32mtry\u001B[0m\u001B[0;34m:\u001B[0m\u001B[0;34m\u001B[0m\u001B[0;34m\u001B[0m\u001B[0m\n\u001B[0;32m--> 669\u001B[0;31m                 \u001B[0;32mreturn\u001B[0m \u001B[0mself\u001B[0m\u001B[0;34m.\u001B[0m\u001B[0m_sock\u001B[0m\u001B[0;34m.\u001B[0m\u001B[0mrecv_into\u001B[0m\u001B[0;34m(\u001B[0m\u001B[0mb\u001B[0m\u001B[0;34m)\u001B[0m\u001B[0;34m\u001B[0m\u001B[0;34m\u001B[0m\u001B[0m\n\u001B[0m\u001B[1;32m    670\u001B[0m             \u001B[0;32mexcept\u001B[0m \u001B[0mtimeout\u001B[0m\u001B[0;34m:\u001B[0m\u001B[0;34m\u001B[0m\u001B[0;34m\u001B[0m\u001B[0m\n\u001B[1;32m    671\u001B[0m                 \u001B[0mself\u001B[0m\u001B[0;34m.\u001B[0m\u001B[0m_timeout_occurred\u001B[0m \u001B[0;34m=\u001B[0m \u001B[0;32mTrue\u001B[0m\u001B[0;34m\u001B[0m\u001B[0;34m\u001B[0m\u001B[0m\n",
      "\u001B[0;31mKeyboardInterrupt\u001B[0m: "
     ]
    }
   ],
   "source": [
    "driver = webdriver.Firefox(options=options)\n",
    "\n",
    "for request_id in tqdm(unscraped_requests):\n",
    "    url = urls[i] + request_id\n",
    "    driver.get(url) # Attempt to access the record\n",
    "\n",
    "    # If the record does not exist, then move on to the next ID\n",
    "    if (request_id not in driver.title):\n",
    "        sleep(cooldown)\n",
    "        continue\n",
    "\n",
    "    status, desc, date, depts, docs, poc, events = [None] * 7 # Initialize variables \n",
    "    try: # Attempt to scrape relevant data\n",
    "        status = driver.find_element_by_class_name('request-status-label').text.strip() # Request status\n",
    "        desc = driver.find_element_by_class_name('request-text.row').text # Request description\n",
    "        date = driver.find_element_by_class_name('request_date').text # Request date\n",
    "        depts = driver.find_element_by_class_name('current-department').text # Department(s) assigned to the request\n",
    "        poc = driver.find_element_by_class_name('request-detail').text # Person of contact\n",
    "\n",
    "        # Messages recorded on the request page, if there are any\n",
    "        event_titles = get_webelement_text(driver.find_elements_by_class_name('event-title')) # Title for each message\n",
    "        event_items = get_webelement_text(driver.find_elements_by_class_name('event-item')) # Description for each message\n",
    "        time_quotes = get_webelement_text(driver.find_elements_by_class_name('time-quotes')) # Time string for each message\n",
    "        events = pd.DataFrame({ # DataFrame consisting of all messages\n",
    "            'title': event_titles,\n",
    "            'item': event_items,\n",
    "            'time': time_quotes\n",
    "            })\n",
    "\n",
    "        # Documents attached to the request, if there are any\n",
    "        public_docs = driver.find_element_by_id('public-docs') # WebElement containing the documents\n",
    "        folders = public_docs.find_elements_by_class_name('folder-toggle') # Expand folders, if there are any\n",
    "        if folders:\n",
    "            for folder in folders:\n",
    "                folder.click()\n",
    "        doc_links = public_docs.find_elements_by_class_name('document-link') # Links to documents\n",
    "        docs = pd.DataFrame({ # DataFrame consisting of all documents\n",
    "            'title': get_webelement_text(doc_links),\n",
    "            'link': remove_download_from_urls(get_webelement_link(doc_links))\n",
    "            })\n",
    "    except NoSuchElementException: # Catch exception thrown if a specific element cannot be found, and silently pass\n",
    "        pass\n",
    "    except: # If some other exception occurs, print information about the exception\n",
    "        print('Unexpected error:', sys.exc_info())\n",
    "    finally: # Add request to list\n",
    "        sd_requests.append({\n",
    "            'request_id': request_id,\n",
    "            'status': status,\n",
    "            'request_desc': desc,\n",
    "            'request_date': date,\n",
    "            'depts': depts,\n",
    "            'docs': docs,\n",
    "            'poc': poc,\n",
    "            'msgs': events\n",
    "        })\n",
    "\n",
    "    sleep(cooldown) # Cooldown between requests\n",
    "    \n",
    "driver.close()"
   ]
  },
  {
   "cell_type": "code",
   "execution_count": 47,
   "id": "0e483b03",
   "metadata": {},
   "outputs": [],
   "source": [
    "# Scraper functions\n",
    "def scrape_record(url, request_id):\n",
    "    '''\n",
    "    Scrapes data about a given request on a NextRequest request database. For use with parallelization.\n",
    "    '''\n",
    "    driver = webdriver.Remote(desired_capabilities=DesiredCapabilities.FIREFOX, options=options)\n",
    "    driver.get(url + request_id) # Attempt to access the record\n",
    "    \n",
    "    # If the record does not exist, return nothing\n",
    "    if (request_id not in driver.title):\n",
    "        return\n",
    "    \n",
    "    status, desc, date, depts, docs, poc, events = [None] * 7 # Initialize variables \n",
    "    try: # Attempt to scrape relevant data\n",
    "        status = driver.find_element_by_class_name('request-status-label').text.strip() # Request status\n",
    "        desc = driver.find_element_by_class_name('request-text.row').text # Request description\n",
    "        date = driver.find_element_by_class_name('request_date').text # Request date\n",
    "        depts = driver.find_element_by_class_name('current-department').text # Department(s) assigned to the request\n",
    "        poc = driver.find_element_by_class_name('request-detail').text # Person of contact\n",
    "\n",
    "        # Messages recorded on the request page, if there are any\n",
    "        event_titles = get_webelement_text(driver.find_elements_by_class_name('event-title')) # Title for each message\n",
    "        event_items = get_webelement_text(driver.find_elements_by_class_name('event-item')) # Description for each message\n",
    "        time_quotes = get_webelement_text(driver.find_elements_by_class_name('time-quotes')) # Time string for each message\n",
    "        events = pd.DataFrame({ # DataFrame consisting of all messages\n",
    "            'title': event_titles,\n",
    "            'item': event_items,\n",
    "            'time': time_quotes\n",
    "            })\n",
    "        \n",
    "        # Documents attached to the request, if there are any\n",
    "        public_docs = driver.find_element_by_id('public-docs') # WebElement containing the documents\n",
    "        folders = public_docs.find_elements_by_class_name('folder-toggle') # Expand folders, if there are any\n",
    "        if folders:\n",
    "            for folder in folders:\n",
    "                folder.click()\n",
    "        doc_links = public_docs.find_elements_by_class_name('document-link') # Links to documents\n",
    "        docs = pd.DataFrame({ # DataFrame consisting of all documents\n",
    "            'title': get_webelement_text(doc_links),\n",
    "            'link': remove_download_from_urls(get_webelement_link(doc_links))\n",
    "            })\n",
    "    except NoSuchElementException: # Catch exception thrown if a specific element cannot be found, and silently pass\n",
    "        pass\n",
    "    except: # If some other exception occurs, print information about the exception\n",
    "        print('Unexpected error:', sys.exc_info()[2])\n",
    "    finally: # Return the request\n",
    "        driver.close()\n",
    "\n",
    "        return {\n",
    "            'request_id': request_id,\n",
    "            'status': status,\n",
    "            'request_desc': desc,\n",
    "            'request_date': date,\n",
    "            'depts': depts,\n",
    "            'docs': docs,\n",
    "            'poc': poc,\n",
    "            'msgs': events\n",
    "            }\n",
    "    \n",
    "def get_city_from_url(url):\n",
    "    '''\n",
    "    Finds the city name from the NextRequest URL.\n",
    "    '''\n",
    "    return re.match(r'(?<=https://)[a-zA-Z]*', url)[0]\n",
    "\n",
    "def get_webelement_text(webelement):\n",
    "    '''\n",
    "    Gets the text of each web element in a list, if such a list exists.\n",
    "    '''\n",
    "    return list(map(lambda x: x.text, webelement)) if webelement else None\n",
    "\n",
    "def get_webelement_link(webelement):\n",
    "    '''\n",
    "    Gets the link of each web element in a list, if such a list exists.\n",
    "    '''\n",
    "    return list(map(lambda x: x.get_attribute('href'), webelement)) if webelement else None\n",
    "\n",
    "def remove_download_from_urls(urls):\n",
    "    '''\n",
    "    Removes '/download' from the end of a list of URLs, if the list exists.\n",
    "    '''\n",
    "    return list(map(lambda url: re.match(r'.*(?=/download)', url)[0], urls)) if urls else None"
   ]
  },
  {
   "cell_type": "code",
   "execution_count": 37,
   "id": "cca844da",
   "metadata": {},
   "outputs": [],
   "source": [
    "# # Test remote WebDriver (run Selenium Grid instance locally before running this cell)\n",
    "# driver = webdriver.Remote(desired_capabilities=DesiredCapabilities.FIREFOX, options=options)\n",
    "# driver.get('http://www.google.com')\n",
    "# driver.close()"
   ]
  },
  {
   "cell_type": "code",
   "execution_count": null,
   "id": "7dc0a275",
   "metadata": {
    "scrolled": false
   },
   "outputs": [],
   "source": [
    "# # Test to make sure the driver works\n",
    "# \n",
    "# driver = webdriver.Firefox(options=options) # Instantiate a headless Firefox WebDriver\n",
    "# for url in urls:\n",
    "#     driver.get(url)\n",
    "#     print(driver.title)\n",
    "#     sleep(5)\n",
    "    \n",
    "# driver.close()"
   ]
  },
  {
   "cell_type": "code",
   "execution_count": null,
   "id": "d8220c94",
   "metadata": {
    "collapsed": true
   },
   "outputs": [],
   "source": [
    "# %%timeit\n",
    "# # Test for retrieving message info from a specific request\n",
    "# driver = webdriver.Firefox(options=options)\n",
    "# driver.get('https://sandiego.nextrequest.com/requests/21-4915')\n",
    "# print(driver.title)\n",
    "\n",
    "# event_titles = driver.find_elements_by_class_name('event-title')\n",
    "# event_items = driver.find_elements_by_class_name('event-item')\n",
    "# times = driver.find_elements_by_class_name('time-quotes')\n",
    "# for title, item, time in list(zip(event_titles, event_items, times)):\n",
    "#     print(title.text)\n",
    "#     print(item.text)\n",
    "#     print(time.text)\n",
    "#     print()\n",
    "\n",
    "# driver.close()"
   ]
  },
  {
   "cell_type": "code",
   "execution_count": null,
   "id": "96755c02",
   "metadata": {
    "collapsed": true
   },
   "outputs": [],
   "source": [
    "# # Scraping documents test\n",
    "# driver = webdriver.Firefox(options=options)\n",
    "\n",
    "# for request_id in [5369, 5313, 5374]:\n",
    "#     url = 'https://sandiego.nextrequest.com/requests/21-' + str(request_id)\n",
    "#     driver.get(url)\n",
    "\n",
    "#     docs = driver.find_element_by_id('public-docs')\n",
    "#     folders = docs.find_elements_by_class_name('folder-toggle')\n",
    "#     if folders:\n",
    "#         for folder in folders:\n",
    "#             folder.click()\n",
    "#     else:\n",
    "#         print('No folders found for', request_id)\n",
    "    \n",
    "#     doc_links = docs.find_elements_by_class_name('document-link')\n",
    "#     display(\n",
    "#         pd.DataFrame(\n",
    "#             list(zip(get_webelement_text(doc_links), remove_download_from_urls(get_webelement_link(doc_links)))),\n",
    "#             columns=['title', 'link']\n",
    "#         )\n",
    "#     )\n",
    "#     display(\n",
    "#         pd.DataFrame({\n",
    "#             'title': get_webelement_text(doc_links),\n",
    "#             'link': remove_download_from_urls(get_webelement_link(doc_links))\n",
    "#         })\n",
    "#     )\n",
    "\n",
    "# driver.close()"
   ]
  },
  {
   "cell_type": "code",
   "execution_count": 41,
   "id": "a5f3b130",
   "metadata": {
    "collapsed": true
   },
   "outputs": [
    {
     "name": "stderr",
     "output_type": "stream",
     "text": [
      "[Parallel(n_jobs=-1)]: Using backend ThreadingBackend with 8 concurrent workers.\n",
      "[Parallel(n_jobs=-1)]: Done   2 tasks      | elapsed:   33.9s\n"
     ]
    },
    {
     "ename": "KeyboardInterrupt",
     "evalue": "",
     "output_type": "error",
     "traceback": [
      "\u001B[0;31m---------------------------------------------------------------------------\u001B[0m",
      "\u001B[0;31mKeyboardInterrupt\u001B[0m                         Traceback (most recent call last)",
      "\u001B[0;32m<ipython-input-41-cfcd83411d8e>\u001B[0m in \u001B[0;36m<module>\u001B[0;34m\u001B[0m\n\u001B[1;32m      1\u001B[0m \u001B[0;31m# Parallelized script\u001B[0m\u001B[0;34m\u001B[0m\u001B[0;34m\u001B[0m\u001B[0;34m\u001B[0m\u001B[0m\n\u001B[1;32m      2\u001B[0m \u001B[0mscrape_request\u001B[0m \u001B[0;34m=\u001B[0m \u001B[0;32mlambda\u001B[0m \u001B[0mi\u001B[0m\u001B[0;34m:\u001B[0m \u001B[0mscrape_record\u001B[0m\u001B[0;34m(\u001B[0m\u001B[0murls\u001B[0m\u001B[0;34m[\u001B[0m\u001B[0;36m0\u001B[0m\u001B[0;34m]\u001B[0m\u001B[0;34m,\u001B[0m \u001B[0mi\u001B[0m\u001B[0;34m)\u001B[0m\u001B[0;34m\u001B[0m\u001B[0;34m\u001B[0m\u001B[0m\n\u001B[0;32m----> 3\u001B[0;31m \u001B[0msd_requests\u001B[0m \u001B[0;34m=\u001B[0m \u001B[0mParallel\u001B[0m\u001B[0;34m(\u001B[0m\u001B[0mn_jobs\u001B[0m\u001B[0;34m=\u001B[0m\u001B[0;34m-\u001B[0m\u001B[0;36m1\u001B[0m\u001B[0;34m,\u001B[0m \u001B[0mprefer\u001B[0m\u001B[0;34m=\u001B[0m\u001B[0;34m'threads'\u001B[0m\u001B[0;34m,\u001B[0m \u001B[0mverbose\u001B[0m\u001B[0;34m=\u001B[0m\u001B[0;36m10\u001B[0m\u001B[0;34m)\u001B[0m\u001B[0;34m(\u001B[0m\u001B[0mdelayed\u001B[0m\u001B[0;34m(\u001B[0m\u001B[0mscrape_request\u001B[0m\u001B[0;34m)\u001B[0m\u001B[0;34m(\u001B[0m\u001B[0mrequest_id\u001B[0m\u001B[0;34m)\u001B[0m \u001B[0;32mfor\u001B[0m \u001B[0mrequest_id\u001B[0m \u001B[0;32min\u001B[0m \u001B[0mrequest_ids\u001B[0m\u001B[0;34m)\u001B[0m\u001B[0;34m\u001B[0m\u001B[0;34m\u001B[0m\u001B[0m\n\u001B[0m",
      "\u001B[0;32m~/opt/anaconda3/lib/python3.8/site-packages/joblib/parallel.py\u001B[0m in \u001B[0;36m__call__\u001B[0;34m(self, iterable)\u001B[0m\n\u001B[1;32m   1052\u001B[0m \u001B[0;34m\u001B[0m\u001B[0m\n\u001B[1;32m   1053\u001B[0m             \u001B[0;32mwith\u001B[0m \u001B[0mself\u001B[0m\u001B[0;34m.\u001B[0m\u001B[0m_backend\u001B[0m\u001B[0;34m.\u001B[0m\u001B[0mretrieval_context\u001B[0m\u001B[0;34m(\u001B[0m\u001B[0;34m)\u001B[0m\u001B[0;34m:\u001B[0m\u001B[0;34m\u001B[0m\u001B[0;34m\u001B[0m\u001B[0m\n\u001B[0;32m-> 1054\u001B[0;31m                 \u001B[0mself\u001B[0m\u001B[0;34m.\u001B[0m\u001B[0mretrieve\u001B[0m\u001B[0;34m(\u001B[0m\u001B[0;34m)\u001B[0m\u001B[0;34m\u001B[0m\u001B[0;34m\u001B[0m\u001B[0m\n\u001B[0m\u001B[1;32m   1055\u001B[0m             \u001B[0;31m# Make sure that we get a last message telling us we are done\u001B[0m\u001B[0;34m\u001B[0m\u001B[0;34m\u001B[0m\u001B[0;34m\u001B[0m\u001B[0m\n\u001B[1;32m   1056\u001B[0m             \u001B[0melapsed_time\u001B[0m \u001B[0;34m=\u001B[0m \u001B[0mtime\u001B[0m\u001B[0;34m.\u001B[0m\u001B[0mtime\u001B[0m\u001B[0;34m(\u001B[0m\u001B[0;34m)\u001B[0m \u001B[0;34m-\u001B[0m \u001B[0mself\u001B[0m\u001B[0;34m.\u001B[0m\u001B[0m_start_time\u001B[0m\u001B[0;34m\u001B[0m\u001B[0;34m\u001B[0m\u001B[0m\n",
      "\u001B[0;32m~/opt/anaconda3/lib/python3.8/site-packages/joblib/parallel.py\u001B[0m in \u001B[0;36mretrieve\u001B[0;34m(self)\u001B[0m\n\u001B[1;32m    931\u001B[0m             \u001B[0;32mtry\u001B[0m\u001B[0;34m:\u001B[0m\u001B[0;34m\u001B[0m\u001B[0;34m\u001B[0m\u001B[0m\n\u001B[1;32m    932\u001B[0m                 \u001B[0;32mif\u001B[0m \u001B[0mgetattr\u001B[0m\u001B[0;34m(\u001B[0m\u001B[0mself\u001B[0m\u001B[0;34m.\u001B[0m\u001B[0m_backend\u001B[0m\u001B[0;34m,\u001B[0m \u001B[0;34m'supports_timeout'\u001B[0m\u001B[0;34m,\u001B[0m \u001B[0;32mFalse\u001B[0m\u001B[0;34m)\u001B[0m\u001B[0;34m:\u001B[0m\u001B[0;34m\u001B[0m\u001B[0;34m\u001B[0m\u001B[0m\n\u001B[0;32m--> 933\u001B[0;31m                     \u001B[0mself\u001B[0m\u001B[0;34m.\u001B[0m\u001B[0m_output\u001B[0m\u001B[0;34m.\u001B[0m\u001B[0mextend\u001B[0m\u001B[0;34m(\u001B[0m\u001B[0mjob\u001B[0m\u001B[0;34m.\u001B[0m\u001B[0mget\u001B[0m\u001B[0;34m(\u001B[0m\u001B[0mtimeout\u001B[0m\u001B[0;34m=\u001B[0m\u001B[0mself\u001B[0m\u001B[0;34m.\u001B[0m\u001B[0mtimeout\u001B[0m\u001B[0;34m)\u001B[0m\u001B[0;34m)\u001B[0m\u001B[0;34m\u001B[0m\u001B[0;34m\u001B[0m\u001B[0m\n\u001B[0m\u001B[1;32m    934\u001B[0m                 \u001B[0;32melse\u001B[0m\u001B[0;34m:\u001B[0m\u001B[0;34m\u001B[0m\u001B[0;34m\u001B[0m\u001B[0m\n\u001B[1;32m    935\u001B[0m                     \u001B[0mself\u001B[0m\u001B[0;34m.\u001B[0m\u001B[0m_output\u001B[0m\u001B[0;34m.\u001B[0m\u001B[0mextend\u001B[0m\u001B[0;34m(\u001B[0m\u001B[0mjob\u001B[0m\u001B[0;34m.\u001B[0m\u001B[0mget\u001B[0m\u001B[0;34m(\u001B[0m\u001B[0;34m)\u001B[0m\u001B[0;34m)\u001B[0m\u001B[0;34m\u001B[0m\u001B[0;34m\u001B[0m\u001B[0m\n",
      "\u001B[0;32m~/opt/anaconda3/lib/python3.8/multiprocessing/pool.py\u001B[0m in \u001B[0;36mget\u001B[0;34m(self, timeout)\u001B[0m\n\u001B[1;32m    763\u001B[0m \u001B[0;34m\u001B[0m\u001B[0m\n\u001B[1;32m    764\u001B[0m     \u001B[0;32mdef\u001B[0m \u001B[0mget\u001B[0m\u001B[0;34m(\u001B[0m\u001B[0mself\u001B[0m\u001B[0;34m,\u001B[0m \u001B[0mtimeout\u001B[0m\u001B[0;34m=\u001B[0m\u001B[0;32mNone\u001B[0m\u001B[0;34m)\u001B[0m\u001B[0;34m:\u001B[0m\u001B[0;34m\u001B[0m\u001B[0;34m\u001B[0m\u001B[0m\n\u001B[0;32m--> 765\u001B[0;31m         \u001B[0mself\u001B[0m\u001B[0;34m.\u001B[0m\u001B[0mwait\u001B[0m\u001B[0;34m(\u001B[0m\u001B[0mtimeout\u001B[0m\u001B[0;34m)\u001B[0m\u001B[0;34m\u001B[0m\u001B[0;34m\u001B[0m\u001B[0m\n\u001B[0m\u001B[1;32m    766\u001B[0m         \u001B[0;32mif\u001B[0m \u001B[0;32mnot\u001B[0m \u001B[0mself\u001B[0m\u001B[0;34m.\u001B[0m\u001B[0mready\u001B[0m\u001B[0;34m(\u001B[0m\u001B[0;34m)\u001B[0m\u001B[0;34m:\u001B[0m\u001B[0;34m\u001B[0m\u001B[0;34m\u001B[0m\u001B[0m\n\u001B[1;32m    767\u001B[0m             \u001B[0;32mraise\u001B[0m \u001B[0mTimeoutError\u001B[0m\u001B[0;34m\u001B[0m\u001B[0;34m\u001B[0m\u001B[0m\n",
      "\u001B[0;32m~/opt/anaconda3/lib/python3.8/multiprocessing/pool.py\u001B[0m in \u001B[0;36mwait\u001B[0;34m(self, timeout)\u001B[0m\n\u001B[1;32m    760\u001B[0m \u001B[0;34m\u001B[0m\u001B[0m\n\u001B[1;32m    761\u001B[0m     \u001B[0;32mdef\u001B[0m \u001B[0mwait\u001B[0m\u001B[0;34m(\u001B[0m\u001B[0mself\u001B[0m\u001B[0;34m,\u001B[0m \u001B[0mtimeout\u001B[0m\u001B[0;34m=\u001B[0m\u001B[0;32mNone\u001B[0m\u001B[0;34m)\u001B[0m\u001B[0;34m:\u001B[0m\u001B[0;34m\u001B[0m\u001B[0;34m\u001B[0m\u001B[0m\n\u001B[0;32m--> 762\u001B[0;31m         \u001B[0mself\u001B[0m\u001B[0;34m.\u001B[0m\u001B[0m_event\u001B[0m\u001B[0;34m.\u001B[0m\u001B[0mwait\u001B[0m\u001B[0;34m(\u001B[0m\u001B[0mtimeout\u001B[0m\u001B[0;34m)\u001B[0m\u001B[0;34m\u001B[0m\u001B[0;34m\u001B[0m\u001B[0m\n\u001B[0m\u001B[1;32m    763\u001B[0m \u001B[0;34m\u001B[0m\u001B[0m\n\u001B[1;32m    764\u001B[0m     \u001B[0;32mdef\u001B[0m \u001B[0mget\u001B[0m\u001B[0;34m(\u001B[0m\u001B[0mself\u001B[0m\u001B[0;34m,\u001B[0m \u001B[0mtimeout\u001B[0m\u001B[0;34m=\u001B[0m\u001B[0;32mNone\u001B[0m\u001B[0;34m)\u001B[0m\u001B[0;34m:\u001B[0m\u001B[0;34m\u001B[0m\u001B[0;34m\u001B[0m\u001B[0m\n",
      "\u001B[0;32m~/opt/anaconda3/lib/python3.8/threading.py\u001B[0m in \u001B[0;36mwait\u001B[0;34m(self, timeout)\u001B[0m\n\u001B[1;32m    556\u001B[0m             \u001B[0msignaled\u001B[0m \u001B[0;34m=\u001B[0m \u001B[0mself\u001B[0m\u001B[0;34m.\u001B[0m\u001B[0m_flag\u001B[0m\u001B[0;34m\u001B[0m\u001B[0;34m\u001B[0m\u001B[0m\n\u001B[1;32m    557\u001B[0m             \u001B[0;32mif\u001B[0m \u001B[0;32mnot\u001B[0m \u001B[0msignaled\u001B[0m\u001B[0;34m:\u001B[0m\u001B[0;34m\u001B[0m\u001B[0;34m\u001B[0m\u001B[0m\n\u001B[0;32m--> 558\u001B[0;31m                 \u001B[0msignaled\u001B[0m \u001B[0;34m=\u001B[0m \u001B[0mself\u001B[0m\u001B[0;34m.\u001B[0m\u001B[0m_cond\u001B[0m\u001B[0;34m.\u001B[0m\u001B[0mwait\u001B[0m\u001B[0;34m(\u001B[0m\u001B[0mtimeout\u001B[0m\u001B[0;34m)\u001B[0m\u001B[0;34m\u001B[0m\u001B[0;34m\u001B[0m\u001B[0m\n\u001B[0m\u001B[1;32m    559\u001B[0m             \u001B[0;32mreturn\u001B[0m \u001B[0msignaled\u001B[0m\u001B[0;34m\u001B[0m\u001B[0;34m\u001B[0m\u001B[0m\n\u001B[1;32m    560\u001B[0m \u001B[0;34m\u001B[0m\u001B[0m\n",
      "\u001B[0;32m~/opt/anaconda3/lib/python3.8/threading.py\u001B[0m in \u001B[0;36mwait\u001B[0;34m(self, timeout)\u001B[0m\n\u001B[1;32m    300\u001B[0m         \u001B[0;32mtry\u001B[0m\u001B[0;34m:\u001B[0m    \u001B[0;31m# restore state no matter what (e.g., KeyboardInterrupt)\u001B[0m\u001B[0;34m\u001B[0m\u001B[0;34m\u001B[0m\u001B[0m\n\u001B[1;32m    301\u001B[0m             \u001B[0;32mif\u001B[0m \u001B[0mtimeout\u001B[0m \u001B[0;32mis\u001B[0m \u001B[0;32mNone\u001B[0m\u001B[0;34m:\u001B[0m\u001B[0;34m\u001B[0m\u001B[0;34m\u001B[0m\u001B[0m\n\u001B[0;32m--> 302\u001B[0;31m                 \u001B[0mwaiter\u001B[0m\u001B[0;34m.\u001B[0m\u001B[0macquire\u001B[0m\u001B[0;34m(\u001B[0m\u001B[0;34m)\u001B[0m\u001B[0;34m\u001B[0m\u001B[0;34m\u001B[0m\u001B[0m\n\u001B[0m\u001B[1;32m    303\u001B[0m                 \u001B[0mgotit\u001B[0m \u001B[0;34m=\u001B[0m \u001B[0;32mTrue\u001B[0m\u001B[0;34m\u001B[0m\u001B[0;34m\u001B[0m\u001B[0m\n\u001B[1;32m    304\u001B[0m             \u001B[0;32melse\u001B[0m\u001B[0;34m:\u001B[0m\u001B[0;34m\u001B[0m\u001B[0;34m\u001B[0m\u001B[0m\n",
      "\u001B[0;31mKeyboardInterrupt\u001B[0m: "
     ]
    }
   ],
   "source": [
    "# Parallelized script\n",
    "scrape_request = lambda i: scrape_record(urls[0], i)\n",
    "sd_requests = Parallel(n_jobs=-1, prefer='threads', verbose=10)(delayed(scrape_request)(request_id) for request_id in request_ids)"
   ]
  },
  {
   "cell_type": "code",
   "execution_count": null,
   "id": "b75059ee",
   "metadata": {},
   "outputs": [],
   "source": [
    "# Copy of non-parallelized script, for testing purposes\n",
    "\n",
    "# Options for scraping\n",
    "earliest_year = 18 # Earliest year to search requests for\n",
    "latest_year = 18 # Latest year to search request for\n",
    "id_start = 2511 # ID value to start from\n",
    "id_range = 3 # Number of IDs to try for each year\n",
    "cooldown = 1 # Amount of time, in seconds, to wait between website accesses\n",
    "\n",
    "# List of all request IDs\n",
    "request_ids = [str(year) + '-' + str(num) for num in range(id_start, id_range + id_start) \n",
    "                                       for year in range(earliest_year, latest_year + 1)]\n",
    "\n",
    "# URLs to extract data from\n",
    "urls = ['https://sandiego.nextrequest.com/requests/', 'https://oaklandca.nextrequest.com/requests/']\n",
    "\n",
    "driver = webdriver.Firefox(options=options) # Headless (non-visible) WebDriver\n",
    "\n",
    "sd_requests = [] # List of dictionaries containing information on each request\n",
    "i = 0 # Index for URLs - may be useful later for scraping multiple sites\n",
    "\n",
    "for year in range(earliest_year, latest_year + 1):\n",
    "    for num in tqdm(range(id_start, id_range + id_start)):\n",
    "        request_id = str(year) + '-' + str(num) # NextRequest request IDs are a two-digit year and a number, with a dash in between\n",
    "        url = urls[i] + request_id\n",
    "        driver.get(url) # Attempt to access the record\n",
    "        \n",
    "        # print(driver.title) # For testing purposes\n",
    "        \n",
    "        # If the record does not exist, then move on to the next ID\n",
    "        if (request_id not in driver.title):\n",
    "            sleep(cooldown)\n",
    "            continue\n",
    "            \n",
    "        status, desc, date, depts, docs, poc, events = [None] * 7 # Initialize variables \n",
    "        try: # Attempt to scrape relevant data\n",
    "            status = driver.find_element_by_class_name('request-status-label').text.strip() # Request status\n",
    "            desc = driver.find_element_by_class_name('request-text.row').text # Request description\n",
    "            date = driver.find_element_by_class_name('request_date').text # Request date\n",
    "            depts = driver.find_element_by_class_name('current-department').text # Department(s) assigned to the request\n",
    "            poc = driver.find_element_by_class_name('request-detail').text # Person of contact\n",
    "\n",
    "            # Messages recorded on the request page, if there are any\n",
    "            event_titles = get_webelement_text(driver.find_elements_by_class_name('event-title')) # Title for each message\n",
    "            event_items = get_webelement_text(driver.find_elements_by_class_name('event-item')) # Description for each message\n",
    "            time_quotes = get_webelement_text(driver.find_elements_by_class_name('time-quotes')) # Time string for each message\n",
    "            events = pd.DataFrame({ # DataFrame consisting of all messages\n",
    "                'title': event_titles,\n",
    "                'item': event_items,\n",
    "                'time': time_quotes\n",
    "                })\n",
    "\n",
    "            # Documents attached to the request, if there are any\n",
    "            public_docs = driver.find_element_by_id('public-docs') # WebElement containing the documents\n",
    "            folders = public_docs.find_elements_by_class_name('folder-toggle') # Expand folders, if there are any\n",
    "            if folders:\n",
    "                for folder in folders:\n",
    "                    folder.click()\n",
    "            doc_links = public_docs.find_elements_by_class_name('document-link') # Links to documents\n",
    "            docs = pd.DataFrame({ # DataFrame consisting of all documents\n",
    "                'title': get_webelement_text(doc_links),\n",
    "                'link': remove_download_from_urls(get_webelement_link(doc_links))\n",
    "                })\n",
    "        except NoSuchElementException: # Catch exception thrown if a specific element cannot be found, and silently pass\n",
    "            pass\n",
    "        except: # If some other exception occurs, print information about the exception\n",
    "            print('Unexpected error:', sys.exc_info())\n",
    "        finally: # Add request to list\n",
    "            sd_requests.append({\n",
    "                'request_id': request_id,\n",
    "                'status': status,\n",
    "                'request_desc': desc,\n",
    "                'request_date': date,\n",
    "                'depts': depts,\n",
    "                'docs': docs,\n",
    "                'poc': poc,\n",
    "                'msgs': events\n",
    "            })\n",
    "\n",
    "        sleep(cooldown) # Cooldown between requests\n",
    "    sleep(cooldown)\n",
    "        \n",
    "driver.close()"
   ]
  },
  {
   "cell_type": "code",
   "execution_count": null,
   "id": "fb633c75",
   "metadata": {},
   "outputs": [],
   "source": []
  }
 ],
 "metadata": {
  "kernelspec": {
   "display_name": "Python 3",
   "language": "python",
   "name": "python3"
  },
  "language_info": {
   "codemirror_mode": {
    "name": "ipython",
    "version": 3
   },
   "file_extension": ".py",
   "mimetype": "text/x-python",
   "name": "python",
   "nbconvert_exporter": "python",
   "pygments_lexer": "ipython3",
   "version": "3.8.8"
  }
 },
 "nbformat": 4,
 "nbformat_minor": 5
}