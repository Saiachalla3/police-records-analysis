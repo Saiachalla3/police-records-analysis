{
 "cells": [
  {
   "cell_type": "markdown",
   "id": "9ea92427",
   "metadata": {},
   "source": [
    "My attempt to scrape NextRequest data using the `selenium` library:"
   ]
  },
  {
   "cell_type": "code",
   "execution_count": 1,
   "id": "0b235fe7",
   "metadata": {
    "pycharm": {
     "is_executing": true
    },
    "scrolled": true
   },
   "outputs": [
    {
     "name": "stdout",
     "output_type": "stream",
     "text": [
      "Requirement already satisfied: selenium in /Users/stevenyuan/opt/anaconda3/lib/python3.8/site-packages (3.141.0)\r\n",
      "Requirement already satisfied: urllib3 in /Users/stevenyuan/opt/anaconda3/lib/python3.8/site-packages (from selenium) (1.26.4)\r\n"
     ]
    }
   ],
   "source": [
    "!pip install selenium\n",
    "\n",
    "from selenium import webdriver\n",
    "from selenium.webdriver.firefox.options import Options\n",
    "\n",
    "from tqdm import tqdm\n",
    "from time import sleep\n",
    "\n",
    "import pandas as pd\n",
    "import numpy as np\n",
    "import re\n",
    "\n",
    "# Options for the driver\n",
    "options = Options()\n",
    "options.headless = True"
   ]
  },
  {
   "cell_type": "code",
   "execution_count": 2,
   "id": "7dc0a275",
   "metadata": {
    "pycharm": {
     "is_executing": true
    },
    "scrolled": false
   },
   "outputs": [],
   "source": [
    "driver = webdriver.Firefox(options=options) # Instantiate a headless Firefox WebDriver\n",
    "\n",
    "# # Test to make sure the driver works\n",
    "# for url in urls:\n",
    "#     driver.get(url)\n",
    "#     print(driver.title)\n",
    "#     sleep(5)\n",
    "    \n",
    "# driver.close()"
   ]
  },
  {
   "cell_type": "code",
   "execution_count": 3,
   "id": "ef7745d7",
   "metadata": {
    "pycharm": {
     "is_executing": true
    }
   },
   "outputs": [],
   "source": [
    "# Test URLs to extract data from\n",
    "urls = ['https://sandiego.nextrequest.com/requests', 'https://oaklandca.nextrequest.com/requests']"
   ]
  },
  {
   "cell_type": "code",
   "execution_count": 11,
   "id": "d8220c94",
   "metadata": {
    "pycharm": {
     "is_executing": true
    }
   },
   "outputs": [
    {
     "name": "stdout",
     "output_type": "stream",
     "text": [
      "Request 21-4915 - NextRequest - Modern FOIA & Public Records Request Software\n"
     ]
    }
   ],
   "source": [
    "# Test for retrieving message info from a specific request\n",
    "driver.get(urls[0] + '/21-4915')\n",
    "print(driver.title)\n",
    "\n",
    "# event_titles = driver.find_elements_by_class_name('event-title')\n",
    "# event_items = driver.find_elements_by_class_name('event-item')\n",
    "# times = driver.find_elements_by_class_name('time-quotes')\n",
    "# for title, item, time in list(zip(event_titles, event_items, times)):\n",
    "#     print(title.text)\n",
    "#     print(item.text)\n",
    "#     print(time.text)\n",
    "#     print()"
   ]
  },
  {
   "cell_type": "code",
   "execution_count": null,
   "id": "bb78a4f2",
   "metadata": {
    "collapsed": true,
    "pycharm": {
     "is_executing": true
    }
   },
   "outputs": [],
   "source": [
    "# Test \n",
    "for i in tqdm(range(5049, 5060)):\n",
    "    url = \"https://sandiego.nextrequest.com/requests/21-\" + str(i) \n",
    "    driver.get(url)\n",
    "    \n",
    "    event_titles = driver.find_elements_by_class_name('event-title')\n",
    "    event_items = driver.find_elements_by_class_name('event-item')\n",
    "    times = driver.find_elements_by_class_name('time-quotes')\n",
    "    \n",
    "    for title, item, time in list(zip(event_titles, event_items, times)):\n",
    "        print(title.text)\n",
    "        print(item.text)\n",
    "        print(time.text)\n",
    "        print()\n",
    "    \n",
    "    print()"
   ]
  },
  {
   "cell_type": "code",
   "execution_count": 40,
   "id": "294374c9",
   "metadata": {},
   "outputs": [],
   "source": [
    "earliest_year = 21 # Earliest year to search requests for\n",
    "latest_year = 21 # Latest year to search request for\n",
    "id_range = 100 # Number of IDs to try for each year"
   ]
  },
  {
   "cell_type": "code",
   "execution_count": 31,
   "id": "044b14a7",
   "metadata": {},
   "outputs": [],
   "source": [
    "def get_text(webelement):\n",
    "    return map(lambda x: x.text, webelement)"
   ]
  },
  {
   "cell_type": "code",
   "execution_count": 46,
   "id": "253e2722",
   "metadata": {
    "scrolled": false
   },
   "outputs": [
    {
     "name": "stderr",
     "output_type": "stream",
     "text": [
      "100%|██████████| 100/100 [01:37<00:00,  1.03it/s]\n"
     ]
    }
   ],
   "source": [
    "driver = webdriver.Firefox(options=options) # Headless (non-visible) Firefox WebDriver\n",
    "\n",
    "sd_requests = [] # List of dictionaries containing information on each request\n",
    "\n",
    "for year in range(earliest_year, latest_year + 1):\n",
    "    for num in tqdm(range(1, id_range + 1)) :\n",
    "        request_id = str(year) + '-' + str(num) # NextRequest request IDs are a two-digit year and a number, with a dash in between\n",
    "        url = 'https://sandiego.nextrequest.com/requests/' + request_id\n",
    "        driver.get(url) # Attempt to access the record\n",
    "        \n",
    "        # If the record does not exist, then move on to the next ID\n",
    "        if (request_id not in driver.title):\n",
    "            continue\n",
    "        \n",
    "        # Scrape relevant data\n",
    "        status = driver.find_element_by_class_name('request-status-label').text.strip()\n",
    "        desc = driver.find_element_by_class_name('request-text.row').text\n",
    "        date = driver.find_element_by_class_name('request_date').text\n",
    "        depts = driver.find_element_by_class_name('current-department').text\n",
    "        poc = driver.find_element_by_class_name('request-detail').text\n",
    "        \n",
    "        event_titles = driver.find_elements_by_class_name('event-title')\n",
    "        event_items = driver.find_elements_by_class_name('event-item')\n",
    "        time_quotes = driver.find_elements_by_class_name('time-quotes')\n",
    "        events = list(zip(get_text(event_titles), get_text(event_items), get_text(time_quotes)))\n",
    "        \n",
    "        sd_requests.append({\n",
    "            'Request ID': request_id,\n",
    "            'Status': status,\n",
    "            'Request description': desc,\n",
    "            'Request date': date,\n",
    "            'Departments': depts,\n",
    "            'Point of Contact': poc,\n",
    "            'Messages': events\n",
    "            })\n",
    "\n",
    "        sleep(0.5)\n",
    "        \n",
    "# print(sd_requests[0])\n",
    "driver.close()"
   ]
  },
  {
   "cell_type": "code",
   "execution_count": 47,
   "id": "b88e6d42",
   "metadata": {},
   "outputs": [
    {
     "data": {
      "text/html": [
       "<div>\n",
       "<style scoped>\n",
       "    .dataframe tbody tr th:only-of-type {\n",
       "        vertical-align: middle;\n",
       "    }\n",
       "\n",
       "    .dataframe tbody tr th {\n",
       "        vertical-align: top;\n",
       "    }\n",
       "\n",
       "    .dataframe thead th {\n",
       "        text-align: right;\n",
       "    }\n",
       "</style>\n",
       "<table border=\"1\" class=\"dataframe\">\n",
       "  <thead>\n",
       "    <tr style=\"text-align: right;\">\n",
       "      <th></th>\n",
       "      <th>Request ID</th>\n",
       "      <th>Status</th>\n",
       "      <th>Request description</th>\n",
       "      <th>Request date</th>\n",
       "      <th>Departments</th>\n",
       "      <th>Point of Contact</th>\n",
       "      <th>Messages</th>\n",
       "    </tr>\n",
       "  </thead>\n",
       "  <tbody>\n",
       "    <tr>\n",
       "      <th>0</th>\n",
       "      <td>21-1</td>\n",
       "      <td>CLOSED</td>\n",
       "      <td>What money has been paid to the city of San Di...</td>\n",
       "      <td>January 1, 2021 via web</td>\n",
       "      <td>Code Enforcement</td>\n",
       "      <td>Ginger Rodriguez</td>\n",
       "      <td>[(Request Published\\nPublic, , January 15, 202...</td>\n",
       "    </tr>\n",
       "    <tr>\n",
       "      <th>1</th>\n",
       "      <td>21-2</td>\n",
       "      <td>CLOSED</td>\n",
       "      <td>Address for Russell and Verna Giles of home th...</td>\n",
       "      <td>January 1, 2021 via web</td>\n",
       "      <td>Public Records Administration</td>\n",
       "      <td>Angela Laurita</td>\n",
       "      <td>[(Request Published\\nPublic, , January 7, 2021...</td>\n",
       "    </tr>\n",
       "    <tr>\n",
       "      <th>2</th>\n",
       "      <td>21-3</td>\n",
       "      <td>CLOSED</td>\n",
       "      <td>9095 Rio San Diego Dr APN: 438051130\\nOpen Bui...</td>\n",
       "      <td>January 1, 2021 via web</td>\n",
       "      <td>Code Enforcement</td>\n",
       "      <td>Ginger Rodriguez</td>\n",
       "      <td>[(Request Published\\nPublic, , January 7, 2021...</td>\n",
       "    </tr>\n",
       "    <tr>\n",
       "      <th>3</th>\n",
       "      <td>21-4</td>\n",
       "      <td>CLOSED</td>\n",
       "      <td>9095 San Diego Dr APN: 4380511300\\nOpen Fire C...</td>\n",
       "      <td>January 1, 2021 via web</td>\n",
       "      <td>Fire-Rescue</td>\n",
       "      <td>Angela Laurita</td>\n",
       "      <td>[(Request Published\\nPublic, , January 8, 2021...</td>\n",
       "    </tr>\n",
       "    <tr>\n",
       "      <th>4</th>\n",
       "      <td>21-5</td>\n",
       "      <td>CLOSED</td>\n",
       "      <td>9095 Rio San Diego Dr APN: 4380511300\\nCertifi...</td>\n",
       "      <td>January 1, 2021 via web</td>\n",
       "      <td>Development Services</td>\n",
       "      <td>Ginger Rodriguez</td>\n",
       "      <td>[(Request Published\\nPublic, , January 15, 202...</td>\n",
       "    </tr>\n",
       "    <tr>\n",
       "      <th>...</th>\n",
       "      <td>...</td>\n",
       "      <td>...</td>\n",
       "      <td>...</td>\n",
       "      <td>...</td>\n",
       "      <td>...</td>\n",
       "      <td>...</td>\n",
       "      <td>...</td>\n",
       "    </tr>\n",
       "    <tr>\n",
       "      <th>60</th>\n",
       "      <td>21-61</td>\n",
       "      <td>CLOSED</td>\n",
       "      <td>I would like a copy of all email communication...</td>\n",
       "      <td>January 6, 2021 via web</td>\n",
       "      <td>Police, Public Records Administration</td>\n",
       "      <td>Angela Laurita</td>\n",
       "      <td>[(Request Published\\nPublic, , January 18, 202...</td>\n",
       "    </tr>\n",
       "    <tr>\n",
       "      <th>61</th>\n",
       "      <td>21-62</td>\n",
       "      <td>CLOSED</td>\n",
       "      <td>I Would like a copy fo any land surveys done i...</td>\n",
       "      <td>January 6, 2021 via web</td>\n",
       "      <td>Public Records Administration</td>\n",
       "      <td>Angela Laurita</td>\n",
       "      <td>[(Request Published\\nPublic, , January 9, 2021...</td>\n",
       "    </tr>\n",
       "    <tr>\n",
       "      <th>62</th>\n",
       "      <td>21-63</td>\n",
       "      <td>CLOSED</td>\n",
       "      <td>CAD Logs and event information for the SDPD an...</td>\n",
       "      <td>January 6, 2021 via web</td>\n",
       "      <td>Police</td>\n",
       "      <td>Angela Laurita</td>\n",
       "      <td>[(Request Published\\nPublic, , January 9, 2021...</td>\n",
       "    </tr>\n",
       "    <tr>\n",
       "      <th>63</th>\n",
       "      <td>21-64</td>\n",
       "      <td>CLOSED</td>\n",
       "      <td>This firm is performing a Phase I Environmenta...</td>\n",
       "      <td>January 6, 2021 via web</td>\n",
       "      <td>Public Utilities</td>\n",
       "      <td>Stephanie Hoover</td>\n",
       "      <td>[(Request Published\\nPublic, , February 21, 20...</td>\n",
       "    </tr>\n",
       "    <tr>\n",
       "      <th>64</th>\n",
       "      <td>21-65</td>\n",
       "      <td>CLOSED</td>\n",
       "      <td>January 06, 2021\\nWhen replying, please refer ...</td>\n",
       "      <td>January 6, 2021 via web</td>\n",
       "      <td>Purchasing &amp; Contracting</td>\n",
       "      <td>Lori Hernandez</td>\n",
       "      <td>[(Request Published\\nPublic, , January 18, 202...</td>\n",
       "    </tr>\n",
       "  </tbody>\n",
       "</table>\n",
       "<p>65 rows × 7 columns</p>\n",
       "</div>"
      ],
      "text/plain": [
       "   Request ID  Status                                Request description  \\\n",
       "0        21-1  CLOSED  What money has been paid to the city of San Di...   \n",
       "1        21-2  CLOSED  Address for Russell and Verna Giles of home th...   \n",
       "2        21-3  CLOSED  9095 Rio San Diego Dr APN: 438051130\\nOpen Bui...   \n",
       "3        21-4  CLOSED  9095 San Diego Dr APN: 4380511300\\nOpen Fire C...   \n",
       "4        21-5  CLOSED  9095 Rio San Diego Dr APN: 4380511300\\nCertifi...   \n",
       "..        ...     ...                                                ...   \n",
       "60      21-61  CLOSED  I would like a copy of all email communication...   \n",
       "61      21-62  CLOSED  I Would like a copy fo any land surveys done i...   \n",
       "62      21-63  CLOSED  CAD Logs and event information for the SDPD an...   \n",
       "63      21-64  CLOSED  This firm is performing a Phase I Environmenta...   \n",
       "64      21-65  CLOSED  January 06, 2021\\nWhen replying, please refer ...   \n",
       "\n",
       "               Request date                            Departments  \\\n",
       "0   January 1, 2021 via web                       Code Enforcement   \n",
       "1   January 1, 2021 via web          Public Records Administration   \n",
       "2   January 1, 2021 via web                       Code Enforcement   \n",
       "3   January 1, 2021 via web                            Fire-Rescue   \n",
       "4   January 1, 2021 via web                   Development Services   \n",
       "..                      ...                                    ...   \n",
       "60  January 6, 2021 via web  Police, Public Records Administration   \n",
       "61  January 6, 2021 via web          Public Records Administration   \n",
       "62  January 6, 2021 via web                                 Police   \n",
       "63  January 6, 2021 via web                       Public Utilities   \n",
       "64  January 6, 2021 via web               Purchasing & Contracting   \n",
       "\n",
       "    Point of Contact                                           Messages  \n",
       "0   Ginger Rodriguez  [(Request Published\\nPublic, , January 15, 202...  \n",
       "1     Angela Laurita  [(Request Published\\nPublic, , January 7, 2021...  \n",
       "2   Ginger Rodriguez  [(Request Published\\nPublic, , January 7, 2021...  \n",
       "3     Angela Laurita  [(Request Published\\nPublic, , January 8, 2021...  \n",
       "4   Ginger Rodriguez  [(Request Published\\nPublic, , January 15, 202...  \n",
       "..               ...                                                ...  \n",
       "60    Angela Laurita  [(Request Published\\nPublic, , January 18, 202...  \n",
       "61    Angela Laurita  [(Request Published\\nPublic, , January 9, 2021...  \n",
       "62    Angela Laurita  [(Request Published\\nPublic, , January 9, 2021...  \n",
       "63  Stephanie Hoover  [(Request Published\\nPublic, , February 21, 20...  \n",
       "64    Lori Hernandez  [(Request Published\\nPublic, , January 18, 202...  \n",
       "\n",
       "[65 rows x 7 columns]"
      ]
     },
     "metadata": {},
     "output_type": "display_data"
    }
   ],
   "source": [
    "sd_requests_df = pd.DataFrame(sd_requests)\n",
    "display(sd_requests_df)"
   ]
  },
  {
   "cell_type": "markdown",
   "id": "4339360a",
   "metadata": {},
   "source": [
    "**TO-DO**\n",
    "- Find HTML elements for the following: department name, request reason, points of contact (name of requester), documents\n",
    "- Modify loop to try and scrape all requests\n",
    "- Run on Google Colab?"
   ]
  }
 ],
 "metadata": {
  "kernelspec": {
   "display_name": "Python 3",
   "language": "python",
   "name": "python3"
  },
  "language_info": {
   "codemirror_mode": {
    "name": "ipython",
    "version": 3
   },
   "file_extension": ".py",
   "mimetype": "text/x-python",
   "name": "python",
   "nbconvert_exporter": "python",
   "pygments_lexer": "ipython3",
   "version": "3.8.8"
  }
 },
 "nbformat": 4,
 "nbformat_minor": 5
}