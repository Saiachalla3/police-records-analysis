{
 "cells": [
  {
   "cell_type": "markdown",
   "id": "7c0cadb9-2fa5-4db3-8884-2bae811997f8",
   "metadata": {},
   "source": [
    "# Validating the output data from the NextRequest scraper"
   ]
  },
  {
   "cell_type": "code",
   "execution_count": 6,
   "id": "2791f094-fc29-4a8c-9795-6bae2dafd208",
   "metadata": {},
   "outputs": [],
   "source": [
    "import pandas as pd\n",
    "import zipfile"
   ]
  },
  {
   "cell_type": "code",
   "execution_count": 7,
   "id": "f896f639-8012-4287-852d-6792dbebf17d",
   "metadata": {},
   "outputs": [
    {
     "data": {
      "text/html": [
       "<div>\n",
       "<style scoped>\n",
       "    .dataframe tbody tr th:only-of-type {\n",
       "        vertical-align: middle;\n",
       "    }\n",
       "\n",
       "    .dataframe tbody tr th {\n",
       "        vertical-align: top;\n",
       "    }\n",
       "\n",
       "    .dataframe thead th {\n",
       "        text-align: right;\n",
       "    }\n",
       "</style>\n",
       "<table border=\"1\" class=\"dataframe\">\n",
       "  <thead>\n",
       "    <tr style=\"text-align: right;\">\n",
       "      <th></th>\n",
       "      <th>id</th>\n",
       "      <th>status</th>\n",
       "      <th>desc</th>\n",
       "      <th>date</th>\n",
       "      <th>depts</th>\n",
       "      <th>docs</th>\n",
       "      <th>poc</th>\n",
       "      <th>msgs</th>\n",
       "    </tr>\n",
       "  </thead>\n",
       "  <tbody>\n",
       "    <tr>\n",
       "      <th>0</th>\n",
       "      <td>RT-1</td>\n",
       "      <td>CLOSED</td>\n",
       "      <td>I need a copy of the resolution declaring Febr...</td>\n",
       "      <td>June 12, 2013 via web</td>\n",
       "      <td>City Clerk</td>\n",
       "      <td>title,link\\nhttp://oakland.legistar.com/Legisl...</td>\n",
       "      <td>Nai Hang Phan</td>\n",
       "      <td>title,item,time\\n</td>\n",
       "    </tr>\n",
       "    <tr>\n",
       "      <th>1</th>\n",
       "      <td>RT-2</td>\n",
       "      <td>CLOSED</td>\n",
       "      <td>The 410's and 460's for Sean Sullivan's 2008 c...</td>\n",
       "      <td>June 12, 2013 via web</td>\n",
       "      <td>None Assigned</td>\n",
       "      <td>NaN</td>\n",
       "      <td>Staff</td>\n",
       "      <td>title,item,time\\n</td>\n",
       "    </tr>\n",
       "    <tr>\n",
       "      <th>2</th>\n",
       "      <td>RT-3</td>\n",
       "      <td>CLOSED</td>\n",
       "      <td>Please provide copies of the City Council Reso...</td>\n",
       "      <td>June 12, 2013 via web</td>\n",
       "      <td>City Clerk</td>\n",
       "      <td>title,link\\n82960_CMS.pdf,https://oaklandca.ne...</td>\n",
       "      <td>Nai Hang Phan</td>\n",
       "      <td>title,item,time\\n</td>\n",
       "    </tr>\n",
       "    <tr>\n",
       "      <th>3</th>\n",
       "      <td>RT-4</td>\n",
       "      <td>CLOSED</td>\n",
       "      <td>Inspect or obtain copies of public records tha...</td>\n",
       "      <td>June 19, 2013 via web</td>\n",
       "      <td>City Attorney</td>\n",
       "      <td>title,link\\nRosenberg_-_Request_4.pdf,https://...</td>\n",
       "      <td>Arlette Flores-Medina</td>\n",
       "      <td>title,item,time\\n</td>\n",
       "    </tr>\n",
       "    <tr>\n",
       "      <th>4</th>\n",
       "      <td>RT-5</td>\n",
       "      <td>CLOSED</td>\n",
       "      <td>Why was this made? I like the old site. I coul...</td>\n",
       "      <td>June 19, 2013 via web</td>\n",
       "      <td>City Attorney</td>\n",
       "      <td>title,link\\nnew_hire-Since-01-JUN-2012.xls,htt...</td>\n",
       "      <td>Arlette Flores-Medina</td>\n",
       "      <td>title,item,time\\n</td>\n",
       "    </tr>\n",
       "  </tbody>\n",
       "</table>\n",
       "</div>"
      ],
      "text/plain": [
       "     id  status                                               desc  \\\n",
       "0  RT-1  CLOSED  I need a copy of the resolution declaring Febr...   \n",
       "1  RT-2  CLOSED  The 410's and 460's for Sean Sullivan's 2008 c...   \n",
       "2  RT-3  CLOSED  Please provide copies of the City Council Reso...   \n",
       "3  RT-4  CLOSED  Inspect or obtain copies of public records tha...   \n",
       "4  RT-5  CLOSED  Why was this made? I like the old site. I coul...   \n",
       "\n",
       "                    date          depts  \\\n",
       "0  June 12, 2013 via web     City Clerk   \n",
       "1  June 12, 2013 via web  None Assigned   \n",
       "2  June 12, 2013 via web     City Clerk   \n",
       "3  June 19, 2013 via web  City Attorney   \n",
       "4  June 19, 2013 via web  City Attorney   \n",
       "\n",
       "                                                docs                    poc  \\\n",
       "0  title,link\\nhttp://oakland.legistar.com/Legisl...          Nai Hang Phan   \n",
       "1                                                NaN                  Staff   \n",
       "2  title,link\\n82960_CMS.pdf,https://oaklandca.ne...          Nai Hang Phan   \n",
       "3  title,link\\nRosenberg_-_Request_4.pdf,https://...  Arlette Flores-Medina   \n",
       "4  title,link\\nnew_hire-Since-01-JUN-2012.xls,htt...  Arlette Flores-Medina   \n",
       "\n",
       "                msgs  \n",
       "0  title,item,time\\n  \n",
       "1  title,item,time\\n  \n",
       "2  title,item,time\\n  \n",
       "3  title,item,time\\n  \n",
       "4  title,item,time\\n  "
      ]
     },
     "execution_count": 7,
     "metadata": {},
     "output_type": "execute_result"
    }
   ],
   "source": [
    "oakland = pd.read_csv(zipfile.ZipFile('../data/oaklandca_requests.zip', 'r').open('oaklandca_requests.csv'))\n",
    "oakland"
   ]
  },
  {
   "cell_type": "code",
   "execution_count": null,
   "id": "dbe63731-f6fb-40b5-bdc9-a0157331e6fd",
   "metadata": {},
   "outputs": [],
   "source": []
  }
 ],
 "metadata": {
  "kernelspec": {
   "display_name": "py38_default",
   "language": "python",
   "name": "conda-env-py38_default-py"
  },
  "language_info": {
   "codemirror_mode": {
    "name": "ipython",
    "version": 3
   },
   "file_extension": ".py",
   "mimetype": "text/x-python",
   "name": "python",
   "nbconvert_exporter": "python",
   "pygments_lexer": "ipython3",
   "version": "3.8.12"
  }
 },
 "nbformat": 4,
 "nbformat_minor": 5
}
