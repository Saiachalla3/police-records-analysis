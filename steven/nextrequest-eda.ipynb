{
 "cells": [
  {
   "cell_type": "markdown",
   "metadata": {},
   "source": [
    "# NextRequest data cleaning and EDA\n",
    "*Author: Steven Yuan*\n",
    "\n",
    "This notebook contains potentially useful data cleaning and EDA routines for scraped NextRequest data."
   ]
  },
  {
   "cell_type": "code",
   "execution_count": 4,
   "metadata": {},
   "outputs": [],
   "source": [
    "import pandas as pd\n",
    "import zipfile"
   ]
  },
  {
   "cell_type": "code",
   "execution_count": 5,
   "metadata": {},
   "outputs": [
    {
     "data": {
      "text/html": [
       "<div>\n",
       "<style scoped>\n",
       "    .dataframe tbody tr th:only-of-type {\n",
       "        vertical-align: middle;\n",
       "    }\n",
       "\n",
       "    .dataframe tbody tr th {\n",
       "        vertical-align: top;\n",
       "    }\n",
       "\n",
       "    .dataframe thead th {\n",
       "        text-align: right;\n",
       "    }\n",
       "</style>\n",
       "<table border=\"1\" class=\"dataframe\">\n",
       "  <thead>\n",
       "    <tr style=\"text-align: right;\">\n",
       "      <th></th>\n",
       "      <th>id</th>\n",
       "      <th>status</th>\n",
       "      <th>desc</th>\n",
       "      <th>date</th>\n",
       "      <th>depts</th>\n",
       "      <th>docs</th>\n",
       "      <th>poc</th>\n",
       "      <th>msgs</th>\n",
       "    </tr>\n",
       "  </thead>\n",
       "  <tbody>\n",
       "    <tr>\n",
       "      <th>0</th>\n",
       "      <td>15-1810</td>\n",
       "      <td>CLOSED</td>\n",
       "      <td>Notices of Violation/Notice to Comply, fire in...</td>\n",
       "      <td>December 7, 2015 via web</td>\n",
       "      <td>Code Enforcement</td>\n",
       "      <td>title,link\\n5040 ShorehamPlace building permit...</td>\n",
       "      <td>Ginger Rodriguez</td>\n",
       "      <td>title,item,time\\n\"Request Closed\\nPublic\",02. ...</td>\n",
       "    </tr>\n",
       "    <tr>\n",
       "      <th>1</th>\n",
       "      <td>15-1811</td>\n",
       "      <td>CLOSED</td>\n",
       "      <td>The October 2015 monthly report for SeaWorld</td>\n",
       "      <td>December 7, 2015 via web</td>\n",
       "      <td>Department of Real Estate and Airport Management</td>\n",
       "      <td>NaN</td>\n",
       "      <td>Jeffrey Wallace</td>\n",
       "      <td>title,item,time\\n\"Request Published\\nPublic\",,...</td>\n",
       "    </tr>\n",
       "    <tr>\n",
       "      <th>2</th>\n",
       "      <td>15-1812</td>\n",
       "      <td>CLOSED</td>\n",
       "      <td>Records related to the following BIDS:  Adams ...</td>\n",
       "      <td>December 7, 2015 via web</td>\n",
       "      <td>City Clerk</td>\n",
       "      <td>title,link\\nhttp://www.sandiego.gov/park-and-r...</td>\n",
       "      <td>Mailei Ross-Cerezo</td>\n",
       "      <td>title,item,time\\n\"Request Closed\\nPublic\",Stil...</td>\n",
       "    </tr>\n",
       "    <tr>\n",
       "      <th>3</th>\n",
       "      <td>15-1813</td>\n",
       "      <td>CLOSED</td>\n",
       "      <td>Historical lease payments made by SeaWorld to ...</td>\n",
       "      <td>December 7, 2015 via web</td>\n",
       "      <td>Department of Real Estate and Airport Management</td>\n",
       "      <td>NaN</td>\n",
       "      <td>Jeffrey Wallace</td>\n",
       "      <td>title,item,time\\n\"Request Closed\\nPublic\",02. ...</td>\n",
       "    </tr>\n",
       "    <tr>\n",
       "      <th>4</th>\n",
       "      <td>15-1814</td>\n",
       "      <td>CLOSED</td>\n",
       "      <td>Open violations, variances, ordinances, approv...</td>\n",
       "      <td>December 7, 2015 via web</td>\n",
       "      <td>Code Enforcement</td>\n",
       "      <td>title,link\\nSite Plan - 11943 El Camino Real.p...</td>\n",
       "      <td>Ginger Rodriguez</td>\n",
       "      <td>title,item,time\\n\"Request Closed\\nPublic\",02. ...</td>\n",
       "    </tr>\n",
       "  </tbody>\n",
       "</table>\n",
       "</div>"
      ],
      "text/plain": [
       "        id  status                                               desc  \\\n",
       "0  15-1810  CLOSED  Notices of Violation/Notice to Comply, fire in...   \n",
       "1  15-1811  CLOSED       The October 2015 monthly report for SeaWorld   \n",
       "2  15-1812  CLOSED  Records related to the following BIDS:  Adams ...   \n",
       "3  15-1813  CLOSED  Historical lease payments made by SeaWorld to ...   \n",
       "4  15-1814  CLOSED  Open violations, variances, ordinances, approv...   \n",
       "\n",
       "                       date                                             depts  \\\n",
       "0  December 7, 2015 via web                                  Code Enforcement   \n",
       "1  December 7, 2015 via web  Department of Real Estate and Airport Management   \n",
       "2  December 7, 2015 via web                                        City Clerk   \n",
       "3  December 7, 2015 via web  Department of Real Estate and Airport Management   \n",
       "4  December 7, 2015 via web                                  Code Enforcement   \n",
       "\n",
       "                                                docs                 poc  \\\n",
       "0  title,link\\n5040 ShorehamPlace building permit...    Ginger Rodriguez   \n",
       "1                                                NaN     Jeffrey Wallace   \n",
       "2  title,link\\nhttp://www.sandiego.gov/park-and-r...  Mailei Ross-Cerezo   \n",
       "3                                                NaN     Jeffrey Wallace   \n",
       "4  title,link\\nSite Plan - 11943 El Camino Real.p...    Ginger Rodriguez   \n",
       "\n",
       "                                                msgs  \n",
       "0  title,item,time\\n\"Request Closed\\nPublic\",02. ...  \n",
       "1  title,item,time\\n\"Request Published\\nPublic\",,...  \n",
       "2  title,item,time\\n\"Request Closed\\nPublic\",Stil...  \n",
       "3  title,item,time\\n\"Request Closed\\nPublic\",02. ...  \n",
       "4  title,item,time\\n\"Request Closed\\nPublic\",02. ...  "
      ]
     },
     "execution_count": 5,
     "metadata": {},
     "output_type": "execute_result"
    }
   ],
   "source": [
    "test_df = pd.read_csv(zipfile.ZipFile('data/sd_requests.zip', 'r').open('sd_requests.csv'))\n",
    "test_df.head()"
   ]
  },
  {
   "cell_type": "markdown",
   "metadata": {},
   "source": [
    "The following process converts the CSV strings in the `docs` and `msgs` columns into DataFrames:"
   ]
  },
  {
   "cell_type": "code",
   "execution_count": 3,
   "id": "085e7801",
   "metadata": {
    "collapsed": true,
    "pycharm": {
     "is_executing": true
    }
   },
   "outputs": [
    {
     "ename": "NameError",
     "evalue": "name 'test_df' is not defined",
     "output_type": "error",
     "traceback": [
      "\u001B[0;31m---------------------------------------------------------------------------\u001B[0m",
      "\u001B[0;31mNameError\u001B[0m                                 Traceback (most recent call last)",
      "\u001B[0;32m<ipython-input-3-cb60bdc84903>\u001B[0m in \u001B[0;36m<module>\u001B[0;34m\u001B[0m\n\u001B[1;32m      1\u001B[0m \u001B[0mdf_fillna\u001B[0m \u001B[0;34m=\u001B[0m \u001B[0;32mlambda\u001B[0m \u001B[0mdf\u001B[0m\u001B[0;34m:\u001B[0m \u001B[0mdf\u001B[0m\u001B[0;34m.\u001B[0m\u001B[0mconvert_dtypes\u001B[0m\u001B[0;34m(\u001B[0m\u001B[0;34m)\u001B[0m\u001B[0;34m.\u001B[0m\u001B[0mfillna\u001B[0m\u001B[0;34m(\u001B[0m\u001B[0;34m''\u001B[0m\u001B[0;34m)\u001B[0m \u001B[0;32mif\u001B[0m \u001B[0mdf\u001B[0m \u001B[0;32mis\u001B[0m \u001B[0;32mnot\u001B[0m \u001B[0;32mNone\u001B[0m \u001B[0;32melse\u001B[0m \u001B[0;32mNone\u001B[0m\u001B[0;34m\u001B[0m\u001B[0;34m\u001B[0m\u001B[0m\n\u001B[0;32m----> 2\u001B[0;31m \u001B[0mtest_df\u001B[0m \u001B[0;34m=\u001B[0m \u001B[0mdf_fillna\u001B[0m\u001B[0;34m(\u001B[0m\u001B[0mtest_df\u001B[0m\u001B[0;34m)\u001B[0m\u001B[0;34m\u001B[0m\u001B[0;34m\u001B[0m\u001B[0m\n\u001B[0m\u001B[1;32m      3\u001B[0m \u001B[0mtest_df\u001B[0m\u001B[0;34m\u001B[0m\u001B[0;34m\u001B[0m\u001B[0m\n",
      "\u001B[0;31mNameError\u001B[0m: name 'test_df' is not defined"
     ]
    }
   ],
   "source": [
    "df_fillna = lambda df: df.convert_dtypes().fillna('') if df is not None else None\n",
    "test_df = df_fillna(test_df)\n",
    "test_df"
   ]
  },
  {
   "cell_type": "code",
   "execution_count": null,
   "id": "e45a23a1",
   "metadata": {
    "collapsed": true,
    "pycharm": {
     "is_executing": true
    }
   },
   "outputs": [],
   "source": [
    "csv_to_df = lambda csv: pd.read_csv(StringIO(csv)) if csv else None\n",
    "test_df['docs_df'] = test_df['docs'].apply(csv_to_df)\n",
    "test_df['msgs_df'] = test_df['msgs'].apply(csv_to_df)\n",
    "test_df.head()"
   ]
  },
  {
   "cell_type": "markdown",
   "id": "72abc861",
   "metadata": {},
   "source": [
    "Then, we fill the NA values in the individual `docs` and `msgs` DataFrames:"
   ]
  },
  {
   "cell_type": "code",
   "execution_count": null,
   "id": "54545cbb",
   "metadata": {
    "collapsed": true,
    "pycharm": {
     "is_executing": true
    }
   },
   "outputs": [],
   "source": [
    "test_df['docs_df'] = test_df['docs_df'].apply(df_fillna)\n",
    "test_df['msgs_df'] = test_df['msgs_df'].apply(df_fillna)\n",
    "test_df.loc[4]['msgs_df']"
   ]
  },
  {
   "cell_type": "markdown",
   "id": "e11b2edc",
   "metadata": {},
   "source": [
    "Other EDA stuff:"
   ]
  },
  {
   "cell_type": "code",
   "execution_count": null,
   "id": "23198310",
   "metadata": {
    "collapsed": true,
    "pycharm": {
     "is_executing": true
    }
   },
   "outputs": [],
   "source": [
    "test_df.head()"
   ]
  },
  {
   "cell_type": "code",
   "execution_count": null,
   "id": "452a452f",
   "metadata": {
    "collapsed": true,
    "pycharm": {
     "is_executing": true
    }
   },
   "outputs": [],
   "source": [
    "test_df.shape[0] # Number of requests scraped"
   ]
  },
  {
   "cell_type": "code",
   "execution_count": null,
   "id": "215499ef",
   "metadata": {
    "collapsed": true,
    "pycharm": {
     "is_executing": true
    }
   },
   "outputs": [],
   "source": [
    "test_df[test_df['desc'].str.contains('Read more')] # Check if the descriptions were properly scraped"
   ]
  },
  {
   "cell_type": "code",
   "execution_count": null,
   "id": "7dc85ea8",
   "metadata": {
    "pycharm": {
     "is_executing": true
    }
   },
   "outputs": [],
   "source": [
    "empty_desc = test_df.query('desc == \"\"')\n",
    "empty_desc"
   ]
  },
  {
   "cell_type": "code",
   "execution_count": null,
   "id": "89ee706e",
   "metadata": {
    "collapsed": true,
    "pycharm": {
     "is_executing": true
    }
   },
   "outputs": [],
   "source": [
    "# Check for empty depts field\n",
    "empty_depts = test_df.query('depts == \"\"')\n",
    "empty_depts"
   ]
  },
  {
   "cell_type": "code",
   "execution_count": null,
   "id": "1faa3e38",
   "metadata": {
    "collapsed": true,
    "pycharm": {
     "is_executing": true
    }
   },
   "outputs": [],
   "source": [
    "# Check for empty docs field\n",
    "empty_docs = test_df[test_df['docs'].str.fullmatch('title,link\\n')]\n",
    "empty_docs"
   ]
  },
  {
   "cell_type": "code",
   "execution_count": null,
   "id": "71f8e06a",
   "metadata": {
    "collapsed": true,
    "pycharm": {
     "is_executing": true
    }
   },
   "outputs": [],
   "source": [
    "# Which requests had the longest message history? (Useful for finding worst-case scenarios for the scraper)\n",
    "long_msgs = test_df['msgs_df'].apply(lambda df: df.shape[0] if df is not None else 0).sort_values(ascending=False)\n",
    "long_msgs.head(10)"
   ]
  },
  {
   "cell_type": "code",
   "execution_count": null,
   "id": "078462ff",
   "metadata": {
    "collapsed": true,
    "pycharm": {
     "is_executing": true
    }
   },
   "outputs": [],
   "source": [
    "# Sort requests by message history length\n",
    "requests_long_msg = test_df.loc[long_msgs.index]\n",
    "requests_long_msg.head(20)"
   ]
  },
  {
   "cell_type": "code",
   "execution_count": null,
   "id": "c817edd8",
   "metadata": {
    "collapsed": true,
    "pycharm": {
     "is_executing": true
    }
   },
   "outputs": [],
   "source": [
    "# Query for info about a specific request\n",
    "request_id = '\"17-3638\"'\n",
    "test_df.query('id == ' + request_id).iloc[0]['msgs_df']"
   ]
  },
  {
   "cell_type": "code",
   "execution_count": null,
   "id": "761620f1",
   "metadata": {
    "collapsed": true,
    "pycharm": {
     "is_executing": true
    }
   },
   "outputs": [],
   "source": [
    "# Find request descriptions with the given substring, case insensitive\n",
    "desc = 'Padres'\n",
    "test_df[test_df['desc'].str.contains(desc, case=False)]"
   ]
  },
  {
   "cell_type": "code",
   "execution_count": null,
   "id": "373c3c23",
   "metadata": {
    "collapsed": true,
    "pycharm": {
     "is_executing": true
    }
   },
   "outputs": [],
   "source": [
    "# Find requests whose department(s) contain the given substring, case insensitive\n",
    "dept = 'Police'\n",
    "test_df[test_df['depts'].str.contains(dept, case=False)]"
   ]
  },
  {
   "cell_type": "code",
   "execution_count": null,
   "id": "452c6717",
   "metadata": {
    "collapsed": true,
    "pycharm": {
     "is_executing": true
    }
   },
   "outputs": [],
   "source": [
    "# Convert empty dataframes from docs_df into None\n",
    "remove_empty = lambda df: None if ((df is None) or (type(df) == str and not df) or df.empty) else df\n",
    "test_df['docs_df'] = test_df['docs_df'].apply(remove_empty)\n",
    "test_df[test_df['docs'].str.fullmatch('title,link\\n')]"
   ]
  },
  {
   "cell_type": "code",
   "execution_count": null,
   "id": "05e431e9",
   "metadata": {
    "collapsed": true,
    "pycharm": {
     "is_executing": true
    }
   },
   "outputs": [],
   "source": [
    "# Split the date and request method from the date column\n",
    "dates = test_df['date'].to_numpy()\n",
    "test_df = test_df.join(\n",
    "        pd.DataFrame(list(map(lambda x: x.split(' via '), dates)))\n",
    "    ).drop(\n",
    "        columns='date'\n",
    "    ).rename(\n",
    "        columns={0: 'date', 1: 'via'}\n",
    "    ).convert_dtypes()\n",
    "test_df.head()"
   ]
  },
  {
   "cell_type": "code",
   "execution_count": null,
   "id": "3d0984e4",
   "metadata": {
    "collapsed": true,
    "pycharm": {
     "is_executing": true
    }
   },
   "outputs": [],
   "source": [
    "# Split the time and author from the time quote on each message\n",
    "def split_time_author(msgs):\n",
    "    if msgs is None:\n",
    "        return None\n",
    "    time_quotes = msgs['time'].to_numpy()\n",
    "    time_author = pd.DataFrame(list(map(lambda x: x.split(' by '), time_quotes)))\n",
    "    return df_fillna(msgs.join(\n",
    "            time_author\n",
    "        ).drop(\n",
    "            columns='time'\n",
    "        ).rename(\n",
    "            columns={0: 'time', 1: 'by'}\n",
    "        ))\n",
    "\n",
    "test_df['msgs_df'] = test_df['msgs_df'].apply(split_time_author)\n",
    "test_df.loc[4]['msgs_df']"
   ]
  },
  {
   "cell_type": "code",
   "execution_count": null,
   "id": "9237034b",
   "metadata": {
    "pycharm": {
     "is_executing": true
    }
   },
   "outputs": [],
   "source": [
    "# Convert columns with time strings into DateTime\n",
    "def convert_time_to_dt(df, col='time'):\n",
    "    return df.assign(**{col + '_dt': pd.to_datetime(df[col])})"
   ]
  },
  {
   "cell_type": "code",
   "execution_count": null,
   "id": "b3c9b3d7",
   "metadata": {
    "collapsed": true,
    "pycharm": {
     "is_executing": true
    }
   },
   "outputs": [],
   "source": [
    "# Splitting departments for easier pivoting\n",
    "depts = test_df['depts'].to_numpy() # depts column\n",
    "test_df_depts = test_df.join(pd.DataFrame(list(map(lambda x: x.split(', '), depts)))) # Split departments into separate columns\n",
    "test_df_depts = test_df_depts.melt( # Melt on the individual departments\n",
    "        id_vars=test_df.columns\n",
    "    )[lambda df: df['value'].apply(lambda x: x is not None)].drop( # Get rid of None values\n",
    "        columns='variable'\n",
    "    ).rename( # Drop the variable column, rename the value column, and reset indices\n",
    "        columns={'value': 'dept'}\n",
    "    ).reset_index().drop(\n",
    "        columns='index'\n",
    "    )\n",
    "test_df_depts"
   ]
  },
  {
   "cell_type": "code",
   "execution_count": null,
   "id": "dadc38a4",
   "metadata": {
    "pycharm": {
     "is_executing": true
    },
    "scrolled": true
   },
   "outputs": [],
   "source": [
    "test_df_depts.value_counts('dept')[lambda x: x.index.str.contains('Office', case=False)]"
   ]
  },
  {
   "cell_type": "code",
   "execution_count": null,
   "id": "0d36e1b0",
   "metadata": {
    "pycharm": {
     "is_executing": true
    }
   },
   "outputs": [],
   "source": [
    "# Find requests whose department(s) contain the given substring, case insensitive\n",
    "dept = 'Chief Operating Officer'\n",
    "test_df[test_df['depts'].str.contains(dept, case=False)]"
   ]
  },
  {
   "cell_type": "code",
   "execution_count": null,
   "id": "46e021fc",
   "metadata": {
    "collapsed": true,
    "pycharm": {
     "is_executing": true
    }
   },
   "outputs": [],
   "source": [
    "test_df = test_df.convert_dtypes()\n",
    "test_df.loc[0]['msgs_df']"
   ]
  },
  {
   "cell_type": "code",
   "execution_count": null,
   "id": "5315e747",
   "metadata": {
    "pycharm": {
     "is_executing": true
    }
   },
   "outputs": [],
   "source": [
    "test.loc[0]"
   ]
  },
  {
   "cell_type": "code",
   "execution_count": null,
   "metadata": {
    "collapsed": true
   },
   "outputs": [],
   "source": []
  }
 ],
 "metadata": {
  "kernelspec": {
   "display_name": "Python 3",
   "language": "python",
   "name": "python3"
  },
  "language_info": {
   "codemirror_mode": {
    "name": "ipython",
    "version": 3
   },
   "file_extension": ".py",
   "mimetype": "text/x-python",
   "name": "python",
   "nbconvert_exporter": "python",
   "pygments_lexer": "ipython3",
   "version": "3.8.8"
  }
 },
 "nbformat": 4,
 "nbformat_minor": 1
}